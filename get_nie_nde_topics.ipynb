{
 "cells": [
  {
   "cell_type": "code",
   "execution_count": 43,
   "id": "4e514d22",
   "metadata": {},
   "outputs": [],
   "source": [
    "import pandas as pd"
   ]
  },
  {
   "cell_type": "code",
   "execution_count": 44,
   "id": "da868366",
   "metadata": {},
   "outputs": [],
   "source": [
    "text = pd.read_csv(\"results/text/text_total_cate.csv\")"
   ]
  },
  {
   "cell_type": "code",
   "execution_count": 45,
   "id": "8e7894e6",
   "metadata": {},
   "outputs": [],
   "source": [
    "import pandas as pd\n",
    "import numpy as np\n",
    "import pandas as pd\n",
    "\n",
    "def round_sig(x, sig=4):\n",
    "    if pd.isnull(x) or x == 0:\n",
    "        return x\n",
    "    return round(x, sig - int(np.floor(np.log10(abs(x)))) - 1)\n",
    "\n",
    "for row in text.itertuples():\n",
    "\n",
    "    test_0 = ast.literal_eval(row.left)['Present']\n",
    "    test_1 = ast.literal_eval(row.center)['Present']\n",
    "    test_2 = ast.literal_eval(row.right)['Present']\n",
    "\n",
    "    dct = {\n",
    "        '0' : test_0,\n",
    "        '1' : test_1,\n",
    "        '2' : test_2\n",
    "    }\n",
    "\n",
    "    df = pd.DataFrame.from_dict(dct)\n",
    "\n",
    "    # Apply to all float columns\n",
    "    for col in df.select_dtypes(include='float'):\n",
    "        df[col] = df[col].apply(lambda x: round_sig(x, sig=4))\n",
    "\n",
    "    title = row.topic.replace(\"sentiment \", \"\").replace(\" \", \"_\")\n",
    "\n",
    "    df.to_csv(f\"results/text/{title}_cate.csv\")\n"
   ]
  },
  {
   "cell_type": "code",
   "execution_count": 46,
   "id": "c8409698",
   "metadata": {},
   "outputs": [
    {
     "data": {
      "text/plain": [
       "{'topic FBI': 3.243068549117774,\n",
       " 'topic Clinton Emails': 2.626774896938028,\n",
       " 'topic Special Master': -2.3288814662502832,\n",
       " 'topic Affidavit': -2.3288814662502832,\n",
       " 'topic Andrew McCabe': 1.913982092854696,\n",
       " 'topic Jack Smith': -1.8313075223479818,\n",
       " 'topic Michael Horowitz': 1.7380516812436886,\n",
       " 'topic Donald Trump': -1.6951765252590996,\n",
       " 'topic Trump Indictments': -1.6861448742463359,\n",
       " 'topic Justice': -1.446582343761347}"
      ]
     },
     "execution_count": 46,
     "metadata": {},
     "output_type": "execute_result"
    }
   ],
   "source": [
    "ast.literal_eval(row.left)['Present']"
   ]
  },
  {
   "cell_type": "code",
   "execution_count": 55,
   "id": "af8f0e4d",
   "metadata": {},
   "outputs": [],
   "source": [
    "df1 = pd.read_csv(\"results/text/Donald_Trump_cate.csv\", names=['topic', '0_text', '1_text', '2_text'])\n",
    "df2 = pd.read_csv(\"results/summary_50/Donald_Trump_cate.csv\", names=['topic', '0_summary_100', '1_summary_100', '2_summary_100'])\n",
    "df3 = pd.read_csv(\"results/summary_100/Donald_Trump_cate.csv\", names=['topic', '0_summary_50', '1_summary_50', '2_summary_50'])"
   ]
  },
  {
   "cell_type": "code",
   "execution_count": 56,
   "id": "6e0511a3",
   "metadata": {},
   "outputs": [],
   "source": [
    "dfs = [df1, df2, df3]\n",
    "\n",
    "merged_df = dfs[0]\n",
    "for df in dfs[1:]:\n",
    "    merged_df = pd.merge(merged_df, df, on='topic', how='outer')"
   ]
  },
  {
   "cell_type": "code",
   "execution_count": 58,
   "id": "1209b6f8",
   "metadata": {},
   "outputs": [],
   "source": [
    "features = pd.read_csv(\"features/sentiments/gain.csv\")['feature']"
   ]
  },
  {
   "cell_type": "code",
   "execution_count": null,
   "id": "5e1a5a32",
   "metadata": {},
   "outputs": [],
   "source": [
    "for feature in features:\n",
    "    topic = feature.replace(\"sentiment \", \"\").replace(\" \", \"_\")\n",
    "    df1 = pd.read_csv(f\"results/text/{topic}_cate.csv\", names=['topic', '0_text', '1_text', '2_text'])\n",
    "    df2 = pd.read_csv(f\"results/summary_50/{topic}_cate.csv\", names=['topic', '0_summary_100', '1_summary_100', '2_summary_100'])\n",
    "    df3 = pd.read_csv(f\"results/summary_100/{topic}_cate.csv\", names=['topic', '0_summary_50', '1_summary_50', '2_summary_50'])\n",
    "\n",
    "    dfs = [df1, df2, df3]\n",
    "\n",
    "    merged_df = dfs[0]\n",
    "    for df in dfs[1:]:\n",
    "        merged_df = pd.merge(merged_df, df, on='topic', how='outer')\n",
    "\n",
    "    merged_df.to_csv(f\"results/cate_topics/{topic}_merged.csv\", index=False)"
   ]
  }
 ],
 "metadata": {
  "kernelspec": {
   "display_name": "conda_env",
   "language": "python",
   "name": "python3"
  },
  "language_info": {
   "codemirror_mode": {
    "name": "ipython",
    "version": 3
   },
   "file_extension": ".py",
   "mimetype": "text/x-python",
   "name": "python",
   "nbconvert_exporter": "python",
   "pygments_lexer": "ipython3",
   "version": "3.12.9"
  }
 },
 "nbformat": 4,
 "nbformat_minor": 5
}
