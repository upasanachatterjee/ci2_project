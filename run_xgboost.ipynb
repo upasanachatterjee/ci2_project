{
 "cells": [
  {
   "cell_type": "code",
   "execution_count": 9,
   "id": "4ba5fc48",
   "metadata": {},
   "outputs": [],
   "source": [
    "# import torch\n",
    "\n",
    "# device = 'cuda' if torch.cuda.is_available() else 'cpu'\n",
    "device = 'cpu'"
   ]
  },
  {
   "cell_type": "code",
   "execution_count": 10,
   "id": "74f52d25",
   "metadata": {},
   "outputs": [],
   "source": [
    "import pandas as pd\n",
    "from sklearn.metrics import classification_report"
   ]
  },
  {
   "cell_type": "code",
   "execution_count": 11,
   "id": "9c4cbdb4",
   "metadata": {},
   "outputs": [],
   "source": [
    "import pandas as pd\n",
    "summary_50_train_x_df = pd.read_parquet(\"df/summary_50_train_df_x.gzip\")\n",
    "summary_100_train_x_df = pd.read_parquet(\"df/summary_100_train_df_x.gzip\")\n",
    "text_train_x_df = pd.read_parquet(\"df/text_train_df_x.gzip\")\n",
    "\n",
    "summary_50_train_df_y = pd.read_parquet(\"df/summary_50_train_df_y.gzip\")\n",
    "summary_100_train_df_y = pd.read_parquet(\"df/summary_100_train_df_y.gzip\")\n",
    "text_train_df_y = pd.read_parquet(\"df/text_train_df_y.gzip\")\n",
    "\n",
    "\n",
    "summary_50_test_x_df = pd.read_parquet(\"df/summary_50_test_df_x.gzip\")\n",
    "summary_100_test_x_df = pd.read_parquet(\"df/summary_100_test_df_x.gzip\")\n",
    "text_test_x_df = pd.read_parquet(\"df/text_test_df_x.gzip\")\n",
    "\n",
    "summary_50_test_df_y = pd.read_parquet(\"df/summary_50_test_df_y.gzip\")\n",
    "summary_100_test_df_y = pd.read_parquet(\"df/summary_100_test_df_y.gzip\")\n",
    "text_test_df_y = pd.read_parquet(\"df/text_test_df_y.gzip\")"
   ]
  },
  {
   "cell_type": "code",
   "execution_count": 12,
   "id": "69f78cb2",
   "metadata": {},
   "outputs": [],
   "source": [
    "from xgboost import XGBClassifier\n",
    "\n",
    "device = 'cpu'\n",
    "def run_classifier(X_train, Y_train, X_test, Y_test, save_file=None):\n",
    "    model = XGBClassifier(\n",
    "        objective='multi:softprob',  # outputs class probabilities\n",
    "        num_class=3,\n",
    "        max_depth=8,                # Avoid extreme depth like 128\n",
    "        tree_method='hist',     # Use GPU if available\n",
    "        predictor='gpu_predictor',  # Use GPU for inference\n",
    "        use_label_encoder=False,    # suppress warning\n",
    "        eval_metric='mlogloss',\n",
    "        device=device\n",
    "    )\n",
    "\n",
    "    model.fit(X_train, Y_train)\n",
    "\n",
    "    # # Predict probabilities for each class\n",
    "    # probs = model.predict_proba(X_test_updated)\n",
    "\n",
    "    # Predict class labels\n",
    "    preds = model.predict(X_test)\n",
    "\n",
    "    print(classification_report(Y_test, preds, digits=4))\n",
    "\n",
    "    if save_file:\n",
    "        model.save_model(save_file)\n",
    "\n",
    "    return model"
   ]
  },
  {
   "cell_type": "code",
   "execution_count": 18,
   "id": "02c22de0-ab28-4e4c-80dd-aadd8ff9bfb9",
   "metadata": {},
   "outputs": [
    {
     "name": "stderr",
     "output_type": "stream",
     "text": [
      "/Users/upasana/code/playground/ci2_proj/.venv/lib/python3.12/site-packages/xgboost/training.py:183: UserWarning: [22:18:29] WARNING: /Users/runner/work/xgboost/xgboost/src/learner.cc:738: \n",
      "Parameters: { \"predictor\", \"use_label_encoder\" } are not used.\n",
      "\n",
      "  bst.update(dtrain, iteration=i, fobj=obj)\n"
     ]
    },
    {
     "name": "stdout",
     "output_type": "stream",
     "text": [
      "              precision    recall  f1-score   support\n",
      "\n",
      "         0.0     0.4506    0.9622    0.6137      3679\n",
      "         1.0     0.9017    0.0708    0.1313      2203\n",
      "         2.0     0.6395    0.2006    0.3054      3130\n",
      "\n",
      "    accuracy                         0.4798      9012\n",
      "   macro avg     0.6639    0.4112    0.3502      9012\n",
      "weighted avg     0.6265    0.4798    0.3887      9012\n",
      "\n"
     ]
    }
   ],
   "source": [
    "# summary 100\n",
    "\n",
    "model = run_classifier(\n",
    "    X_train=text_train_x_df[[c for c in text_train_x_df.columns if c.startswith(\"topic\") or c.startswith(\"sentiment\")]], \n",
    "    Y_train=text_train_df_y,\n",
    "    X_test=text_test_x_df[[c for c in text_train_x_df.columns if c.startswith(\"topic\") or c.startswith(\"sentiment\")]],\n",
    "    Y_test=text_test_df_y,\n",
    "    save_file=\"models/xgb_no_text_text_softprob.json\"\n",
    "\n",
    ")"
   ]
  },
  {
   "cell_type": "code",
   "execution_count": null,
   "id": "a7606b72",
   "metadata": {},
   "outputs": [],
   "source": [
    "# monkey patch\n",
    "booster = model.get_booster() \n",
    "model_bytearray = booster.save_raw()[4:]\n",
    "booster.save_raw = lambda : model_bytearray"
   ]
  },
  {
   "cell_type": "code",
   "execution_count": 38,
   "id": "7fc21f2b",
   "metadata": {},
   "outputs": [],
   "source": [
    "model = XGBClassifier()\n",
    "model.load_model(\"models/xgb_text_softprob.json\")"
   ]
  },
  {
   "cell_type": "code",
   "execution_count": 39,
   "id": "591f80c3",
   "metadata": {},
   "outputs": [],
   "source": [
    "import shap\n",
    "explainer = shap.TreeExplainer(model)\n",
    "shap_values = explainer(text_train_x_df)\n",
    "shap_values = shap_values.values"
   ]
  },
  {
   "cell_type": "code",
   "execution_count": 40,
   "id": "c65bc796",
   "metadata": {},
   "outputs": [],
   "source": [
    "sentiment_indices = [i for i, col in enumerate(text_train_x_df.columns) if col.startswith(\"sentiment\")]"
   ]
  },
  {
   "cell_type": "code",
   "execution_count": 41,
   "id": "be06d4b4",
   "metadata": {},
   "outputs": [
    {
     "name": "stdout",
     "output_type": "stream",
     "text": [
      "                            feature  mean_abs_shap\n",
      "2060        sentiment Supreme Court       0.000474\n",
      "2206             sentiment US House       0.000425\n",
      "1177            sentiment Joe Biden       0.000417\n",
      "683          sentiment Donald Trump       0.000370\n",
      "872           sentiment Free Speech       0.000343\n",
      "2283  sentiment Violence In America       0.000343\n",
      "1715             sentiment Politics       0.000196\n",
      "221        sentiment Bernie Sanders       0.000186\n",
      "988            sentiment Healthcare       0.000134\n",
      "1832     sentiment Republican Party       0.000117\n"
     ]
    }
   ],
   "source": [
    "import pandas as pd\n",
    "import numpy as np\n",
    "\n",
    "# Step 1: Extract subset of SHAP values for sentiment features\n",
    "shap_subset = shap_values[:, sentiment_indices, :]  # shape: (n_samples, n_sentiment_features, 3)\n",
    "\n",
    "# Step 2: Mean absolute SHAP across samples and classes\n",
    "mean_abs_shap = np.abs(shap_subset).mean(axis=(0, 2))  # shape: (n_sentiment_features,)\n",
    "\n",
    "# Step 3: Map back to feature names\n",
    "top_features_df = pd.DataFrame({\n",
    "    \"feature\": text_train_x_df.columns[sentiment_indices],\n",
    "    \"mean_abs_shap\": mean_abs_shap\n",
    "})\n",
    "\n",
    "# Step 4: Sort and get top 10\n",
    "top_10 = top_features_df.sort_values(by=\"mean_abs_shap\", ascending=False).head(10)\n",
    "print(top_10)"
   ]
  },
  {
   "cell_type": "code",
   "execution_count": 45,
   "id": "fefd9463",
   "metadata": {},
   "outputs": [
    {
     "data": {
      "text/html": [
       "<div>\n",
       "<style scoped>\n",
       "    .dataframe tbody tr th:only-of-type {\n",
       "        vertical-align: middle;\n",
       "    }\n",
       "\n",
       "    .dataframe tbody tr th {\n",
       "        vertical-align: top;\n",
       "    }\n",
       "\n",
       "    .dataframe thead th {\n",
       "        text-align: right;\n",
       "    }\n",
       "</style>\n",
       "<table border=\"1\" class=\"dataframe\">\n",
       "  <thead>\n",
       "    <tr style=\"text-align: right;\">\n",
       "      <th></th>\n",
       "      <th>feature</th>\n",
       "      <th>mean_abs_shap</th>\n",
       "    </tr>\n",
       "  </thead>\n",
       "  <tbody>\n",
       "    <tr>\n",
       "      <th>2060</th>\n",
       "      <td>sentiment Supreme Court</td>\n",
       "      <td>0.000474</td>\n",
       "    </tr>\n",
       "    <tr>\n",
       "      <th>2206</th>\n",
       "      <td>sentiment US House</td>\n",
       "      <td>0.000425</td>\n",
       "    </tr>\n",
       "    <tr>\n",
       "      <th>1177</th>\n",
       "      <td>sentiment Joe Biden</td>\n",
       "      <td>0.000417</td>\n",
       "    </tr>\n",
       "    <tr>\n",
       "      <th>683</th>\n",
       "      <td>sentiment Donald Trump</td>\n",
       "      <td>0.000370</td>\n",
       "    </tr>\n",
       "    <tr>\n",
       "      <th>872</th>\n",
       "      <td>sentiment Free Speech</td>\n",
       "      <td>0.000343</td>\n",
       "    </tr>\n",
       "    <tr>\n",
       "      <th>2283</th>\n",
       "      <td>sentiment Violence In America</td>\n",
       "      <td>0.000343</td>\n",
       "    </tr>\n",
       "    <tr>\n",
       "      <th>1715</th>\n",
       "      <td>sentiment Politics</td>\n",
       "      <td>0.000196</td>\n",
       "    </tr>\n",
       "    <tr>\n",
       "      <th>221</th>\n",
       "      <td>sentiment Bernie Sanders</td>\n",
       "      <td>0.000186</td>\n",
       "    </tr>\n",
       "    <tr>\n",
       "      <th>988</th>\n",
       "      <td>sentiment Healthcare</td>\n",
       "      <td>0.000134</td>\n",
       "    </tr>\n",
       "    <tr>\n",
       "      <th>1832</th>\n",
       "      <td>sentiment Republican Party</td>\n",
       "      <td>0.000117</td>\n",
       "    </tr>\n",
       "  </tbody>\n",
       "</table>\n",
       "</div>"
      ],
      "text/plain": [
       "                            feature  mean_abs_shap\n",
       "2060        sentiment Supreme Court       0.000474\n",
       "2206             sentiment US House       0.000425\n",
       "1177            sentiment Joe Biden       0.000417\n",
       "683          sentiment Donald Trump       0.000370\n",
       "872           sentiment Free Speech       0.000343\n",
       "2283  sentiment Violence In America       0.000343\n",
       "1715             sentiment Politics       0.000196\n",
       "221        sentiment Bernie Sanders       0.000186\n",
       "988            sentiment Healthcare       0.000134\n",
       "1832     sentiment Republican Party       0.000117"
      ]
     },
     "execution_count": 45,
     "metadata": {},
     "output_type": "execute_result"
    }
   ],
   "source": [
    "top_features_df.sort_values(by=\"mean_abs_shap\", ascending=False).head(10)"
   ]
  },
  {
   "cell_type": "code",
   "execution_count": 55,
   "id": "0b6b5708",
   "metadata": {},
   "outputs": [
    {
     "data": {
      "text/plain": [
       "['shap_explanation_text.pkl']"
      ]
     },
     "execution_count": 55,
     "metadata": {},
     "output_type": "execute_result"
    }
   ],
   "source": [
    "import joblib\n",
    "\n",
    "joblib.dump(shap_subset, \"shap_explanation_text.pkl\")"
   ]
  },
  {
   "cell_type": "code",
   "execution_count": 68,
   "id": "86dffda5",
   "metadata": {},
   "outputs": [],
   "source": [
    "import numpy as np\n",
    "import pandas as pd\n",
    "\n",
    "def compute_grouped_shap_importance_3d(shap_values, feature_names):\n",
    "    \"\"\"\n",
    "    Computes average absolute SHAP importance per group for each class.\n",
    "    \n",
    "    Args:\n",
    "        shap_values (np.ndarray): SHAP values with shape (n_samples, n_features, n_classes)\n",
    "        feature_names (List[str]): List of feature names (length = n_features)\n",
    "    \n",
    "    Returns:\n",
    "        pd.DataFrame: Grouped importance per class\n",
    "    \"\"\"\n",
    "    # Absolute mean SHAP per feature per class: shape (n_features, n_classes)\n",
    "    mean_abs_shap = np.abs(shap_values).mean(axis=0)\n",
    "\n",
    "    # Map feature indices to groups\n",
    "    groups = {'sentiment': [], 'topic': [], 'text': []}\n",
    "    for i, name in enumerate(feature_names):\n",
    "        if name.startswith(\"sentiment\"):\n",
    "            groups[\"sentiment\"].append(i)\n",
    "        elif name.startswith(\"topic\"):\n",
    "            groups[\"topic\"].append(i)\n",
    "        else:\n",
    "            groups[\"text\"].append(i)\n",
    "\n",
    "    # Compute group-wise average SHAP for each class\n",
    "    group_importance = {}\n",
    "    for group, indices in groups.items():\n",
    "        if indices:\n",
    "            # shape (len(indices), n_classes) → mean over features → (n_classes,)\n",
    "            group_avg = mean_abs_shap[indices].mean(axis=0)\n",
    "            group_importance[group] = group_avg\n",
    "\n",
    "    # Convert to DataFrame for easy viewing\n",
    "    pd.set_option(\"display.float_format\", lambda x: f\"{x:.8f}\")\n",
    "    importance_df = pd.DataFrame(group_importance)\n",
    "    importance_df.index.name = \"class\"\n",
    "    return importance_df\n"
   ]
  },
  {
   "cell_type": "code",
   "execution_count": null,
   "id": "b78bdaf8",
   "metadata": {},
   "outputs": [],
   "source": [
    "compute_grouped_shap_importance_3d(shap_values, text_train_x_df.columns).to_csv(\"text_average_shap_feature_importance.csv\")"
   ]
  },
  {
   "cell_type": "code",
   "execution_count": 1,
   "id": "e68280d2",
   "metadata": {},
   "outputs": [
    {
     "name": "stdout",
     "output_type": "stream",
     "text": [
      "Requirement already satisfied: seaborn in ./.venv/lib/python3.12/site-packages (0.13.2)\n",
      "Requirement already satisfied: numpy!=1.24.0,>=1.20 in ./.venv/lib/python3.12/site-packages (from seaborn) (2.2.5)\n",
      "Requirement already satisfied: pandas>=1.2 in ./.venv/lib/python3.12/site-packages (from seaborn) (2.2.3)\n",
      "Requirement already satisfied: matplotlib!=3.6.1,>=3.4 in ./.venv/lib/python3.12/site-packages (from seaborn) (3.10.3)\n",
      "Requirement already satisfied: contourpy>=1.0.1 in ./.venv/lib/python3.12/site-packages (from matplotlib!=3.6.1,>=3.4->seaborn) (1.3.2)\n",
      "Requirement already satisfied: cycler>=0.10 in ./.venv/lib/python3.12/site-packages (from matplotlib!=3.6.1,>=3.4->seaborn) (0.12.1)\n",
      "Requirement already satisfied: fonttools>=4.22.0 in ./.venv/lib/python3.12/site-packages (from matplotlib!=3.6.1,>=3.4->seaborn) (4.57.0)\n",
      "Requirement already satisfied: kiwisolver>=1.3.1 in ./.venv/lib/python3.12/site-packages (from matplotlib!=3.6.1,>=3.4->seaborn) (1.4.8)\n",
      "Requirement already satisfied: packaging>=20.0 in ./.venv/lib/python3.12/site-packages (from matplotlib!=3.6.1,>=3.4->seaborn) (25.0)\n",
      "Requirement already satisfied: pillow>=8 in ./.venv/lib/python3.12/site-packages (from matplotlib!=3.6.1,>=3.4->seaborn) (11.2.1)\n",
      "Requirement already satisfied: pyparsing>=2.3.1 in ./.venv/lib/python3.12/site-packages (from matplotlib!=3.6.1,>=3.4->seaborn) (3.2.3)\n",
      "Requirement already satisfied: python-dateutil>=2.7 in ./.venv/lib/python3.12/site-packages (from matplotlib!=3.6.1,>=3.4->seaborn) (2.9.0.post0)\n",
      "Requirement already satisfied: pytz>=2020.1 in ./.venv/lib/python3.12/site-packages (from pandas>=1.2->seaborn) (2025.2)\n",
      "Requirement already satisfied: tzdata>=2022.7 in ./.venv/lib/python3.12/site-packages (from pandas>=1.2->seaborn) (2025.2)\n",
      "Requirement already satisfied: six>=1.5 in ./.venv/lib/python3.12/site-packages (from python-dateutil>=2.7->matplotlib!=3.6.1,>=3.4->seaborn) (1.17.0)\n",
      "Note: you may need to restart the kernel to use updated packages.\n"
     ]
    }
   ],
   "source": [
    "%pip install seaborn"
   ]
  },
  {
   "cell_type": "code",
   "execution_count": 3,
   "id": "01fc21be",
   "metadata": {},
   "outputs": [],
   "source": [
    "import joblib \n",
    "\n",
    "shap_values = joblib.load(\"shap_explanation_text.pkl\")"
   ]
  },
  {
   "cell_type": "code",
   "execution_count": null,
   "id": "9f36ffbf",
   "metadata": {},
   "outputs": [],
   "source": [
    "import numpy as np\n",
    "\n",
    "def plot_all_feature_violin_subsampled(shap_values, class_labels=None, max_rows=3000):\n",
    "    \"\"\"\n",
    "    Violin plot of SHAP values across all features and classes (subsampled to avoid memory overload).\n",
    "    \"\"\"\n",
    "    n_samples, n_features, n_classes = shap_values.shape\n",
    "    class_labels = class_labels or list(range(n_classes))\n",
    "\n",
    "    # Subsample rows\n",
    "    if n_samples > max_rows:\n",
    "        idx = np.random.choice(n_samples, size=max_rows, replace=False)\n",
    "    else:\n",
    "        idx = np.arange(n_samples)\n",
    "\n",
    "    df_records = []\n",
    "    for c in range(n_classes):\n",
    "        vals = np.abs(shap_values[idx, :, c]).flatten()\n",
    "        df_records.extend([{\"class\": class_labels[c], \"shap_value\": v} for v in vals])\n",
    "\n",
    "    import pandas as pd\n",
    "    import seaborn as sns\n",
    "    import matplotlib.pyplot as plt\n",
    "\n",
    "    df = pd.DataFrame(df_records)\n",
    "    plt.figure(figsize=(10, 6))\n",
    "    sns.violinplot(data=df, x=\"class\", y=\"shap_value\", inner=\"quartile\", cut=0)\n",
    "    plt.yscale(\"log\")  # Optional: compress y-axis for better visualization\n",
    "    plt.title(\"Distribution of |SHAP| Values Across All Features (Subsampled)\")\n",
    "    plt.xlabel(\"Class\")\n",
    "    plt.ylabel(\"Absolute SHAP Value\")\n",
    "    plt.tight_layout()\n",
    "    plt.grid(True, which='both', axis='y', linestyle='--', linewidth=0.5)\n",
    "    plt.show()\n",
    "    "
   ]
  },
  {
   "cell_type": "code",
   "execution_count": 7,
   "id": "0e745868",
   "metadata": {},
   "outputs": [
    {
     "data": {
      "image/png": "[encoded data removed]",
      "text/plain": [
       "<Figure size 1000x600 with 1 Axes>"
      ]
     },
     "metadata": {},
     "output_type": "display_data"
    }
   ],
   "source": [
    "plot_all_feature_violin_subsampled(shap_values)"
   ]
  }
 ],
 "metadata": {
  "kernelspec": {
   "display_name": "Python 3",
   "language": "python",
   "name": "python3"
  },
  "language_info": {
   "codemirror_mode": {
    "name": "ipython",
    "version": 3
   },
   "file_extension": ".py",
   "mimetype": "text/x-python",
   "name": "python",
   "nbconvert_exporter": "python",
   "pygments_lexer": "ipython3",
   "version": "3.12.8"
  }
 },
 "nbformat": 4,
 "nbformat_minor": 5
}
