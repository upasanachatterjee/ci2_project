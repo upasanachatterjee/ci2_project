{
 "cells": [
  {
   "cell_type": "code",
   "execution_count": 1,
   "id": "74609c93",
   "metadata": {},
   "outputs": [],
   "source": [
    "%load_ext autoreload\n",
    "%autoreload 2"
   ]
  },
  {
   "cell_type": "code",
   "execution_count": 116,
   "id": "afc53a23",
   "metadata": {},
   "outputs": [
    {
     "name": "stderr",
     "output_type": "stream",
     "text": [
      "Generating train split: 100%|██████████| 45091/45091 [00:00<00:00, 86729.65 examples/s]"
     ]
    },
    {
     "name": "stdout",
     "output_type": "stream",
     "text": [
      "Loaded dataset: dragonslayer631/ci2_allsides, split: train\n"
     ]
    },
    {
     "name": "stderr",
     "output_type": "stream",
     "text": [
      "\n"
     ]
    }
   ],
   "source": [
    "from utils.ds_utils import load_dataset_from_huggingface\n",
    "ds = load_dataset_from_huggingface()"
   ]
  },
  {
   "cell_type": "code",
   "execution_count": 120,
   "id": "d4f6d779",
   "metadata": {},
   "outputs": [
    {
     "data": {
      "text/plain": [
       "{'topic': 'economy_and_jobs',\n",
       " 'tags': 'Economy And Jobs, Economic Policy, Budget Reconciliation, Infrastructure, Infrastructure Bill, Debt Ceiling',\n",
       " 'text': 'We use cookies and similar methods to recognize visitors and remember their preferences. We may also use them to measure ad campaign effectiveness, target ads, and analyze site traffic. Depending on your location, you may opt-in or opt out of the use of these technologies. Search Illustration: Sarah Grillo/Axios The Senate\\'s bipartisan $1.2 trillion infrastructure bill and President Biden\\'s $3.5 trillion spending package could live or die this week — and take Democrats\\' fortunes with them. But all the minute-by-minute political drama obscures how much America could change if even a fraction of it passes. The big picture: Anything short of total failure could have a transformative impact on day-to-day life — from how we move around to our access to the internet, paid family leave and child care, health care and college. Here\\'s how your life could change if even some of the measures get to Biden\\'s desk. Transportation: More people would be driving electric cars, and lower-income people would have better access to public transit, Axios\\' Joann Muller reports. Cleaner hydrogen trucks could also get a boost from more R&D funding. Electric vehicles: People who have been on the fence about purchasing an electric vehicle could be persuaded to buy one for two reasons, Joann reports: Health care: Democrats are seeking to expand health coverage for millions of Americans while reducing prescription drug prices, Axios\\' Caitlin Owens reports. Yes, but: The drug industry argues that forcing lower drug prices would curb innovation for new medicines for diseases like cancer and Alzheimer\\'s. Child care and education: At their core, Biden’s programs seek to make it easier for women to stay in the workforce throughout life’s stages and struggles, Axios\\' Hans Nichols reports. Cities: The nation\\'s mayors are emphatic that the proposals — even if ultimately watered down — represent a once-in-a-lifetime opportunity to make cities more livable, modern and socially equitable, Axios\\' Jennifer Kingson reports. The bottom line: If the effort collapses under its own weight — or because Democrats have forgotten how to negotiate — the cost of the missed opportunities will shape America\\'s future, too. Go deeper: What could be next in transportation Health policies at stake in Democrats\\' infrastructure bet This week is crunch time for Biden\\'s climate agenda Mayors see \"once in a lifetime\" hope for transformation Biden\\'s big bet backfires Want more stories like this? Sign up for Axios Finish Line Illustration: Sarah Grillo/Axios The nation\\'s mayors are emphatic that this week\\'s hotly debated infrastructure legislation— even if ultimately watered down — represents a once-in-a-lifetime opportunity to make cities more livable, modern and socially equitable. Why it matters: While the money wouldn\\'t go directly to city coffers, it would fund everything from bridge and road repairs to the development of light rail and broadband — bringing massive numbers of jobs and daily-living improvements along the way. Illustration: Sarah Grillo/Axios An emerging Capitol Hill deal could give White House carbon-cutting goals a huge lift that looked all but impossible weeks ago. Why it matters: President Biden\\'s target under the Paris Agreement of cutting U.S. emissions 50% by 2030 could be within reach if Congress approves the new clean energy investments, analysts say — but it\\'s not clear that it would have the votes to pass. A bent stop sign in a storm-damaged neighborhood after Hurricane Ida on Sept. 4, 2021, in Grand Isle, La. (Photo by Sean Rayford/Getty Images) Sen. Joe Manchin\\'s (D-W.Va.) declaration Sunday that he opposes President Biden\\'s signature climate and social policy legislation makes the administration\\'s task of meeting its climate goals far more difficult. Why it matters: The setback to slashing emissions comes as scientists say time is running out to avoid far worse impacts from global warming. Copyright Axios Media, 2024',\n",
       " 'int_bias': 0,\n",
       " 'summary_5': 'Infrastructure deal could transform America.',\n",
       " 'summary_50': \"This week is pivotal for Biden's $1.2 trillion infrastructure bill and $3.5 trillion spending package, impacting the future of American life. Even partial success could enhance transportation, health care, child care, and urban living. Failure, however, risks missed opportunities that could profoundly reshape the nation’s trajectory.\",\n",
       " 'summary_100': \"This week marks a crucial juncture for Senate negotiations on the $1.2 trillion infrastructure bill and Biden's $3.5 trillion spending package, with potentially transformative implications for American lives. Should any portion pass, changes could revolutionize transportation access, enhance health care coverage, and improve child care options, especially for women. Mayors see this as a pivotal moment to bolster city livability and equity through funding for public projects. However, if negotiations falter, the resulting missed opportunities could profoundly shape America's future. The urgency is clear: time is running out to achieve Biden’s climate targets, particularly with challenges from Congress.\",\n",
       " 'text_entity_sentiments': '{\"President Biden\": 0.2, \"The Senate\": 0.1, \"Democrats\": 0.3, \"America\": 0.5, \"Axios\": 0.0, \"Sarah Grillo\": 0.0, \"Joann Muller\": 0.0, \"Caitlin Owens\": 0.0, \"Hans Nichols\": 0.0, \"Jennifer Kingson\": 0.0, \"Joe Manchin\": -0.3}',\n",
       " 'text_topic_to_sentiment': '{\"Economy And Jobs\": 0, \"Economic Policy\": 0, \"Budget Reconciliation\": 0, \"Infrastructure\": 0, \"Infrastructure Bill\": 0, \"Debt Ceiling\": 0}',\n",
       " 'summary_100_entity_sentiments': '{\"Biden\": 0.6666666666666666, \"America\": 0.5, \"Congress\": -0.3333333333333333}',\n",
       " 'summary_100_topic_to_sentiment': '{\"Economy And Jobs\": 0, \"Economic Policy\": 0, \"Budget Reconciliation\": -0.3333333333333333, \"Infrastructure\": 0, \"Infrastructure Bill\": 0, \"Debt Ceiling\": -0.3333333333333333}',\n",
       " 'summary_50_entity_sentiments': '{\"Axios\": 0.2, \"Sarah Grillo\": 0, \"President Biden\": 0.5, \"Senate\": 0, \"Democrats\": 0.4, \"Joann Muller\": 0, \"Caitlin Owens\": 0, \"Hans Nichols\": 0, \"Jennifer Kingson\": 0, \"Joe Manchin\": -0.3}',\n",
       " 'summary_50_topic_to_sentiment': None,\n",
       " 'id': '0002a7129f586dc1'}"
      ]
     },
     "execution_count": 120,
     "metadata": {},
     "output_type": "execute_result"
    }
   ],
   "source": [
    "ds[0]"
   ]
  },
  {
   "cell_type": "code",
   "execution_count": 43,
   "id": "8f58e63f",
   "metadata": {},
   "outputs": [],
   "source": [
    "from datasets import Dataset\n",
    "def update_dataset_column(ds: Dataset, values: dict, column: str):\n",
    "    for i in range(len(ds)):\n",
    "        if ds[i]['id'] in values.keys():\n",
    "            ds[i][column] = values[ds[i]['id']]\n",
    "    return ds"
   ]
  },
  {
   "cell_type": "code",
   "execution_count": null,
   "id": "c8fc021e",
   "metadata": {},
   "outputs": [],
   "source": [
    "from utils.groq_utils import generate_entites_sentiments_groq, get_groq_client\n",
    "import json\n",
    "from datasets import Dataset\n",
    "\n",
    "client = get_groq_client()\n",
    "\n",
    "def get_entity_sentiments_for_text_in_dataset(text: str, ds: Dataset):\n",
    "    filtered = ds.filter(lambda x: x[f'{text}_entity_sentiments'] == None)\n",
    "    print(f\"Number of rows to process: {len(filtered)}\")\n",
    "    ctr = 0\n",
    "    new_values = {}\n",
    "    for elt in filtered:\n",
    "        ctr += 1\n",
    "        print(ctr)\n",
    "        try:\n",
    "            if text == 'text':\n",
    "                # snip text\n",
    "                text = elt['text'].split(' ')\n",
    "                text = ' '.join(text[:1000])\n",
    "            else:\n",
    "                text = elt[text]\n",
    "            sentiments = generate_entites_sentiments_groq(client=client, text=text, model=\"llama3-70b-8192\")\n",
    "            print(\"sentiments\", sentiments)\n",
    "            with open(f\"data/{text}/{text}_sentiment_total.csv\", \"a\") as f:\n",
    "                f.write(f\"{elt['id']}|{json.dumps(sentiments)}\\n\")\n",
    "            new_values[elt['id']] = json.dumps(sentiments)\n",
    "        except Exception as e:\n",
    "            print(\"failed at\", elt['id'], e)\n",
    "\n",
    "    print(f\"updating {text}_entity_sentiments with values \", new_values)\n",
    "    update_dataset_column(ds, new_values, f'{text}_entity_sentiments')\n",
    "    return ds\n",
    "    \n",
    "\n"
   ]
  },
  {
   "cell_type": "code",
   "execution_count": 121,
   "id": "595207c6",
   "metadata": {},
   "outputs": [
    {
     "name": "stderr",
     "output_type": "stream",
     "text": [
      "Filter: 100%|██████████| 45091/45091 [00:01<00:00, 27233.55 examples/s]\n"
     ]
    },
    {
     "name": "stdout",
     "output_type": "stream",
     "text": [
      "Number of rows to process: 0\n",
      "updating summary_50_entity_sentiments with values  {}\n"
     ]
    },
    {
     "data": {
      "text/plain": [
       "Dataset({\n",
       "    features: ['topic', 'tags', 'text', 'int_bias', 'summary_5', 'summary_50', 'summary_100', 'text_entity_sentiments', 'text_topic_to_sentiment', 'summary_100_entity_sentiments', 'summary_100_topic_to_sentiment', 'summary_50_entity_sentiments', 'summary_50_topic_to_sentiment', 'id'],\n",
       "    num_rows: 45091\n",
       "})"
      ]
     },
     "execution_count": 121,
     "metadata": {},
     "output_type": "execute_result"
    }
   ],
   "source": [
    "get_entity_sentiments_for_text_in_dataset(\"summary_50\", ds)"
   ]
  }
 ],
 "metadata": {
  "kernelspec": {
   "display_name": ".venv",
   "language": "python",
   "name": "python3"
  },
  "language_info": {
   "codemirror_mode": {
    "name": "ipython",
    "version": 3
   },
   "file_extension": ".py",
   "mimetype": "text/x-python",
   "name": "python",
   "nbconvert_exporter": "python",
   "pygments_lexer": "ipython3",
   "version": "3.12.8"
  }
 },
 "nbformat": 4,
 "nbformat_minor": 5
}
