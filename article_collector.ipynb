{
 "cells": [
  {
   "cell_type": "code",
   "execution_count": 18,
   "metadata": {},
   "outputs": [
    {
     "data": {
      "text/plain": [
       "True"
      ]
     },
     "execution_count": 18,
     "metadata": {},
     "output_type": "execute_result"
    }
   ],
   "source": [
    "from dotenv import load_dotenv\n",
    "import os\n",
    "%load_ext autoreload\n",
    "%autoreload 2\n",
    "\n",
    "load_dotenv()  # loads .env from current directory"
   ]
  },
  {
   "cell_type": "code",
   "execution_count": null,
   "metadata": {},
   "outputs": [
    {
     "name": "stderr",
     "output_type": "stream",
     "text": [
      "Generating train split: 100 examples [00:00, 4339.37 examples/s]\n"
     ]
    }
   ],
   "source": [
    "from datasets import load_dataset\n",
    "\n",
    "ds = load_dataset(\"csv\", data_files=\"sample.csv\")\n",
    "ds = ds[\"train\"]"
   ]
  },
  {
   "cell_type": "code",
   "execution_count": 58,
   "metadata": {},
   "outputs": [
    {
     "name": "stdout",
     "output_type": "stream",
     "text": [
      "generated sequence of length =  195\n"
     ]
    }
   ],
   "source": [
    "from groq_helper import generate_summary_groq, get_groq_client\n",
    "\n",
    "key = os.getenv(\"groq\")\n",
    "client = get_groq_client(key)\n",
    "\n",
    "summary = generate_summary_groq(client=client, word_count=100, model=\"gemma2-9b-it\", original_text=ds[0][\"text\"])"
   ]
  },
  {
   "cell_type": "code",
   "execution_count": 60,
   "metadata": {},
   "outputs": [],
   "source": [
    "def create_summary(example, word_count):\n",
    "    column = f\"{word_count}_words_gemma\"\n",
    "    if column not in example.keys() or len(example[column]) < 1:\n",
    "        summary = generate_summary_groq(client=client, model=\"gemma2-9b-it\", word_count=word_count, original_text=example[\"text\"])\n",
    "        example[f\"{word_count}_words_gemma\"] = summary\n",
    "    return example"
   ]
  },
  {
   "cell_type": "code",
   "execution_count": 69,
   "metadata": {},
   "outputs": [
    {
     "name": "stderr",
     "output_type": "stream",
     "text": [
      "Map: 100%|██████████| 100/100 [00:00<00:00, 268.02 examples/s]"
     ]
    },
    {
     "name": "stdout",
     "output_type": "stream",
     "text": [
      "error! returning empty\n"
     ]
    },
    {
     "name": "stderr",
     "output_type": "stream",
     "text": [
      "\n"
     ]
    }
   ],
   "source": [
    "ds = ds.map(lambda ex: create_summary(example=ex, word_count=5))"
   ]
  },
  {
   "cell_type": "code",
   "execution_count": null,
   "metadata": {},
   "outputs": [],
   "source": [
    "from openai import OpenAI\n",
    "\n",
    "client = OpenAI(\n",
    "  api_key=os.getenv(\"openai\")\n",
    ")\n",
    "\n",
    "def create_chatgpt_summary(word_count, instruction, example, model=\"gpt-4o-mini\"):\n",
    "  article = example[\"text\"]\n",
    "  completion = client.responses.create(\n",
    "    model=model,\n",
    "    store=True,\n",
    "    input=f\"Generate an exactly {word_count} word summary of the following article. {instruction}. \\n {article}\"\n",
    "  )\n",
    "  message = completion.output[0].content[0].text\n",
    "  print(\"generated sequence of length = \", len(\"\".join(message).split()))\n",
    "  #print(\"message = \", message)\n",
    "\n",
    "  return message\n",
    "  #example[f\"{word_count}_words_gpt\"] = message.content\n",
    "  #return example\n",
    "\n"
   ]
  },
  {
   "cell_type": "code",
   "execution_count": null,
   "metadata": {},
   "outputs": [],
   "source": [
    "ds = ds.map(lambda ex: create_chatgpt_summary(example=ex, word_count=100))"
   ]
  },
  {
   "cell_type": "code",
   "execution_count": 73,
   "metadata": {},
   "outputs": [],
   "source": [
    "import pandas as pd\n",
    "\n",
    "df = ds.to_pandas()"
   ]
  },
  {
   "cell_type": "code",
   "execution_count": 74,
   "metadata": {},
   "outputs": [
    {
     "data": {
      "text/plain": [
       "Index(['topic', 'date', 'tags', 'bias', 'text', 'link', 'source', 'title',\n",
       "       'id', 'int_bias', '100_words_llama', '5_words_llama', '5_words_gpt',\n",
       "       '100_words_gpt', '5_words_gemma', '100_words_gemma'],\n",
       "      dtype='object')"
      ]
     },
     "execution_count": 74,
     "metadata": {},
     "output_type": "execute_result"
    }
   ],
   "source": [
    "df.columns"
   ]
  },
  {
   "cell_type": "code",
   "execution_count": 76,
   "metadata": {},
   "outputs": [
    {
     "name": "stdout",
     "output_type": "stream",
     "text": [
      "column=100_words_llama, average=69.54\n",
      "column=5_words_llama, average=4.33\n",
      "column=100_words_gpt, average=98.75\n",
      "column=5_words_gpt, average=5.72\n",
      "column=100_words_gemma, average=119.19\n",
      "column=5_words_gemma, average=16.99\n"
     ]
    }
   ],
   "source": [
    "print(f\"column=100_words_llama, average={df['100_words_llama'].apply(lambda x: len(x.split())).mean()}\")\n",
    "print(f\"column=5_words_llama, average={df['5_words_llama'].apply(lambda x: len(x.split())).mean()}\")\n",
    "print(f\"column=100_words_gpt, average={df['100_words_gpt'].apply(lambda x: len(x.split())).mean()}\")\n",
    "print(f\"column=5_words_gpt, average={df['5_words_gpt'].apply(lambda x: len(x.split())).mean()}\")\n",
    "print(f\"column=100_words_gemma, average={df['100_words_gemma'].apply(lambda x: len(x.split())).mean()}\")\n",
    "print(f\"column=5_words_gemma, average={df['5_words_gemma'].apply(lambda x: len(x.split())).mean()}\")"
   ]
  },
  {
   "cell_type": "code",
   "execution_count": 78,
   "metadata": {},
   "outputs": [
    {
     "name": "stderr",
     "output_type": "stream",
     "text": [
      "Creating CSV from Arrow format: 100%|██████████| 1/1 [00:00<00:00, 71.78ba/s]\n"
     ]
    },
    {
     "data": {
      "text/plain": [
       "707087"
      ]
     },
     "execution_count": 78,
     "metadata": {},
     "output_type": "execute_result"
    }
   ],
   "source": [
    "ds.select_columns(column_names=['id','text','100_words_llama', '5_words_llama', '5_words_gpt','100_words_gpt']).to_csv(\"gpt_vs_llama.csv\")"
   ]
  },
  {
   "cell_type": "code",
   "execution_count": 85,
   "metadata": {},
   "outputs": [
    {
     "data": {
      "text/plain": [
       "{'topic': 'white_house',\n",
       " 'date': '2017-08-18',\n",
       " 'tags': None,\n",
       " 'bias': 'right',\n",
       " 'text': 'Former White House Chief Strategist Steve Bannon ’ s government identification card ( Reuters : Carlos Barria )\\nIdeology is just the furniture and props that the characters throw at each other in set-piece fights .\\nThere ’ s a mismatch between the political press and the White House it is intended to cover . Political scribblers like myself are primed to greet the news of Steve Bannon getting bounced from the White House as an event with significance for the battle of ideas in the White House and in the Republican party .\\nWe want to say that Bannon ’ s a “ populist ” of some sort , an anti-China guy , an America Firster . Heck , he even advocated tax raises on high-income earners . And we want to say that his enemies in the White House are either social-climbing socialites ( liberals ) , generals who favor more military engagement ( hawks ) , or business guys who think government is here to goose growth through interest-rate and tax policy .\\nAnd on some level , I ’ m sure that ’ s true . Supposedly the White House is still setting federal regulations and encouraging certain legislative items to come forward in Congress . But increasingly it seems that judging the White House in these terms is like trying to determine the stock price of different suntan-oil companies by following the ups and downs on episodes of Jersey Shore . The ideology is just the furniture and props that the characters throw at each other in set-piece fights . Trade protectionism : a sofa overturned in a tantrum . A vow to fight the globalists : a box of Valtrex fired across the room in anger .\\nSteve Bannon has vowed “ war ” against Rupert Murdoch , Matt Drudge , and his enemies in the Trump White House . Sure , sure . Bannon claims to hate the media , but he sure likes providing the rep-tie-wearing Washington press corps with entertaining plot twists and new-season teasers . We don ’ t need political writers to cover this . We need reality-TV-show recappers and gossip columnists . We need WWE scriptwriters .\\nSo here ’ s the next season of Populist Revolt , the new series on Breitbart.com and talk radio . The pitch is “ Let Trump be Trump. ” Our merry band of editors and radio gabbers are going to save Trump and Trumpism from the administration that Donald Trump picked for himself . Will anyone notice that “ Let Trump be Trump ” is a stale reprise of a 1980s plot of “ Let Reagan be Reagan ” ? Probably not . Well , anyway , Bannon is better at the stagecraft these days .\\nMaybe they can string this plot out long enough , perhaps until the Democrats nominate their next presidential candidate , the next globalist , cultural-Marxist threat to good solid American blah , blah , blah . Then the producers of the populist psychodrama will launch the next season of Make America Great Again . “ We admit it , the first Trump term stunk . But he ’ s finding his political soul again at the rallies . Look , he encouraged another fist fight ! He fights ! ” Or maybe Trump ’ s approval ratings tank enough and Bannon ’ s crew distance themselves from Trump the way Sean Hannity eventually abandoned Arnold Schwarzenegger .\\nPeople who write about politics and have Twitter accounts will continue to lose their sense of sanity trying to cover this administration as if doing so gave them membership in a dignified profession . Being a part of the Fourth Estate of a history-making republic seems respectable . Being a Steve Bannon fanfic analyst sounds like something else .\\nPerhaps the decent thing one can do for one ’ s sanity is to become a proper conspiracy theorist . What a relief it would be if George Soros , Vladimir Putin , or the members of Bohemian Grove were pulling all the strings . Who cares if they ’ re evil ? At least they ’ re adults taking responsibility for the world we live in . Until today I thought Louise Mensch and other Putin obsessives were unhinged . Now I wonder if they aren ’ t pioneers of self-care and self-help . If the world is insane , the only way to restore a sense of balance is turn your own screws until loose .\\nSteve Bannon is out . Tune in next week for Steve Bannon strikes back . You ’ ll be watching . Donald Trump will be watching . Are you not entertained ?',\n",
       " 'link': 'http://www.nationalreview.com/article/450621/steve-bannon-fired-trump-white-house-ideology-gossip-entertainment-reality-tv',\n",
       " 'source': 'Michael Brendan Dougherty',\n",
       " 'title': 'Bannon’s Ouster, the Latest Episode in a Show about Nothing',\n",
       " 'id': '6a1d3146ac4651b9',\n",
       " 'int_bias': 2,\n",
       " '100_words_llama': \"Steve Bannon's departure from the White House sparks debate about ideology and its significance in the Trump administration, but judging the White House on these terms is like following a reality TV show, where characters throw ideas around like props, and Bannon's vow of war against his enemies is just the next plot twist.\",\n",
       " '5_words_llama': 'Bannon leaves White House post',\n",
       " '5_words_gpt': \"Bannon's exit sparks political entertainment frenzy.\",\n",
       " '100_words_gpt': 'The article discusses Steve Bannon’s departure from the White House and its implications for political dynamics within the Trump administration and the Republican Party. It portrays ideological battles as superficial, likening them to theatrical props in a reality show, emphasizing the disconnect between political journalism and the actual political landscape. Bannon is characterized as a populist figure engaging in dramatic feuds while promoting a narrative of \"Let Trump be Trump.\" The author suggests that covering this administration\\'s antics is akin to analyzing entertainment rather than politics, questioning the sanity of political commentators and hinting at a chaotic political future.',\n",
       " '5_words_gemma': 'Trump White House drama likened to reality TV with Steve Bannon as central figure.',\n",
       " '100_words_gemma': \"This article critiques the way political media covers the Trump administration, arguing that it focuses too much on ideological clashes and not enough on the reality TV-like spectacle of the White House. The author compares the current political landscape to reality TV, where personalities and drama overshadow substance. The firing of Steve Bannon is seen as another example of this, with Bannon portrayed as a charismatic antagonist whose departure creates more intrigue than meaningful change. The author suggests that covering the Trump administration requires a shift in perspective, away from traditional political analysis and towards a more pop-cultural lens. Ultimately, the author concludes that the media's focus on Trump is ultimately a self-defeating cycle that contributes to the president's enduring popularity.\"}"
      ]
     },
     "execution_count": 85,
     "metadata": {},
     "output_type": "execute_result"
    }
   ],
   "source": [
    "ds[7]"
   ]
  },
  {
   "cell_type": "code",
   "execution_count": 93,
   "metadata": {},
   "outputs": [
    {
     "name": "stdout",
     "output_type": "stream",
     "text": [
      "generated sequence of length =  11\n",
      "message =  Steve Bannon's departure fuels political theater, leaving press bewildered and entertained.\n"
     ]
    },
    {
     "data": {
      "text/plain": [
       "{'topic': 'white_house',\n",
       " 'date': '2017-08-18',\n",
       " 'tags': None,\n",
       " 'bias': 'right',\n",
       " 'text': 'Former White House Chief Strategist Steve Bannon ’ s government identification card ( Reuters : Carlos Barria )\\nIdeology is just the furniture and props that the characters throw at each other in set-piece fights .\\nThere ’ s a mismatch between the political press and the White House it is intended to cover . Political scribblers like myself are primed to greet the news of Steve Bannon getting bounced from the White House as an event with significance for the battle of ideas in the White House and in the Republican party .\\nWe want to say that Bannon ’ s a “ populist ” of some sort , an anti-China guy , an America Firster . Heck , he even advocated tax raises on high-income earners . And we want to say that his enemies in the White House are either social-climbing socialites ( liberals ) , generals who favor more military engagement ( hawks ) , or business guys who think government is here to goose growth through interest-rate and tax policy .\\nAnd on some level , I ’ m sure that ’ s true . Supposedly the White House is still setting federal regulations and encouraging certain legislative items to come forward in Congress . But increasingly it seems that judging the White House in these terms is like trying to determine the stock price of different suntan-oil companies by following the ups and downs on episodes of Jersey Shore . The ideology is just the furniture and props that the characters throw at each other in set-piece fights . Trade protectionism : a sofa overturned in a tantrum . A vow to fight the globalists : a box of Valtrex fired across the room in anger .\\nSteve Bannon has vowed “ war ” against Rupert Murdoch , Matt Drudge , and his enemies in the Trump White House . Sure , sure . Bannon claims to hate the media , but he sure likes providing the rep-tie-wearing Washington press corps with entertaining plot twists and new-season teasers . We don ’ t need political writers to cover this . We need reality-TV-show recappers and gossip columnists . We need WWE scriptwriters .\\nSo here ’ s the next season of Populist Revolt , the new series on Breitbart.com and talk radio . The pitch is “ Let Trump be Trump. ” Our merry band of editors and radio gabbers are going to save Trump and Trumpism from the administration that Donald Trump picked for himself . Will anyone notice that “ Let Trump be Trump ” is a stale reprise of a 1980s plot of “ Let Reagan be Reagan ” ? Probably not . Well , anyway , Bannon is better at the stagecraft these days .\\nMaybe they can string this plot out long enough , perhaps until the Democrats nominate their next presidential candidate , the next globalist , cultural-Marxist threat to good solid American blah , blah , blah . Then the producers of the populist psychodrama will launch the next season of Make America Great Again . “ We admit it , the first Trump term stunk . But he ’ s finding his political soul again at the rallies . Look , he encouraged another fist fight ! He fights ! ” Or maybe Trump ’ s approval ratings tank enough and Bannon ’ s crew distance themselves from Trump the way Sean Hannity eventually abandoned Arnold Schwarzenegger .\\nPeople who write about politics and have Twitter accounts will continue to lose their sense of sanity trying to cover this administration as if doing so gave them membership in a dignified profession . Being a part of the Fourth Estate of a history-making republic seems respectable . Being a Steve Bannon fanfic analyst sounds like something else .\\nPerhaps the decent thing one can do for one ’ s sanity is to become a proper conspiracy theorist . What a relief it would be if George Soros , Vladimir Putin , or the members of Bohemian Grove were pulling all the strings . Who cares if they ’ re evil ? At least they ’ re adults taking responsibility for the world we live in . Until today I thought Louise Mensch and other Putin obsessives were unhinged . Now I wonder if they aren ’ t pioneers of self-care and self-help . If the world is insane , the only way to restore a sense of balance is turn your own screws until loose .\\nSteve Bannon is out . Tune in next week for Steve Bannon strikes back . You ’ ll be watching . Donald Trump will be watching . Are you not entertained ?',\n",
       " 'link': 'http://www.nationalreview.com/article/450621/steve-bannon-fired-trump-white-house-ideology-gossip-entertainment-reality-tv',\n",
       " 'source': 'Michael Brendan Dougherty',\n",
       " 'title': 'Bannon’s Ouster, the Latest Episode in a Show about Nothing',\n",
       " 'id': '6a1d3146ac4651b9',\n",
       " 'int_bias': 2,\n",
       " '100_words_llama': \"Steve Bannon's departure from the White House sparks debate about ideology and its significance in the Trump administration, but judging the White House on these terms is like following a reality TV show, where characters throw ideas around like props, and Bannon's vow of war against his enemies is just the next plot twist.\",\n",
       " '5_words_llama': 'Bannon leaves White House post',\n",
       " '5_words_gpt': \"Bannon's exit sparks political entertainment frenzy.\",\n",
       " '100_words_gpt': 'The article discusses Steve Bannon’s departure from the White House and its implications for political dynamics within the Trump administration and the Republican Party. It portrays ideological battles as superficial, likening them to theatrical props in a reality show, emphasizing the disconnect between political journalism and the actual political landscape. Bannon is characterized as a populist figure engaging in dramatic feuds while promoting a narrative of \"Let Trump be Trump.\" The author suggests that covering this administration\\'s antics is akin to analyzing entertainment rather than politics, questioning the sanity of political commentators and hinting at a chaotic political future.',\n",
       " '5_words_gemma': 'Trump White House drama likened to reality TV with Steve Bannon as central figure.',\n",
       " '100_words_gemma': \"This article critiques the way political media covers the Trump administration, arguing that it focuses too much on ideological clashes and not enough on the reality TV-like spectacle of the White House. The author compares the current political landscape to reality TV, where personalities and drama overshadow substance. The firing of Steve Bannon is seen as another example of this, with Bannon portrayed as a charismatic antagonist whose departure creates more intrigue than meaningful change. The author suggests that covering the Trump administration requires a shift in perspective, away from traditional political analysis and towards a more pop-cultural lens. Ultimately, the author concludes that the media's focus on Trump is ultimately a self-defeating cycle that contributes to the president's enduring popularity.\"}"
      ]
     },
     "execution_count": 93,
     "metadata": {},
     "output_type": "execute_result"
    }
   ],
   "source": [
    "create_chatgpt_summary(10, ds[7])"
   ]
  },
  {
   "cell_type": "code",
   "execution_count": 101,
   "metadata": {},
   "outputs": [],
   "source": [
    "from IPython.display import display, HTML\n",
    "\n",
    "def wrap_output(text):\n",
    "    display(HTML(f\"<div style='white-space: pre-wrap; word-wrap: break-word;'>{text}</div>\"))\n"
   ]
  },
  {
   "cell_type": "code",
   "execution_count": 117,
   "metadata": {},
   "outputs": [],
   "source": [
    "def create_chatgpt_summary(word_count, instruction, example, model=\"gpt-4o-mini\"):\n",
    "  article = example[\"text\"]\n",
    "  completion = client.responses.create(\n",
    "    model=model,\n",
    "    store=True,\n",
    "    input=f\"Generate an exactly {word_count} word summary of the following article. {instruction}. \\n {article}\",\n",
    "    text={\n",
    "      \"format\" : {\n",
    "        \"name\": \"response_type\",\n",
    "        \"schema\": {\n",
    "          \"$schema\": \"https://json-schema.org/draft/2020-12/schema\",\n",
    "          \"type\": \"object\",\n",
    "          \"properties\": {\n",
    "            \"article\": {\n",
    "              \"type\": \"string\"\n",
    "            }\n",
    "          },\n",
    "          \"required\": [\"article\"],\n",
    "          \"additionalProperties\": False\n",
    "        },\n",
    "        \"type\": \"json_schema\" \n",
    "        }\n",
    "      }\n",
    "  )\n",
    "  message = completion.output_text\n",
    "  print(\"generated sequence of length = \", len(\"\".join(message).split()))\n",
    "  #print(\"message = \", message)\n",
    "\n",
    "  return message"
   ]
  },
  {
   "cell_type": "code",
   "execution_count": 137,
   "metadata": {},
   "outputs": [],
   "source": [
    "def create_chatgpt_tags(word_count, instruction, example):\n",
    "    article = example[\"text\"]\n",
    "    response = client.responses.create(model=\"gpt-4o-mini\",\n",
    "        store=True,\n",
    "        input=f\"Generate a list of at most {word_count} topics for the following article. {instruction}. \\n {article}\",\n",
    "        text= {\n",
    "        \"format\" : {\n",
    "            \"name\": \"response_type\",\n",
    "            \"schema\": {\n",
    "                \"$schema\": \"https://json-schema.org/draft/2020-12/schema\",\n",
    "                \"type\": \"object\",\n",
    "                \"properties\": {\n",
    "                    \"response\": {\n",
    "                    \"type\": \"array\",\n",
    "                    \"items\": {\n",
    "                        \"type\": \"string\"\n",
    "                    }\n",
    "                    }\n",
    "                },\n",
    "                \"required\": [\"response\"],\n",
    "                \"additionalProperties\": False\n",
    "            },\n",
    "            \"type\": \"json_schema\" \n",
    "            }\n",
    "        },\n",
    "    )\n",
    "    return response.output_text"
   ]
  },
  {
   "cell_type": "code",
   "execution_count": 139,
   "metadata": {},
   "outputs": [
    {
     "data": {
      "text/html": [
       "<div style='white-space: pre-wrap; word-wrap: break-word;'>{\"response\":[\"Steve Bannon\",\"Political Press\",\"Populism\",\"Trump Administration\",\"Media Dynamics\"]}</div>"
      ],
      "text/plain": [
       "<IPython.core.display.HTML object>"
      ]
     },
     "metadata": {},
     "output_type": "display_data"
    }
   ],
   "source": [
    "wrap_output(\n",
    "    create_chatgpt_tags(\n",
    "        word_count=5,\n",
    "        instruction=\"Each topic must be 1-2 words long. Select topics which are the most important for the text\",\n",
    "        example=ds[7]\n",
    "    )\n",
    ")"
   ]
  },
  {
   "cell_type": "code",
   "execution_count": 132,
   "metadata": {},
   "outputs": [
    {
     "name": "stdout",
     "output_type": "stream",
     "text": [
      "generated sequence of length =  102\n"
     ]
    },
    {
     "data": {
      "text/html": [
       "<div style='white-space: pre-wrap; word-wrap: break-word;'>{\"article\":\"The political landscape in the White House, particularly following Steve Bannon's departure, feels increasingly theatrical and disconnected from substantive ideology. Observers, primed to analyze battles of ideas, instead witness a chaotic spectacle where ideological positions serve merely as props. Bannon, labeled a populist and an America First advocate, has declared war on media figures and rival factions within Trump's administration, all while fueling gossip and drama reminiscent of reality TV. As political commentators grapple with this bizarre reality, it raises the question: are we merely fans of a political soap opera? With Bannon out, the narrative is set for more sensationalism ahead.\"}</div>"
      ],
      "text/plain": [
       "<IPython.core.display.HTML object>"
      ]
     },
     "metadata": {},
     "output_type": "display_data"
    }
   ],
   "source": [
    "wrap_output(create_chatgpt_summary(\n",
    "    word_count=100, \n",
    "    instruction=\"Keep the authorial voice, perspective, and tone\",#\"Keep the same authorial voice as the original article.\", \n",
    "    example=ds[7])\n",
    ")"
   ]
  }
 ],
 "metadata": {
  "kernelspec": {
   "display_name": ".venv",
   "language": "python",
   "name": "python3"
  },
  "language_info": {
   "codemirror_mode": {
    "name": "ipython",
    "version": 3
   },
   "file_extension": ".py",
   "mimetype": "text/x-python",
   "name": "python",
   "nbconvert_exporter": "python",
   "pygments_lexer": "ipython3",
   "version": "3.12.8"
  }
 },
 "nbformat": 4,
 "nbformat_minor": 2
}
