{
 "cells": [
  {
   "cell_type": "code",
   "execution_count": 1,
   "metadata": {},
   "outputs": [
    {
     "data": {
      "text/plain": [
       "True"
      ]
     },
     "execution_count": 1,
     "metadata": {},
     "output_type": "execute_result"
    }
   ],
   "source": [
    "from dotenv import load_dotenv\n",
    "import os\n",
    "%load_ext autoreload\n",
    "%autoreload 2\n",
    "\n",
    "load_dotenv()  # loads .env from current directory"
   ]
  },
  {
   "cell_type": "code",
   "execution_count": 3,
   "metadata": {},
   "outputs": [],
   "source": [
    "from huggingface_hub import login\n",
    "login(os.getenv(\"hf_token\"))"
   ]
  },
  {
   "cell_type": "code",
   "execution_count": 4,
   "metadata": {},
   "outputs": [],
   "source": [
    "from datasets import load_dataset\n",
    "\n",
    "ds = load_dataset(\"dragonslayer631/allsides\")"
   ]
  },
  {
   "cell_type": "code",
   "execution_count": 7,
   "metadata": {},
   "outputs": [
    {
     "name": "stderr",
     "output_type": "stream",
     "text": [
      "Filter: 100%|██████████| 47876/47876 [00:06<00:00, 7433.03 examples/s]\n"
     ]
    }
   ],
   "source": [
    "ds = ds[\"train\"].filter(lambda example: len(\"\".join(example[\"text\"]).split()) > 250)"
   ]
  },
  {
   "cell_type": "code",
   "execution_count": null,
   "metadata": {},
   "outputs": [],
   "source": [
    "import json\n",
    "import ast\n",
    "import re\n",
    "def fix_malformed_json(text: str) -> str:\n",
    "    # Replace single quotes around keys with double quotes\n",
    "    text = re.sub(r\"'(\\w+)'(?=\\s*:)\", r'\"\\1\"', text)\n",
    "    \n",
    "    # Replace smart quotes with standard quotes\n",
    "    text = text.replace(\"“\", '\"').replace(\"”\", '\"')\n",
    "    \n",
    "    # Ensure keys inside nested structures also get fixed (not just the top-level)\n",
    "    text = re.sub(r\"'([^']*)'\", lambda m: f'\"{m.group(1)}\"' if ':' not in m.group(1) else m.group(0), text)\n",
    "    \n",
    "    # Optionally validate or pretty-print\n",
    "    try:\n",
    "        parsed = json.loads(text)\n",
    "        return json.dumps(parsed, indent=2)\n",
    "    except json.JSONDecodeError as e:\n",
    "        return f\"Error: Could not parse fixed JSON. {e}\"\n",
    "\n",
    "\n",
    "def concat_list_string(s):\n",
    "    try:\n",
    "\n",
    "        # Convert string to actual list\n",
    "        decoded_list = ast.literal_eval(s)\n",
    "\n",
    "        # Join all elements into one string\n",
    "        joined_string = ' '.join(decoded_list)\n",
    "        return fix_malformed_json(joined_string)\n",
    "    except Exception:\n",
    "        pass\n",
    "    return s"
   ]
  },
  {
   "cell_type": "code",
   "execution_count": null,
   "metadata": {},
   "outputs": [],
   "source": [
    "def create_chatgpt_summary(word_count, instruction, example):\n",
    "  article = concat_list_string(example[\"text\"])\n",
    "  request = { \"model\": \"gpt-4o-mini\",\n",
    "    \"store\": True,\n",
    "    \"input\": f\"Generate an exactly {word_count} word summary of the following article. {instruction}. \\n {article}\",\n",
    "    \"text\" : {\n",
    "      \"format\" : {\n",
    "        \"name\": \"response_type\",\n",
    "        \"schema\": {\n",
    "          \"$schema\": \"https://json-schema.org/draft/2020-12/schema\",\n",
    "          \"type\": \"object\",\n",
    "          \"properties\": {\n",
    "            \"article\": {\n",
    "              \"type\": \"string\"\n",
    "            }\n",
    "          },\n",
    "          \"required\": [\"article\"],\n",
    "          \"additionalProperties\": False\n",
    "        },\n",
    "        \"type\": \"json_schema\" \n",
    "        }\n",
    "      },\n",
    "    }\n",
    "  return request\n",
    "  "
   ]
  },
  {
   "cell_type": "code",
   "execution_count": 96,
   "metadata": {},
   "outputs": [],
   "source": [
    "def create_chatgpt_tags(tag_count, instruction, example):\n",
    "    article = concat_list_string(example[\"text\"])\n",
    "    request = { \"model\": \"gpt-4o-mini\",\n",
    "        \"store\": True,\n",
    "        \"input\": f\"Generate a list of at most {tag_count} topics for the following article. {instruction}. \\n {article}\",\n",
    "        \"text\" : {\n",
    "        \"format\" : {\n",
    "            \"name\": \"response_type\",\n",
    "            \"schema\": {\n",
    "                \"$schema\": \"https://json-schema.org/draft/2020-12/schema\",\n",
    "                \"type\": \"object\",\n",
    "                \"properties\": {\n",
    "                    \"response\": {\n",
    "                    \"type\": \"array\",\n",
    "                    \"items\": {\n",
    "                        \"type\": \"string\"\n",
    "                    }\n",
    "                    }\n",
    "                },\n",
    "                \"required\": [\"response\"],\n",
    "                \"additionalProperties\": False\n",
    "            },\n",
    "            \"type\": \"json_schema\" \n",
    "            }\n",
    "        },\n",
    "        }\n",
    "    return request"
   ]
  },
  {
   "cell_type": "code",
   "execution_count": 60,
   "metadata": {},
   "outputs": [
    {
     "data": {
      "text/plain": [
       "{'model': 'gpt-4o-mini',\n",
       " 'store': True,\n",
       " 'input': 'Generate an exactly 100 word summary of the following article. test. \\n When Rep. Ilhan Omar ( D-MN ) tweeted about “ art and architecture ” during the Notre Dame fire , I defended her against the criticism it drew from Christians who accused her of pointedly ignoring the spiritual significance of the building . I thought the tweet was perfectly normal and acceptable , and I don ’ t really expect a Muslim woman to find any spiritual significance in a building meant for Christian worship . To my mind , that outrage — if we can call it an outrage — was overblown .\\nBut “ Easter worshippers ” is a different thing entirely . Responding to the slaughter of hundreds of Christians during Easter attacks by radical Islamic terrorists , a number of prominent Democratic politicians chose to issue statements that glaringly omit any direct mention of the faith identity of the victims .\\nBarack Obama said this : “ The attacks on tourists and Easter worshippers in Sri Lanka are an attack on humanity . On a day devoted to love , redemption , and renewal , we pray for the victims and stand with the people of Sri Lanka . ”\\nHillary Clinton seemed to be working literally from the same script : “ On this holy weekend for many faiths , we must stand united against hatred and violence . I ’ m praying for everyone affected by today ’ s horrific attacks on Easter worshippers and travelers in Sri Lanka . ”\\nSeveral other Democrats latched onto this same phrase — “ Easter worshippers. ” If just one of them had gone this route , perhaps I could be convinced that it might be clumsy wording and nothing more . But it is simply impossible to believe that several significant Democrats would all independently and innocently think to refer to Christian victims in such a roundabout and obscure way .\\nI have been a Christian all my life and if I ’ ve ever heard the term “ Easter worshipper , ” or something like it , it would have been in reference to Christians who only go to church on Christmas and Easter . Generally we call those types “ Christmas and Easter Christians ” or “ CEOs ” ( Christmas and Easter Only ) . But the general mass of people who show up to worship on Easter have always , in my experience , just been called Christians . It would be technically accurate to use a label like “ Passover observers ” in the place of “ Jews ” and “ Ramadan commemorators ” for “ Muslims , ” but I can ’ t imagine why anyone would be so unnecessarily vague and wordy . Unless , of course , there is some reason why they don ’ t want to explicitly acknowledge the group in question . And that appears to be the case here .\\nAs it happens , we don ’ t need to wonder how the likes of Clinton and Obama would respond to a similar attack against Muslims . There was just such an attack a few weeks ago in New Zealand . Let ’ s look at their statements .\\nObama : “ Michelle and I send our condolences to the people of New Zealand . We grieve with you and the Muslim community . All of us must stand against hatred in all its forms . ”\\nClinton : “ My heart breaks for New Zealand & the global Muslim community . We must continue to fight the perpetuation and normalization of Islamophobia and racism in all its forms . White supremacist terrorists must be condemned by leaders everywhere . Their murderous hatred must be stopped . ”\\nThis gives the game away . No rational person could fail to notice a stark contrast between these statements and the ones issued in response to nearly 300 butchered Christians on Easter Sunday . They both make sure to use the word “ Muslim. ” Clinton goes further and ropes in “ Islamophobia ” and “ [ w ] hite supremacist terrorists. ” Not only does she omit “ Christian ” from her comments on Sri Lanka , but she certainly says nothing about “ Christophobia ” and “ Islamic terrorists . ”\\nAre we supposed to believe that this is a mere coincidence ? If so , is it also a coincidence that Hillary Clinton , who accidentally forgot the word “ Christian ” yesterday on Easter , did not forget the phrase “ LGBT community ” after the shooting at a gay club in Orlando three years ago ? Of course not . There is a purpose behind this , and the purpose matters .\\nChristians are among the most persecuted groups on the planet . On a monthly basis , hundreds are murdered for their faith , hundreds more are locked in prison without just cause , and dozens of churches are burned or vandalized . Indeed , the most shocking thing about yesterday ’ s tragedy is how utterly routine it has become . It was only two years ago that over a hundred Christians were killed in explosions at Palm Sunday services in Egypt . Many Christians across the world know that they take their lives into their hands when they gather for worship . This fact — that Christians are not only a victim group , but are one of the most victimized groups — is extraordinarily inconvenient for Democrats , who have structured their whole agenda around their victimhood narrative . By their telling , racial minorities , women , homosexuals , and Muslims are The Victims while white men and Christians are The Bad Guys . This dichotomy would be thrown wildly out of balance and sent into disarray if Christians were admitted into the victim column — especially because they are so often victimized by Muslim extremists .\\nNo , the Democrats can ’ t have that . So they usually ignore the genocide of Christians , and often enact policies that make it worse . And when they are forced , on the rare occasion , to acknowledge an attack of this sort , they will do it without saying anything that might give ignorant Americans the impression that there is a real systematic problem of Christians being constantly blown up and murdered by Muslim extremists . But the systematic problem is real , even if these conniving cowards won ’ t admit it .',\n",
       " 'text': {'format': {'name': 'response_type',\n",
       "   'schema': {'$schema': 'https://json-schema.org/draft/2020-12/schema',\n",
       "    'type': 'object',\n",
       "    'properties': {'article': {'type': 'string'}},\n",
       "    'required': ['article'],\n",
       "    'additionalProperties': False},\n",
       "   'type': 'json_schema'}}}"
      ]
     },
     "execution_count": 60,
     "metadata": {},
     "output_type": "execute_result"
    }
   ],
   "source": [
    "create_chatgpt_summary(100, \"test\", ds[0])"
   ]
  },
  {
   "cell_type": "code",
   "execution_count": 84,
   "metadata": {},
   "outputs": [],
   "source": [
    "def create_sample(example, word_count, tags=False):\n",
    "    if tags:\n",
    "        body = create_chatgpt_tags(word_count, \"Each topic must be at most 1-2 words long\", example)\n",
    "    else:\n",
    "        body = create_chatgpt_summary(word_count, \"Keep the authorial voice, perspective, and tone\", example)\n",
    "    request = {\n",
    "        \"custom_id\": f\"{example['id']}_{word_count}\" if not tags else f\"{example['id']}_tags\",\n",
    "        \"method\": \"POST\",\n",
    "        \"url\": \"/v1/responses\",\n",
    "        \"body\": body\n",
    "    }\n",
    "    return request"
   ]
  },
  {
   "cell_type": "code",
   "execution_count": 85,
   "metadata": {},
   "outputs": [
    {
     "name": "stderr",
     "output_type": "stream",
     "text": [
      "Map:  66%|██████▌   | 29789/45215 [00:05<00:02, 5929.53 examples/s]<unknown>:2: SyntaxWarning: invalid decimal literal\n",
      "Map: 100%|██████████| 45215/45215 [00:08<00:00, 5621.73 examples/s]\n"
     ]
    }
   ],
   "source": [
    "ds_samples_100 = ds.map(lambda ex: create_sample(example=ex, word_count=100, tags=False))"
   ]
  },
  {
   "cell_type": "code",
   "execution_count": 86,
   "metadata": {},
   "outputs": [
    {
     "name": "stderr",
     "output_type": "stream",
     "text": [
      "Creating json from Arrow format: 100%|██████████| 1/1 [00:00<00:00, 360.09ba/s]\n"
     ]
    },
    {
     "data": {
      "text/plain": [
       "80368"
      ]
     },
     "execution_count": 86,
     "metadata": {},
     "output_type": "execute_result"
    }
   ],
   "source": [
    "ds_samples_100.select_columns(['custom_id', 'method', 'url', 'body']).select(range(10)).to_json(\"allsides_summary_100.jsonl\")"
   ]
  },
  {
   "cell_type": "code",
   "execution_count": 87,
   "metadata": {},
   "outputs": [
    {
     "name": "stdout",
     "output_type": "stream",
     "text": [
      "FileObject(id='file-34pLwo2isj5rUmMUoMvB34', bytes=80368, created_at=1744573667, filename='allsides_summary_100.jsonl', object='file', purpose='batch', status='processed', expires_at=None, status_details=None)\n"
     ]
    }
   ],
   "source": [
    "from openai import OpenAI\n",
    "client = OpenAI(api_key=os.getenv(\"openai\"))\n",
    "\n",
    "batch_input_file = client.files.create(\n",
    "    file=open(\"allsides_summary_100.jsonl\", \"rb\"),\n",
    "    purpose=\"batch\"\n",
    ")\n",
    "\n",
    "print(batch_input_file)"
   ]
  },
  {
   "cell_type": "code",
   "execution_count": 88,
   "metadata": {},
   "outputs": [
    {
     "data": {
      "text/plain": [
       "Batch(id='batch_67fc14e5fb0c8190abb3b71e27bc0093', completion_window='24h', created_at=1744573669, endpoint='/v1/responses', input_file_id='file-34pLwo2isj5rUmMUoMvB34', object='batch', status='validating', cancelled_at=None, cancelling_at=None, completed_at=None, error_file_id=None, errors=None, expired_at=None, expires_at=1744660069, failed_at=None, finalizing_at=None, in_progress_at=None, metadata={'description': 'create 100 word summaries'}, output_file_id=None, request_counts=BatchRequestCounts(completed=0, failed=0, total=0))"
      ]
     },
     "execution_count": 88,
     "metadata": {},
     "output_type": "execute_result"
    }
   ],
   "source": [
    "batch_input_file_id = batch_input_file.id\n",
    "client.batches.create(\n",
    "    input_file_id=batch_input_file_id,\n",
    "    endpoint=\"/v1/responses\",\n",
    "    completion_window=\"24h\",\n",
    "    metadata={\n",
    "        \"description\": \"create 100 word summaries\"\n",
    "    }\n",
    ")"
   ]
  },
  {
   "cell_type": "code",
   "execution_count": 89,
   "metadata": {},
   "outputs": [
    {
     "name": "stdout",
     "output_type": "stream",
     "text": [
      "Batch(id='batch_67fc0e1b74f481909a51a22732be077e', completion_window='24h', created_at=1744571931, endpoint='/v1/responses', input_file_id='file-AribzymYegBKiFzKt5DPxE', object='batch', status='failed', cancelled_at=None, cancelling_at=None, completed_at=None, error_file_id=None, errors=Errors(data=[BatchError(code='invalid_type', line=1, message=\"Invalid type for 'body': expected an object, but got a string instead.\", param='body'), BatchError(code='invalid_type', line=2, message=\"Invalid type for 'body': expected an object, but got a string instead.\", param='body'), BatchError(code='invalid_type', line=3, message=\"Invalid type for 'body': expected an object, but got a string instead.\", param='body'), BatchError(code='invalid_type', line=4, message=\"Invalid type for 'body': expected an object, but got a string instead.\", param='body'), BatchError(code='invalid_type', line=5, message=\"Invalid type for 'body': expected an object, but got a string instead.\", param='body'), BatchError(code='invalid_type', line=6, message=\"Invalid type for 'body': expected an object, but got a string instead.\", param='body'), BatchError(code='invalid_type', line=7, message=\"Invalid type for 'body': expected an object, but got a string instead.\", param='body'), BatchError(code='invalid_type', line=8, message=\"Invalid type for 'body': expected an object, but got a string instead.\", param='body'), BatchError(code='invalid_type', line=9, message=\"Invalid type for 'body': expected an object, but got a string instead.\", param='body'), BatchError(code='invalid_type', line=10, message=\"Invalid type for 'body': expected an object, but got a string instead.\", param='body'), BatchError(code='invalid_type', line=11, message=\"Invalid type for 'body': expected an object, but got a string instead.\", param='body'), BatchError(code='invalid_type', line=12, message=\"Invalid type for 'body': expected an object, but got a string instead.\", param='body'), BatchError(code='invalid_type', line=13, message=\"Invalid type for 'body': expected an object, but got a string instead.\", param='body'), BatchError(code='invalid_type', line=14, message=\"Invalid type for 'body': expected an object, but got a string instead.\", param='body'), BatchError(code='invalid_type', line=15, message=\"Invalid type for 'body': expected an object, but got a string instead.\", param='body'), BatchError(code='invalid_type', line=16, message=\"Invalid type for 'body': expected an object, but got a string instead.\", param='body'), BatchError(code='invalid_type', line=17, message=\"Invalid type for 'body': expected an object, but got a string instead.\", param='body'), BatchError(code='invalid_type', line=18, message=\"Invalid type for 'body': expected an object, but got a string instead.\", param='body'), BatchError(code='invalid_type', line=19, message=\"Invalid type for 'body': expected an object, but got a string instead.\", param='body'), BatchError(code='invalid_type', line=20, message=\"Invalid type for 'body': expected an object, but got a string instead.\", param='body')], object='list'), expired_at=None, expires_at=1744658331, failed_at=1744571940, finalizing_at=None, in_progress_at=None, metadata={'description': 'create 100 word summaries'}, output_file_id=None, request_counts=BatchRequestCounts(completed=0, failed=0, total=0))\n"
     ]
    }
   ],
   "source": [
    "batch = client.batches.retrieve(batch_id='batch_67fc0e1b74f481909a51a22732be077e')\n",
    "print(batch)"
   ]
  },
  {
   "cell_type": "code",
   "execution_count": 91,
   "metadata": {},
   "outputs": [],
   "source": [
    "ds2 = load_dataset(\"json\", data_files=\"allsides_summary_100.jsonl\")"
   ]
  },
  {
   "cell_type": "code",
   "execution_count": 95,
   "metadata": {},
   "outputs": [
    {
     "data": {
      "text/plain": [
       "{'custom_id': '404bfca6572e65b2_100',\n",
       " 'method': 'POST',\n",
       " 'url': '/v1/responses',\n",
       " 'body': {'input': 'Generate an exactly 100 word summary of the following article. Keep the authorial voice, perspective, and tone. \\n Trump Administration Advertisement Supported by Iran’s supreme leader, Ayatollah Ali Khamenei, promised retaliation. The U.S. moved to send more troops to the Middle East. And a deluge of threats on social media. transcript Suleimani was plotting imminent and sinister attacks on American diplomats and military personnel. But we caught him in the act. We took action last night to stop a war. We did not take action to start a war. President Trump said Friday afternoon that the airstrike that killed Maj. Gen. Qassim Suleimani, the powerful Iranian commander, was ordered “to stop a war” and prevented attacks on Americans. “Suleimani was plotting imminent and sinister attacks on American diplomats and military personnel, but we caught him in the act and terminated him,” he said, speaking to reporters from his resort in West Palm Beach, Fla. “We took action last night to stop a war, we did not take action to start a war.” Mr. Trump said the United States is not seeking regime change in Iran, but called for Tehran’s “aggression in the region” to immediately end. He also warned Iran against retaliating, saying, “If Americans anywhere are threatened, we have all of those targets already fully identified, and I am ready and prepared to take whatever action is necessary.” He added, “that in particular refers to Iran.” The airstrike directed by Mr. Trump dramatically ratcheted up tensions between Washington and Tehran, and Iran’s leaders quickly promised retaliation for the general’s killing. Advertisement Around the time of the overnight strike, a Special Operations unit based in the United States boarded transport aircraft bound for the Middle East, one Defense Department official said. The deployment of the elite Army Rangers was the latest to the region. This week, the Pentagon readied 4,000 troops based at Fort Bragg, N.C., for a similar security mission to Kuwait. They are to depart in the coming days, joining 750 troops already deployed, officials said. “The brigade will deploy to Kuwait as an appropriate and precautionary action in response to increased threat levels against U.S. personnel and facilities,” a Department of Defense spokesperson said. General Suleimani, a powerful strategist who represented Iran’s influence across the region, was killed by an American drone at Baghdad’s airport, in an attack that had been authorized by President Trump. Iraq’s Parliament planned to hold an emergency session over the weekend to address the airstrike, which Prime Minister Adel Abdul Mahdi called “a brazen violation of Iraq’s sovereignty and a blatant attack on the nation’s dignity.” A powerful Iraqi militia leader was also killed. Advertisement The strike, regarded by analysts as perhaps the riskiest American move in the Middle East since the invasion of Iraq in 2003, threatened to inflame hostilities across the region. Iran’s United Nations ambassador, Majid Takht Ravanchi, called the killing of Maj. Gen. Qassim Suleimani “an act of war,” and vowed that it would be met with “revenge, a harsh revenge.” “Last night, they started a military war by assassinating, by an act of terror, one of our top generals,” Mr. Takht Ravanchi said during an appearance Friday on CNN. “We cannot just remain silent. We have to act and we will act.” Asked if Iran would act militarily, Mr. Takht Ravanchi said: “That’s for the future to witness.” In the hours after the American strike, thousands of pro-Iranian social media accounts went to work. Accounts on Twitter and Instagram tagged the White House with death threats and posted images of President Trump with a severed head and coffins covered in the American flag, alongside the hashtag Operation Hard Revenge. Advertisement It was not clear whether the activity was the work of actual accounts or state-backed bots, according to the Atlantic Council’s Digital Forensic Research Lab. But they tweeted pro-Iranian, anti-American content at a rate of 3,000 tweets every 45 minutes, according to New York Times data. The social media activity may just be an opening salvo, experts said. Iran may begin a digital campaign of cyberattacks and disinformation in retaliation for General Suleimani’s death, they said. Tehran’s most likely target, the experts added, would be the American private sector. Over the past year, Iranian hackers have taken aim at Mr. Trump’s presidential campaign. They have also targeted telecom companies, infrastructure systems and more than 200 oil, gas and heavy machinery companies around the world. The hackers have “developed the ability to disrupt critical infrastructure and they already have the ability to wipe data,” said James A. Lewis, a cybersecurity expert at the Center for Strategic Studies in Washington. “But they’ve gone well beyond that now. The question is what services — pipelines? dams? — will they target now.” Iran is still not “at the top of the league” of countries with the ability to cause widespread destruction via cyberattacks, Mr. Lewis and other experts said. But Tehran is much further along than American officials gave it credit for in 2009, when a classified intelligence assessment concluded that it had the motivation to inflict harm, but lacked the skills and resources to do so. Advertisement Since 2010 — when an Iranian nuclear facility was the target of a joint American-Israeli cyberattack — Tehran has embraced such attacks as part its strategy of “asymmetrical warfare.” While Iran’s Islamic Revolutionary Guards Corps may never match the West in conventional warfare, its specialized teams have learned how much destruction they can cause to vulnerable systems, according to American intelligence assessments and private security researchers. Over the past five years, American officials and cybersecurity experts have tracked Iranian hackers as they have significantly advanced their capabilities beyond wiping data to sophisticated attacks on financial networks, internet infrastructure, energy companies — and, even more disconcerting, sites like the Bowman Dam in Westchester County and the Energy Department’s Idaho National Engineering Laboratory near Idaho Falls. “They now have the ability to do serious harm,” Mr. Lewis said. “As the conflict with the U.S. continues, they’re going to be tempted. Expect to see a lot more testing of how far they can get into company networks, universities, federal networks and smaller government networks in towns and cities.” Iranian leaders issued strident calls on Friday for revenge against the United States after the killing of Maj. Gen. Qassim Suleimani in an overnight airstrike at the Baghdad airport. His death is a considerable blow to Tehran, and Iran’s supreme leader, Ayatollah Ali Khamenei, called for retaliation and for three days of national mourning. Advertisement “His departure to God does not end his path or his mission, but a forceful revenge awaits the criminals who have his blood and the blood of the other martyrs last night on their hands,” the supreme leader said in a statement. Iran’s security body also pledged to avenge General Suleimani’s killing in the “right place and time,” saying it had reached a decision on how to do so. The American strike spurred mass displays of public mourning by Iran and its network of allies across the Middle East. Iranian officials said the general’s body would be taken on a funeral procession around Baghdad, and that a funeral would be held for him in Tehran on Sunday. On Friday, Mr. Trump posted on Twitter about the strike, saying that General Suleimani “killed or badly wounded thousands of Americans over an extended period of time, and was plotting to kill many more … but got caught!” Advertisement General Suleimani was the head of the powerful Quds Force of the Islamic Revolutionary Guards Corps and the architect of nearly every significant operation by Iranian intelligence and military forces over the past two decades. The general’s prominent role meant that his death could have a ripple effect in any number of countries across the Middle East where Iran and the United States compete for influence. Terminals Baghdad International Airport Suleimani was in a vehicle struck by two missiles as his convoy exited the airport. airport st. Terminals Baghdad International Airport Suleimani was in a vehicle struck by two missiles as his convoy exited the airport. airport st. Terminals Baghdad International Airport Suleimani was in a vehicle struck by two missiles as his convoy exited the airport. airport st. The strike was carried out by an MQ-9 Reaper drone that fired missiles on a convoy of vehicles leaving the airport. Several other officials from Iraqi militias backed by Tehran were also killed. Advertisement “This strike was aimed at deterring future Iranian attack plans,” the Pentagon said in a statement. The United States has long been at odds with Iran over its nuclear program and influence in Iraq and other countries in the region. Those tensions have surged under the Trump administration. The strike on Friday was the latest escalation between the two nations after a rocket attack on an Iraqi military base, believed to have been carried out by an Iran-backed militia, killed an American contractor in December. The United States hit back with airstrikes on an Iranian-backed militia that killed 24 and prompted outrage among some who saw that attack as a violation of Iraqi sovereignty. Pro-Iranian demonstrators broke into the United States Embassy compound on Tuesday. The breach prompted Mr. Trump to order roughly 750 additional American troops to be deployed to the region. The State Department urged American citizens to leave Iraq immediately following the strike that killed General Suleimani in Baghdad, citing “heightened tensions.” Advertisement Oil prices jumped on Friday after the news of the general’s death: The price of Brent oil, the international benchmark, surged in the early hours of Hong Kong trading to nearly $70 a barrel — an increase of $3. The immediate increase in the price of oil was among the largest since an attack on a critical Saudi oil installation in September that temporarily knocked out 5 percent of the world’s oil supply. By 11 a.m. in London, the price of Brent crude oil was at a three-month high of $69.20 a barrel. International oil companies based in the southeastern Iraqi city of Basra have begun evacuating American employees, according to Al Arabiya news outlet. The Dow Jones industrial average and the S&P 500 each opened about 1 percent lower on Friday, while oil company shares rose, with Exxon Mobil up 1.3 percent and Chevron up 1.2 percent in premarket trading. Advertisement Secretary of State Mike Pompeo said he had spoken to top diplomats in Britain, China and Germany on Friday about what the State Department described as President Trump’s recent decision to carry out the strike “in response to imminent threats to American lives.” Mr. Pompeo also told his foreign counterparts that the United States was committed to de-escalation, according to the State Department. Mr. Pompeo posted several statements and a video on Twitter that he said showed Iraqis “dancing in the street.” (Witnesses said that brief demonstration had involved only a small group of men, and that no one else had joined in.) “This was a man who has put American lives at risk for an awfully long time,” Mr. Pompeo said on Friday on CNN. “Last night was the time that we needed to strike to make sure that this imminent attack that he was working actively was disrupted.” Advertisement He declined to provide more details about the looming attack. One American official familiar with the internal discussions about the drone strike said the administration was still trying to figure out what would come next. The official, who spoke on the condition of anonymity, said the backlash over General Suleimani’s death could be even more fraught than the tensions after an American raid in 2011 that killed Osama bin Laden, the leader of Al Qaeda, who was part of a stateless group and had no international support. The Swiss Foreign Ministry said in a statement that a diplomat from Switzerland, which represents American interests in Iran to maintain communication, had delivered a message from the United States to the Iranian Foreign Ministry in Tehran on Friday concerning the death of General Suleimani. It did not elaborate. “Given the latest events in the region, Switzerland invites both parties to avoid any escalation,” the ministry said. Advertisement As the leader of the Quds Force of the Islamic Revolutionary Guards Corps, which leads Iran’s operations abroad, General Suleimani, who was 62, was the country’s top security and intelligence commander. He was behind nearly all military and intelligence operations orchestrated by Iran in the past two decades and directed Iran-backed militias in the fight against the Islamic State. American officials have also accused him of causing the deaths of hundreds of soldiers during the Iraq war and he was believed to have played a central role in orchestrating Iran’s support for the government of President Bashar al-Assad in Syria. In Iran, General Suleimani was a respected political figure among hard-liners and was close to the supreme leader, Ayatollah Ali Khamenei. To many Iranians, he was also a war hero, after becoming a commander while he was only in his 20s during the Iran-Iraq war in the 1980s. The general’s deputy succeeded him within hours, according to Iranian news agencies, with Iran’s supreme leader, Ayatollah Ali Khamenei, appointing Brig. Gen. Ismail Qaani as leader of the Quds Force on Friday. Advertisement General Qaani, 62, had been the force’s deputy commander since 1997, according to Reuters. The United States Treasury Department put General Qaani on a blacklist in 2012 for what it called “financial disbursements” to various terrorist groups, including Hezbollah. Large crowds gathered for Friday Prayer in Iran and filled public squares with mass protests, while officials met privately to plot strategy and leaders vowed to avenge General Suleimani’s death. Images broadcast on Iranian state television showed thousands of supporters of General Suleimani gathered in mourning outside his house in the southeastern town of Kerman, and in other cities. “The great nation of Iran will take revenge for this heinous crime,” President Hassan Rouhani wrote on Twitter. Advertisement Iran’s foreign minister, Mohammad Javad Zarif, called the strike an “act of international terrorism.” Iran was working with Iraqi officials to repatriate the general’s body for a funeral service, perhaps as soon as Saturday, a number of Iranian journalists reported. Iran’s Supreme National Security Council also held an emergency meeting on Friday, which the supreme leader, Ayatollah Ali Khamenei, attended. The council issued a statement after the meeting saying it had reached a decision on how to respond to the killing, but did not say what that decision was. “America must know the criminal attack on General Suleimani was its worst strategic mistake in the Middle East and that America will not escape the consequences easily,” the statement read. “As our supreme leader said in his message, a harsh revenge awaits the criminals who have the general’s blood on their hands. These criminals will face revenge at the right time and place.” Advertisement In Iraq, the strike appeared likely to accelerate calls for the departure of American troops. Along with General Suleimani, it killed Abu Mahdi al-Muhandis, the leader of a powerful militia that is backed by Iran but under the umbrella of the Iraqi military. Prime Minister Adel Abdul Mahdi of Iraq praised Mr. al-Muhandis and General Suleimani as heroes in the fight against the Islamic State and condemned their killing as a violation of sovereignty. Friday’s strike in Baghdad also killed Abu Mahdi al-Muhandis, an Iraqi militia leader who was one of Iran’s top lieutenants in Iraq and a veteran of battles against the United States and the Islamic State. Born Jamal Jaafar Ibrahimi, he was better known by his nom de guerre and gained prominence as mostly Shiite militias formed to fight the Islamic State in 2014. But he was a powerful force in Iraq for years, and his death alone would have sent shock waves through the country. Advertisement In 2009, the United States Treasury Department designated Mr. al-Muhandis a “threat to stability in Iraq” and accused him of helping smuggle rockets, sniper rifles and other weapons into the country from Iran. Long before the Iraq war, he was accused of playing a role in the bombings of French and American Embassies in Kuwait in 1983, and the later attempt to assassinate Kuwait’s emir. Much of Mr. al-Muhandis’s history remains murky, including his exact age: He would have been about 66 or 67 at the time of his death, according to the United States government, which has said he was born in 1953 in Basra, Iraq. Mr. al-Muhandis fled Iraq with the rise of Saddam Hussein and spent years in exile in Iran, cultivating close ties with Iranian officials, becoming fluent in Persian and keeping a home in Tehran. He returned to Iraq in the aftermath of the American invasion in 2003 and briefly served in Iraq’s Parliament before dropping out of public view. He helped found a militia that fought against the United States, and was accused of training and equipping a network of anti-American groups. The militia has continued to oppose the United States, and American officials blamed it for the rocket attack that killed an American contractor last week. Advertisement In a reflection of the chaos that has engulfed Iraq and the region, it was only five years after the Treasury Department put sanctions on Mr. al-Muhandis that he found himself effectively on the same side as the United States. The invasion of Iraq by the Islamic State from Syria gave his militia, Iran and the United States a common enemy. Iranian allies across the Arab world condemned the United States, reflecting the strength of the regional network General Suleimani spent much of his life building, including links to the government of Syria and militant groups in Lebanon, Gaza, Yemen and elsewhere. The leader of Hezbollah, the Lebanese militant group and political party that General Suleimani helped build, vowed in a statement that his group would continue on the path the general set and “work night and day to achieve his goals.” It was the responsibility of all resistance fighters to seek “just retribution” against “the most evil criminals in the world,” the leader, Hassan Nasrallah, said, meaning the United States. Advertisement In Yemen, the administration run by the Houthi rebels, who have received support from Iran in their war against Saudi Arabia, condemned the United States strike as a “cowardly attack” that “makes clear the increasing American spite against all who are in favor of justice for the Islamic world.” In Syria, where General Suleimani oversaw a huge effort to shore up the government of President Bashar al-Assad, a foreign ministry official condemned the “treacherous, criminal American aggression” that led to his killing, the state news agency SANA reported on Friday. António Guterres, the United Nations’ secretary general, voiced his deep concern over the recent rise in tensions in the Middle East, his spokesman, Farhan Haq, said in a statement. “The world cannot afford another war in the Gulf,” the statement read. “This is a moment in which leaders must exercise maximum restraint.” Advertisement The killing of General Suleimani “most likely” violated international law, Agnes Callamard, the United Nations expert on extrajudicial executions, said in a post on Twitter. “Use of lethal force is only justified to protect against an imminent threat to life,” Ms. Callamard wrote. Use of drones for targeted killings outside active hostilities was “almost never likely to be legal,” she added. Many experts also said on Friday that the strike probably ended any prospect of negotiations to save the Joint Comprehensive Plan of Action, the landmark nuclear agreement Iran signed in 2015 with the United States, China, Russia, Britain, France and Germany. The recent escalation in tensions between the United States and Iran began with the 2018 decision by President Trump to withdraw from the deal. The Russian Foreign Ministry called the killing of General Suleimani “an adventurist step that will increase tensions throughout the region,” according to local news agencies. A spokesman for the Chinese Foreign Ministry called for restraint on all sides, “especially the United States.” Advertisement “China has always opposed the use of force in international relations,” the spokesman, Geng Shuang, said at a daily news briefing, according to news agencies. Britain’s foreign secretary, Dominic Raab, called on Friday for a de-escalation in tensions and said that further conflict in the region was not in his country’s interest. “We have always recognized the aggressive threat posed by the Iranian Quds force led by Qassim Suleimani,” Mr. Raab said in a statement. “Following his death, we urge all parties to de-escalate.” Federica Mogherini, the former European high representative for foreign and security policy, said on Twitter that the general’s killing was “an extremely dangerous escalation.” Advertisement In France, the country’s junior minister for European affairs, Amélie de Montchalin, said that she would soon consult with countries in the region. “We have woken up to a more dangerous world,” Ms. de Montchalin told French radio, calling for “stability and de-escalation.” Prime Minister Benjamin Netanyahu of Israel cut short an official visit to Greece to return to Israel on Friday after the killing of Maj. Gen. Qassim Suleimani. Before boarding the plane, Mr. Netanyahu praised President Trump for “acting swiftly, forcefully and decisively.” Advertisement General Suleimani, a longtime adversary of Israel, was credited with overseeing many attacks against Israeli and Jewish targets and he was linked with an attack on the Israeli Embassy in Argentina in the 1990s. More recently, he was behind military actions from Syria, across Israel’s northern frontier. Hamas, the Islamic militant group that controls the Palestinian coastal territory of Gaza, condemned what it called “U.S. bullying” that it said served the interests of Israel. It offered condolences to Iran on the death of General Suleimani, saying in a statement that he had “played a major and critical role in supporting Palestinian resistance at all levels.” Bassem Naim, a spokesman for the group, said on Twitter that the assassination “opens the doors of the region to all possibilities, except calm & stability.” Advertisement Speaker Nancy Pelosi demanded that the administration brief the full Congress on the strike and the next steps under consideration, noting that the move was made without lawmakers’ consultation or an authorization of military force. Ms. Pelosi spoke with Mark T. Esper, the defense secretary, Thursday night after the attack, an aide said, but was not given advance notice. The strike, Ms. Pelosi said in a statement late Thursday evening, “risks provoking further dangerous escalation of violence. America — and the world — cannot afford to have tensions escalate to the point of no return.” In stark contrast, Republican lawmakers — including both Iran hawks and those who have frequently clashed with Mr. Trump over his foreign policy — have almost uniformly praised the move. Advertisement “Will there be escalation? Yes. But the escalation is not on our part,” Representative Adam Kinzinger of Illinois, who was stationed twice in Iraq with the Air Force, told CNN. “We’re finally responding to continued provocations by Iran.” The strike immediately spurred debate among American lawmakers about President Trump’s war powers and left congressional leaders sharply divided along party lines. Senator Tom Udall, Democrat of New Mexico, accused Mr. Trump of bringing the nation “to the brink of an illegal war with Iran.” Senator Marco Rubio, Republican of Florida, said on Twitter that Mr. Trump had “exercised admirable restraint” and added that the Quds Force were “entirely to blame.” Reporting was contributed by Ben Hubbard, Farnaz Fassihi, Megan Specia, Isabel Kershner, Ronen Bergman, Lara Jakes, Eileen Sullivan, Thomas Gibbons-Neff, Elian Peltier, Catie Edmondson, Benjamin Mueller, Alan Yuhas, Nick Cumming-Bruce, Nicole Perlroth, Ben Decker and Joan Nassivera. An earlier version of this briefing, citing an official with an Iraqi militia backed by Iran, reported that at least four people were killed Saturday in what appeared to have been an airstrike near Taji, Iraq. The Iraqi military said later that no such airstrike occurred there. When we learn of a mistake, we acknowledge it with a correction. If you spot an error, please let us know at nytnews@nytimes.com.Learn more Advertisement',\n",
       "  'model': 'gpt-4o-mini',\n",
       "  'store': True,\n",
       "  'text': {'format': {'name': 'response_type',\n",
       "    'schema': {'$schema': 'https://json-schema.org/draft/2020-12/schema',\n",
       "     'additionalProperties': False,\n",
       "     'properties': {'article': {'type': 'string'}},\n",
       "     'required': ['article'],\n",
       "     'type': 'object'},\n",
       "    'type': 'json_schema'}}}}"
      ]
     },
     "execution_count": 95,
     "metadata": {},
     "output_type": "execute_result"
    }
   ],
   "source": [
    "ds2[\"train\"][2]"
   ]
  }
 ],
 "metadata": {
  "kernelspec": {
   "display_name": ".venv",
   "language": "python",
   "name": "python3"
  },
  "language_info": {
   "codemirror_mode": {
    "name": "ipython",
    "version": 3
   },
   "file_extension": ".py",
   "mimetype": "text/x-python",
   "name": "python",
   "nbconvert_exporter": "python",
   "pygments_lexer": "ipython3",
   "version": "3.12.8"
  }
 },
 "nbformat": 4,
 "nbformat_minor": 2
}
