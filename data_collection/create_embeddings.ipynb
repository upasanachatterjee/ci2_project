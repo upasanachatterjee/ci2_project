{
 "cells": [
  {
   "cell_type": "code",
   "execution_count": 1,
   "id": "77cbf0c7",
   "metadata": {},
   "outputs": [],
   "source": [
    "%load_ext autoreload\n",
    "%autoreload 2"
   ]
  },
  {
   "cell_type": "code",
   "execution_count": null,
   "id": "9b0e667f",
   "metadata": {},
   "outputs": [
    {
     "name": "stdout",
     "output_type": "stream",
     "text": [
      "Logged in to Hugging Face Hub\n"
     ]
    },
    {
     "name": "stderr",
     "output_type": "stream",
     "text": [
      "Generating train split: 100%|██████████| 45091/45091 [00:02<00:00, 20043.24 examples/s]"
     ]
    },
    {
     "name": "stdout",
     "output_type": "stream",
     "text": [
      "Loaded dataset: dragonslayer631/ci2_allsides, split: train\n"
     ]
    },
    {
     "name": "stderr",
     "output_type": "stream",
     "text": [
      "\n"
     ]
    }
   ],
   "source": [
    "from utils.ds_utils import load_dataset_from_huggingface, login_huggingface\n",
    "import os\n",
    "\n",
    "login_huggingface(os.getenv(\"hf_token\"))\n",
    "\n",
    "ds = load_dataset_from_huggingface()"
   ]
  },
  {
   "cell_type": "code",
   "execution_count": 2,
   "id": "a386aed8-99df-447b-a769-84c6e13e5030",
   "metadata": {},
   "outputs": [
    {
     "data": {
      "text/plain": [
       "'cpu'"
      ]
     },
     "execution_count": 2,
     "metadata": {},
     "output_type": "execute_result"
    }
   ],
   "source": [
    "import torch\n",
    "\n",
    "device = 'cuda' if torch.cuda.is_available() else 'cpu'\n",
    "device"
   ]
  },
  {
   "cell_type": "code",
   "execution_count": 3,
   "id": "8523c1ab",
   "metadata": {},
   "outputs": [],
   "source": [
    "from sentence_transformers import SentenceTransformer\n",
    "\n",
    "# 1. Load a pretrained Sentence Transformer model\n",
    "model = SentenceTransformer(\"all-mpnet-base-v2\")\n",
    "\n",
    "model = model.to(device)"
   ]
  },
  {
   "cell_type": "code",
   "execution_count": 37,
   "id": "db266b58-3b9a-430c-a863-3c678d7ca4c4",
   "metadata": {},
   "outputs": [
    {
     "data": {
      "text/plain": [
       "382"
      ]
     },
     "execution_count": 37,
     "metadata": {},
     "output_type": "execute_result"
    }
   ],
   "source": [
    "max_size = model.get_max_seq_length() - 2\n",
    "max_size"
   ]
  },
  {
   "cell_type": "code",
   "execution_count": 53,
   "id": "63252ac0-3518-4192-b1e7-16f63a003777",
   "metadata": {},
   "outputs": [],
   "source": [
    "import time\n",
    "\n",
    "def embed_long_text(text, model, chunk_size, device):\n",
    "    tokenizer = model.tokenizer\n",
    "    tokens = tokenizer.tokenize(text)\n",
    "    chunks = [\" \".join(tokens[i:i+chunk_size]) for i in range(0, len(tokens), chunk_size)]\n",
    "    \n",
    "    chunk_embeddings = model.encode(\n",
    "        chunks,\n",
    "        batch_size=32,\n",
    "        device=device,\n",
    "        convert_to_tensor=False,\n",
    "    )\n",
    "    \n",
    "    return sum(chunk_embeddings) / len(chunk_embeddings)\n",
    "\n",
    "def encode_text(batch):\n",
    "    text_encoded = [\n",
    "        embed_long_text(x, model=model, chunk_size=max_size, device=device)\n",
    "        for x in batch['text']\n",
    "    ]\n",
    "\n",
    "    summary_100_encoded = model.encode(\n",
    "        batch['summary_100'], batch_size=64, device=device, convert_to_tensor=False\n",
    "    )\n",
    "    summary_50_encoded = model.encode(\n",
    "        batch['summary_50'], batch_size=64, device=device, convert_to_tensor=False\n",
    "    )\n",
    "\n",
    "    return {\n",
    "        \"text_encoded\": text_encoded,\n",
    "        \"summary_100_encoded\": summary_100_encoded,\n",
    "        \"summary_50_encoded\": summary_50_encoded\n",
    "    }"
   ]
  },
  {
   "cell_type": "code",
   "execution_count": 54,
   "id": "c468323a-1ca6-4d2c-9575-ae878c72d14c",
   "metadata": {},
   "outputs": [
    {
     "name": "stderr",
     "output_type": "stream",
     "text": [
      "Map: 100%|██████████| 45091/45091 [2:53:31<00:00,  4.33 examples/s]  \n"
     ]
    }
   ],
   "source": [
    "mapped = ds.map(\n",
    "    encode_text, \n",
    "    batched=True,\n",
    "    batch_size=64,\n",
    ")"
   ]
  },
  {
   "cell_type": "code",
   "execution_count": 55,
   "id": "b81fff26-6f3e-472b-86f5-848a4484a462",
   "metadata": {},
   "outputs": [
    {
     "name": "stderr",
     "output_type": "stream",
     "text": [
      "Uploading the dataset shards:   0%|          | 0/2 [00:00<?, ?it/s]\n",
      "\u001b[Aating parquet from Arrow format:   0%|          | 0/23 [00:00<?, ?ba/s]\n",
      "\u001b[Aating parquet from Arrow format:   4%|▍         | 1/23 [00:00<00:05,  3.73ba/s]\n",
      "\u001b[Aating parquet from Arrow format:   9%|▊         | 2/23 [00:00<00:05,  3.96ba/s]\n",
      "\u001b[Aating parquet from Arrow format:  13%|█▎        | 3/23 [00:00<00:04,  4.32ba/s]\n",
      "\u001b[Aating parquet from Arrow format:  17%|█▋        | 4/23 [00:00<00:03,  4.80ba/s]\n",
      "\u001b[Aating parquet from Arrow format:  22%|██▏       | 5/23 [00:01<00:03,  4.79ba/s]\n",
      "\u001b[Aating parquet from Arrow format:  26%|██▌       | 6/23 [00:01<00:03,  4.66ba/s]\n",
      "\u001b[Aating parquet from Arrow format:  30%|███       | 7/23 [00:01<00:03,  4.83ba/s]\n",
      "\u001b[Aating parquet from Arrow format:  35%|███▍      | 8/23 [00:01<00:03,  5.00ba/s]\n",
      "\u001b[Aating parquet from Arrow format:  39%|███▉      | 9/23 [00:01<00:02,  4.91ba/s]\n",
      "\u001b[Aating parquet from Arrow format:  43%|████▎     | 10/23 [00:02<00:02,  4.97ba/s]\n",
      "\u001b[Aating parquet from Arrow format:  48%|████▊     | 11/23 [00:02<00:02,  4.93ba/s]\n",
      "\u001b[Aating parquet from Arrow format:  52%|█████▏    | 12/23 [00:02<00:02,  3.82ba/s]\n",
      "\u001b[Aating parquet from Arrow format:  57%|█████▋    | 13/23 [00:02<00:02,  4.08ba/s]\n",
      "\u001b[Aating parquet from Arrow format:  61%|██████    | 14/23 [00:03<00:02,  4.43ba/s]\n",
      "\u001b[Aating parquet from Arrow format:  65%|██████▌   | 15/23 [00:03<00:01,  4.60ba/s]\n",
      "\u001b[Aating parquet from Arrow format:  70%|██████▉   | 16/23 [00:03<00:01,  4.62ba/s]\n",
      "\u001b[Aating parquet from Arrow format:  74%|███████▍  | 17/23 [00:03<00:01,  5.00ba/s]\n",
      "\u001b[Aating parquet from Arrow format:  78%|███████▊  | 18/23 [00:03<00:00,  5.08ba/s]\n",
      "\u001b[Aating parquet from Arrow format:  83%|████████▎ | 19/23 [00:04<00:00,  5.20ba/s]\n",
      "\u001b[Aating parquet from Arrow format:  87%|████████▋ | 20/23 [00:04<00:00,  5.11ba/s]\n",
      "\u001b[Aating parquet from Arrow format:  91%|█████████▏| 21/23 [00:04<00:00,  4.66ba/s]\n",
      "\u001b[Aating parquet from Arrow format:  96%|█████████▌| 22/23 [00:04<00:00,  4.70ba/s]\n",
      "Creating parquet from Arrow format: 100%|██████████| 23/23 [00:04<00:00,  4.71ba/s]\n",
      "Uploading the dataset shards:  50%|█████     | 1/2 [00:22<00:22, 22.09s/it]\n",
      "\u001b[Aating parquet from Arrow format:   0%|          | 0/23 [00:00<?, ?ba/s]\n",
      "\u001b[Aating parquet from Arrow format:   4%|▍         | 1/23 [00:00<00:05,  3.93ba/s]\n",
      "\u001b[Aating parquet from Arrow format:   9%|▊         | 2/23 [00:00<00:04,  4.68ba/s]\n",
      "\u001b[Aating parquet from Arrow format:  13%|█▎        | 3/23 [00:00<00:04,  4.88ba/s]\n",
      "\u001b[Aating parquet from Arrow format:  17%|█▋        | 4/23 [00:00<00:03,  5.33ba/s]\n",
      "\u001b[Aating parquet from Arrow format:  22%|██▏       | 5/23 [00:01<00:03,  4.83ba/s]\n",
      "\u001b[Aating parquet from Arrow format:  26%|██▌       | 6/23 [00:01<00:03,  4.96ba/s]\n",
      "\u001b[Aating parquet from Arrow format:  30%|███       | 7/23 [00:01<00:03,  5.17ba/s]\n",
      "\u001b[Aating parquet from Arrow format:  35%|███▍      | 8/23 [00:01<00:03,  4.96ba/s]\n",
      "\u001b[Aating parquet from Arrow format:  39%|███▉      | 9/23 [00:01<00:02,  4.75ba/s]\n",
      "\u001b[Aating parquet from Arrow format:  43%|████▎     | 10/23 [00:02<00:02,  4.83ba/s]\n",
      "\u001b[Aating parquet from Arrow format:  48%|████▊     | 11/23 [00:02<00:02,  4.92ba/s]\n",
      "\u001b[Aating parquet from Arrow format:  52%|█████▏    | 12/23 [00:02<00:02,  3.72ba/s]\n",
      "\u001b[Aating parquet from Arrow format:  57%|█████▋    | 13/23 [00:02<00:02,  4.04ba/s]\n",
      "\u001b[Aating parquet from Arrow format:  61%|██████    | 14/23 [00:03<00:02,  4.37ba/s]\n",
      "\u001b[Aating parquet from Arrow format:  65%|██████▌   | 15/23 [00:03<00:01,  4.47ba/s]\n",
      "\u001b[Aating parquet from Arrow format:  70%|██████▉   | 16/23 [00:03<00:01,  4.63ba/s]\n",
      "\u001b[Aating parquet from Arrow format:  74%|███████▍  | 17/23 [00:03<00:01,  4.69ba/s]\n",
      "\u001b[Aating parquet from Arrow format:  78%|███████▊  | 18/23 [00:03<00:01,  4.75ba/s]\n",
      "\u001b[Aating parquet from Arrow format:  83%|████████▎ | 19/23 [00:04<00:00,  4.81ba/s]\n",
      "\u001b[Aating parquet from Arrow format:  87%|████████▋ | 20/23 [00:04<00:00,  4.90ba/s]\n",
      "\u001b[Aating parquet from Arrow format:  91%|█████████▏| 21/23 [00:04<00:00,  4.94ba/s]\n",
      "\u001b[Aating parquet from Arrow format:  96%|█████████▌| 22/23 [00:04<00:00,  4.97ba/s]\n",
      "Creating parquet from Arrow format: 100%|██████████| 23/23 [00:04<00:00,  4.71ba/s]\n",
      "Uploading the dataset shards: 100%|██████████| 2/2 [00:40<00:00, 20.50s/it]\n"
     ]
    },
    {
     "name": "stdout",
     "output_type": "stream",
     "text": [
      "Saved dataset: dragonslayer631/ci2_allsides, split: train\n"
     ]
    }
   ],
   "source": [
    "from utils.ds_utils import save_dataset_to_huggingface\n",
    "\n",
    "save_dataset_to_huggingface(mapped)"
   ]
  },
  {
   "cell_type": "code",
   "execution_count": 56,
   "id": "b99fbf4b-bd36-441c-afab-d0ae5ddaafe3",
   "metadata": {},
   "outputs": [
    {
     "data": {
      "text/plain": [
       "Dataset({\n",
       "    features: ['topic', 'tags', 'text', 'int_bias', 'summary_5', 'summary_50', 'summary_100', 'text_entity_sentiments', 'text_topic_to_sentiment', 'summary_100_entity_sentiments', 'summary_100_topic_to_sentiment', 'summary_50_entity_sentiments', 'summary_50_topic_to_sentiment', 'id'],\n",
       "    num_rows: 45091\n",
       "})"
      ]
     },
     "execution_count": 56,
     "metadata": {},
     "output_type": "execute_result"
    }
   ],
   "source": [
    "ds"
   ]
  },
  {
   "cell_type": "code",
   "execution_count": 103,
   "id": "8482f543-7338-4735-92fe-3aaa5dd903a1",
   "metadata": {},
   "outputs": [],
   "source": [
    "from collections import Counter\n",
    "import json\n",
    "\n",
    "def get_top_topics_sentiments(dcts: list[dict], top_k: int) -> tuple:        \n",
    "    batch_keys = []\n",
    "    batch_values = []\n",
    "    for dct in dcts:\n",
    "        \n",
    "        dct = json.loads(dct)\n",
    "        sorted_items = sorted(dct.items(), key=lambda item: abs(item[1]), reverse=True)\n",
    "        sorted_dict = dict(sorted_items)\n",
    "        keys, values = list(sorted_dict.keys()), list(sorted_dict.values())\n",
    "\n",
    "        if len(keys) > top_k:\n",
    "            keys = keys[:top_k]\n",
    "            values = values[:top_k]\n",
    "\n",
    "        if len(keys) < top_k:\n",
    "            extend = [None] * (top_k - len(keys))\n",
    "            keys.extend(extend)\n",
    "            values.extend(extend)\n",
    "\n",
    "        batch_keys.append(keys)\n",
    "        batch_values.append(values)\n",
    "        \n",
    "    return batch_keys, batch_values\n",
    "\n",
    "def categorize_topics_sentiments(batch):\n",
    "    topic_sentiments = batch['summary_100_topic_to_sentiment']\n",
    "    top_k_keys, top_k_values = get_top_topics_sentiments(topic_sentiments, 5)\n",
    "    return {\n",
    "        \"summary_100_topic_0\" : [k[0] for k in top_k_keys],\n",
    "        \"summary_100_sentiment_0\" : [v[0] for v in top_k_values],\n",
    "        \"summary_100_topic_1\" : [k[1] for k in top_k_keys],\n",
    "        \"summary_100_sentiment_1\" : [v[1] for v in top_k_values],\n",
    "        \"summary_100_topic_2\" : [k[2] for k in top_k_keys],\n",
    "        \"summary_100_sentiment_2\" : [v[2] for v in top_k_values],\n",
    "        \"summary_100_topic_3\" : [k[3] for k in top_k_keys],\n",
    "        \"summary_100_sentiment_3\" : [v[3] for v in top_k_values],\n",
    "        \"summary_100_topic_4\" : [k[4] for k in top_k_keys],\n",
    "        \"summary_100_sentiment_4\" : [v[4] for v in top_k_values]\n",
    "    }"
   ]
  },
  {
   "cell_type": "code",
   "execution_count": 84,
   "id": "82ab748f-91f8-4b31-8758-9f62a0033e35",
   "metadata": {},
   "outputs": [],
   "source": [
    "sample = ds.select(range(100))"
   ]
  },
  {
   "cell_type": "code",
   "execution_count": 85,
   "id": "4c9f0b77-167e-455f-b399-3856570f7964",
   "metadata": {},
   "outputs": [
    {
     "name": "stderr",
     "output_type": "stream",
     "text": [
      "Map: 100%|██████████| 100/100 [00:00<00:00, 7316.33 examples/s]\n"
     ]
    }
   ],
   "source": [
    "sampled = sample.map(\n",
    "    categorize_topics_sentiments, \n",
    "    batched=True,\n",
    "    batch_size=64,\n",
    ")"
   ]
  },
  {
   "cell_type": "code",
   "execution_count": 86,
   "id": "0052b801-3196-4294-bced-a2ee88d8d3af",
   "metadata": {},
   "outputs": [
    {
     "data": {
      "text/plain": [
       "Dataset({\n",
       "    features: ['topic', 'tags', 'text', 'int_bias', 'summary_5', 'summary_50', 'summary_100', 'text_entity_sentiments', 'text_topic_to_sentiment', 'summary_100_entity_sentiments', 'summary_100_topic_to_sentiment', 'summary_50_entity_sentiments', 'summary_50_topic_to_sentiment', 'id', 'text_topic_0', 'text_sentiment_0', 'text_topic_1', 'text_sentiment_1', 'text_topic_2', 'text_sentiment_2', 'text_topic_3', 'text_sentiment_3', 'text_topic_4', 'text_sentiment_4'],\n",
       "    num_rows: 100\n",
       "})"
      ]
     },
     "execution_count": 86,
     "metadata": {},
     "output_type": "execute_result"
    }
   ],
   "source": [
    "sampled"
   ]
  },
  {
   "cell_type": "code",
   "execution_count": 93,
   "id": "a6547c40-58a8-4630-b6d6-95d4cf481916",
   "metadata": {},
   "outputs": [
    {
     "data": {
      "text/html": [
       "<div>\n",
       "<style scoped>\n",
       "    .dataframe tbody tr th:only-of-type {\n",
       "        vertical-align: middle;\n",
       "    }\n",
       "\n",
       "    .dataframe tbody tr th {\n",
       "        vertical-align: top;\n",
       "    }\n",
       "\n",
       "    .dataframe thead th {\n",
       "        text-align: right;\n",
       "    }\n",
       "</style>\n",
       "<table border=\"1\" class=\"dataframe\">\n",
       "  <thead>\n",
       "    <tr style=\"text-align: right;\">\n",
       "      <th></th>\n",
       "      <th>topic</th>\n",
       "      <th>tags</th>\n",
       "      <th>text</th>\n",
       "      <th>int_bias</th>\n",
       "      <th>summary_5</th>\n",
       "      <th>summary_50</th>\n",
       "      <th>summary_100</th>\n",
       "      <th>text_entity_sentiments</th>\n",
       "      <th>text_topic_to_sentiment</th>\n",
       "      <th>summary_100_entity_sentiments</th>\n",
       "      <th>summary_100_topic_to_sentiment</th>\n",
       "      <th>summary_50_entity_sentiments</th>\n",
       "      <th>summary_50_topic_to_sentiment</th>\n",
       "      <th>id</th>\n",
       "      <th>text_encoded</th>\n",
       "      <th>summary_100_encoded</th>\n",
       "      <th>summary_50_encoded</th>\n",
       "    </tr>\n",
       "  </thead>\n",
       "  <tbody>\n",
       "    <tr>\n",
       "      <th>0</th>\n",
       "      <td>economy_and_jobs</td>\n",
       "      <td>Economy And Jobs, Economic Policy, Budget Reco...</td>\n",
       "      <td>We use cookies and similar methods to recogniz...</td>\n",
       "      <td>0</td>\n",
       "      <td>Infrastructure deal could transform America.</td>\n",
       "      <td>This week is pivotal for Biden's $1.2 trillion...</td>\n",
       "      <td>This week marks a crucial juncture for Senate ...</td>\n",
       "      <td>{\"President Biden\": 0.2, \"The Senate\": 0.1, \"D...</td>\n",
       "      <td>{\"Economy And Jobs\": 0, \"Economic Policy\": 0, ...</td>\n",
       "      <td>{\"Biden\": 0.6666666666666666, \"America\": 0.5, ...</td>\n",
       "      <td>{\"Economy And Jobs\": 0, \"Economic Policy\": 0, ...</td>\n",
       "      <td>{\"Axios\": 0.2, \"Sarah Grillo\": 0, \"President B...</td>\n",
       "      <td>None</td>\n",
       "      <td>0002a7129f586dc1</td>\n",
       "      <td>[-0.028916225, 0.10918158, -0.0073403805, 0.00...</td>\n",
       "      <td>[-0.041866116, 0.17918587, -0.022695199, 0.038...</td>\n",
       "      <td>[-0.055015147, 0.18244913, -0.031295512, 0.000...</td>\n",
       "    </tr>\n",
       "    <tr>\n",
       "      <th>1</th>\n",
       "      <td>fiscal_cliff</td>\n",
       "      <td>Fiscal Cliff, Banking And Finance, Economy And...</td>\n",
       "      <td>Congress careened over the edge of the fiscal ...</td>\n",
       "      <td>2</td>\n",
       "      <td>Senate passes fiscal cliff deal.</td>\n",
       "      <td>As Congress approached the fiscal cliff, a bip...</td>\n",
       "      <td>At midnight, Congress teetered on the fiscal c...</td>\n",
       "      <td>{\"Obama\": 0.0, \"White House\": 0.0, \"Democrats\"...</td>\n",
       "      <td>{\"Fiscal Cliff\": -0.10000000149011612, \"Bankin...</td>\n",
       "      <td>{\"Congress\": 0.0, \"fiscal cliff\": -0.100000001...</td>\n",
       "      <td>{\"Fiscal Cliff\": 0.20000000298023224, \"Banking...</td>\n",
       "      <td>{\"Congress\": 0.1, \"Senate\": 0.2, \"House\": -0.1...</td>\n",
       "      <td>{\"Economic Policy\": 0.0, \"Fiscal Cliff\": 0, \"B...</td>\n",
       "      <td>0005c1b511659a98</td>\n",
       "      <td>[-0.051092006, 0.08444972, 0.0005916564, -0.00...</td>\n",
       "      <td>[-0.05243456, 0.059714366, -0.0005695005, -0.0...</td>\n",
       "      <td>[-0.03622693, 0.04714141, 0.017436901, -0.0024...</td>\n",
       "    </tr>\n",
       "    <tr>\n",
       "      <th>2</th>\n",
       "      <td>immigration</td>\n",
       "      <td>Immigration</td>\n",
       "      <td>Even before the Trump administration announced...</td>\n",
       "      <td>0</td>\n",
       "      <td>Immigrants fear future under Trump.</td>\n",
       "      <td>In Trump’s America, immigrants face unpreceden...</td>\n",
       "      <td>The Trump administration's immigration policie...</td>\n",
       "      <td>{\"Aurea Galvan\": -0.7, \"Trump\": -0.9, \"Seydi S...</td>\n",
       "      <td>{\"Immigration\": -0.5}</td>\n",
       "      <td>{\"Trump administration\": -0.7, \"Aurea Galvan\":...</td>\n",
       "      <td>{\"Immigration\": -0.7}</td>\n",
       "      <td>{\"Aurea Galvan\": -0.5, \"Yasmin\": -0.7, \"Seydi ...</td>\n",
       "      <td>None</td>\n",
       "      <td>0006fd160e0839d0</td>\n",
       "      <td>[-0.046644386, 0.07658547, -0.011063736, 0.001...</td>\n",
       "      <td>[-0.051978186, 0.05757335, -0.017256187, -0.02...</td>\n",
       "      <td>[-0.059706487, 0.0722755, -0.0048332238, -0.01...</td>\n",
       "    </tr>\n",
       "    <tr>\n",
       "      <th>3</th>\n",
       "      <td>immigration</td>\n",
       "      <td>Immigration, Crime, Border Crisis, ICE, Migran...</td>\n",
       "      <td>The Trump campaign and allies of the former pr...</td>\n",
       "      <td>0</td>\n",
       "      <td>Trump distorts immigrant crime statistics.</td>\n",
       "      <td>The Trump campaign misuses old Homeland Securi...</td>\n",
       "      <td>The Trump campaign is misleadingly using Homel...</td>\n",
       "      <td>{\"administration\": 0.0, \"Donald Trump\": -0.100...</td>\n",
       "      <td>{\"Immigration\": -0.4000000059604645, \"Crime\": ...</td>\n",
       "      <td>{\"campaign\": 0.0, \"thousands\": 0.0, \"Trump\": 0...</td>\n",
       "      <td>{\"Immigration\": 0, \"Crime\": 0, \"Border Crisis\"...</td>\n",
       "      <td>{\"Donald Trump\": -0.8, \"Kamala Harris\": 0.6, \"...</td>\n",
       "      <td>None</td>\n",
       "      <td>0007f8a47be4b6ee</td>\n",
       "      <td>[-0.039676305, 0.08279843, -0.024409575, 0.044...</td>\n",
       "      <td>[-0.048077773, 0.11102984, -0.027754998, 0.043...</td>\n",
       "      <td>[-0.07323033, 0.11256627, -0.029350888, 0.0628...</td>\n",
       "    </tr>\n",
       "    <tr>\n",
       "      <th>4</th>\n",
       "      <td>elections</td>\n",
       "      <td>Election 2020, Donald Trump, Presidential Elec...</td>\n",
       "      <td>When President Trump speaks in front of some 2...</td>\n",
       "      <td>2</td>\n",
       "      <td>Trump's re-election campaign launches tonight.</td>\n",
       "      <td>As President Trump officially launches his 202...</td>\n",
       "      <td>As President Trump officially kicks off his 20...</td>\n",
       "      <td>{\"Trump\": 0.0, \"campaign\": 0.0, \"re-election c...</td>\n",
       "      <td>{\"Election2020\": 0, \"Donald Trump\": 0.79999998...</td>\n",
       "      <td>{\"Donald Trump\": 0.2, \"Joe Biden\": 0.3, \"Repub...</td>\n",
       "      <td>{\"Election2020\": 0, \"Donald Trump\": 0.2, \"Pres...</td>\n",
       "      <td>{\"Donald Trump\": 0.2, \"RNC\": 0.3, \"Joe Biden\":...</td>\n",
       "      <td>None</td>\n",
       "      <td>00083375b852e7ac</td>\n",
       "      <td>[-0.028865773, 0.09790309, 0.004893719, 0.0025...</td>\n",
       "      <td>[-0.002960503, 0.13613103, 0.0022070042, -0.01...</td>\n",
       "      <td>[-0.017735977, 0.115911745, 0.0124983005, -0.0...</td>\n",
       "    </tr>\n",
       "    <tr>\n",
       "      <th>...</th>\n",
       "      <td>...</td>\n",
       "      <td>...</td>\n",
       "      <td>...</td>\n",
       "      <td>...</td>\n",
       "      <td>...</td>\n",
       "      <td>...</td>\n",
       "      <td>...</td>\n",
       "      <td>...</td>\n",
       "      <td>...</td>\n",
       "      <td>...</td>\n",
       "      <td>...</td>\n",
       "      <td>...</td>\n",
       "      <td>...</td>\n",
       "      <td>...</td>\n",
       "      <td>...</td>\n",
       "      <td>...</td>\n",
       "      <td>...</td>\n",
       "    </tr>\n",
       "    <tr>\n",
       "      <th>45086</th>\n",
       "      <td>immigration</td>\n",
       "      <td>Immigration, Mitch McConnell</td>\n",
       "      <td>Senate Republican Leader Mitch McConnell said ...</td>\n",
       "      <td>2</td>\n",
       "      <td>Immigration reform lacks bipartisan consensus.</td>\n",
       "      <td>Senate Republican Leader Mitch McConnell state...</td>\n",
       "      <td>Senate Republican Leader Mitch McConnell asser...</td>\n",
       "      <td>{\"Mitch McConnell\": -0.5, \"Matt Bevin\": -0.7, ...</td>\n",
       "      <td>{\"Immigration\": 0, \"Mitch McConnell\": -0.5}</td>\n",
       "      <td>{\"Mitch McConnell\": -0.6, \"Matt Bevin\": -0.8, ...</td>\n",
       "      <td>{\"Immigration\": 0, \"Mitch McConnell\": -0.6}</td>\n",
       "      <td>{\"Mitch McConnell\": -0.6, \"Matt Bevin\": -0.8, ...</td>\n",
       "      <td>None</td>\n",
       "      <td>fffd6f68b5bcec3a</td>\n",
       "      <td>[-0.0409906, 0.09073715, -0.019516913, -0.0134...</td>\n",
       "      <td>[-0.037168715, 0.09610114, -0.01898526, -0.022...</td>\n",
       "      <td>[-0.058798987, 0.1086956, -0.020934915, -0.015...</td>\n",
       "    </tr>\n",
       "    <tr>\n",
       "      <th>45087</th>\n",
       "      <td>science</td>\n",
       "      <td>Science, NASA, Space Exploration</td>\n",
       "      <td>Sign up for CNN’s Wonder Theory science newsle...</td>\n",
       "      <td>0</td>\n",
       "      <td>NASA's Artemis I launch postponed again.</td>\n",
       "      <td>NASA’s Artemis I moon mission launch was postp...</td>\n",
       "      <td>NASA's Artemis I moon mission launch has been ...</td>\n",
       "      <td>{\"time\": 0.0, \"Florida.NASA\": 0.0, \"Mike Saraf...</td>\n",
       "      <td>{\"Science\": 0.10000000149011612, \"NASA\": 0.200...</td>\n",
       "      <td>{\"mission launch\": 0.0, \"engine issue\": 0.0, \"...</td>\n",
       "      <td>{\"Science\": 0.10000000149011612, \"NASA\": 0, \"S...</td>\n",
       "      <td>{\"NASA\": 0.5, \"Mike Sarafin\": 0.2, \"Kamala Har...</td>\n",
       "      <td>{\"Science\": 0.5, \"NASA\": 0.5, \"Space Explorati...</td>\n",
       "      <td>fffe2ebca1999ce4</td>\n",
       "      <td>[0.014063582, 0.007860853, 0.0025481053, -0.00...</td>\n",
       "      <td>[0.02583513, 0.059887465, -0.03318025, -0.0011...</td>\n",
       "      <td>[0.011474235, 0.046107873, -0.02424741, 0.0018...</td>\n",
       "    </tr>\n",
       "    <tr>\n",
       "      <th>45088</th>\n",
       "      <td>coronavirus</td>\n",
       "      <td>Role Of Government, Healthcare, Public Health,...</td>\n",
       "      <td>President Donald Trump speaks about the corona...</td>\n",
       "      <td>1</td>\n",
       "      <td>Trump outlines state-specific reopening guidel...</td>\n",
       "      <td>On April 15, 2020, President Trump discussed e...</td>\n",
       "      <td>On April 15, 2020, President Trump announced t...</td>\n",
       "      <td>{\"Donald Trump\": 0.2, \"White House\": 0, \"Washi...</td>\n",
       "      <td>{\"Role Of Government\": 0.1, \"Healthcare\": -0.5...</td>\n",
       "      <td>{\"President Trump\": 0.2, \"U.S.\": 0.5, \"busines...</td>\n",
       "      <td>{\"Role Of Government\": 0, \"Healthcare\": 0, \"Pu...</td>\n",
       "      <td>{\"Donald Trump\": 0.2, \"Dr. Deborah Birx\": 0.1,...</td>\n",
       "      <td>None</td>\n",
       "      <td>fffe5dea333bf896</td>\n",
       "      <td>[-0.033034544, 0.07097604, -0.009781277, -0.00...</td>\n",
       "      <td>[-0.032852333, 0.077151954, -0.042602945, -0.0...</td>\n",
       "      <td>[-0.0017861387, 0.06939759, -0.014608841, -0.0...</td>\n",
       "    </tr>\n",
       "    <tr>\n",
       "      <th>45089</th>\n",
       "      <td>economy_and_jobs</td>\n",
       "      <td>Economy And Jobs, Supply Chains, Coronavirus, ...</td>\n",
       "      <td>Quotes displayed in real-time or delayed by at...</td>\n",
       "      <td>2</td>\n",
       "      <td>Inflation and supply chains hinder recovery.</td>\n",
       "      <td>In today’s tumultuous market landscape, surgin...</td>\n",
       "      <td>In its latest World Economic Outlook, the IMF ...</td>\n",
       "      <td>{\"Mike Murphy\": 0.0, \"International Monetary F...</td>\n",
       "      <td>{\"Economy And Jobs\": -1.7, \"Supply Chains\": 0,...</td>\n",
       "      <td>{\"IMF\": 0.0, \"U.S.\": -0.5, \"Federal Reserve\": ...</td>\n",
       "      <td>{\"Economy And Jobs\": -0.5, \"GDP\": -0.5, \"Infla...</td>\n",
       "      <td>{\"Mike Murphy\": 0.0, \"International Monetary F...</td>\n",
       "      <td>None</td>\n",
       "      <td>ffff366708595386</td>\n",
       "      <td>[-0.02462098, 0.057189632, -0.028621837, -0.02...</td>\n",
       "      <td>[-0.034127224, 0.050960753, -0.045273542, -0.0...</td>\n",
       "      <td>[-0.047483053, 0.059424736, -0.044047564, -0.0...</td>\n",
       "    </tr>\n",
       "    <tr>\n",
       "      <th>45090</th>\n",
       "      <td>china</td>\n",
       "      <td>China, Trade</td>\n",
       "      <td>Donald Trump has called on China to capitulate...</td>\n",
       "      <td>0</td>\n",
       "      <td>China puzzled by Trump's inconsistent demands.</td>\n",
       "      <td>Donald Trump’s trade strategy towards China re...</td>\n",
       "      <td>Donald Trump’s trade strategy with China remai...</td>\n",
       "      <td>{\"U.S.\": 0.0, \"Donald Trump\": 0.0, \"China\": 0....</td>\n",
       "      <td>{\"China\": -0.20000000298023224, \"Trade\": -0.40...</td>\n",
       "      <td>{\"Donald Trump\": -0.4, \"China\": -0.3, \"U.S.\": ...</td>\n",
       "      <td>{\"China\": -0.5, \"Trade\": -0.4}</td>\n",
       "      <td>{\"Donald Trump\": -0.2, \"China\": -0.5, \"U.S.\": ...</td>\n",
       "      <td>None</td>\n",
       "      <td>ffff77f5f5c55f8a</td>\n",
       "      <td>[-0.00027947358, 0.07810204, -0.0061297487, -0...</td>\n",
       "      <td>[0.028784957, 0.093574665, -0.007242159, 0.019...</td>\n",
       "      <td>[0.01059761, 0.057135258, -0.021936907, 0.0125...</td>\n",
       "    </tr>\n",
       "  </tbody>\n",
       "</table>\n",
       "<p>45091 rows × 17 columns</p>\n",
       "</div>"
      ],
      "text/plain": [
       "                  topic                                               tags  \\\n",
       "0      economy_and_jobs  Economy And Jobs, Economic Policy, Budget Reco...   \n",
       "1          fiscal_cliff  Fiscal Cliff, Banking And Finance, Economy And...   \n",
       "2           immigration                                        Immigration   \n",
       "3           immigration  Immigration, Crime, Border Crisis, ICE, Migran...   \n",
       "4             elections  Election 2020, Donald Trump, Presidential Elec...   \n",
       "...                 ...                                                ...   \n",
       "45086       immigration                       Immigration, Mitch McConnell   \n",
       "45087           science                   Science, NASA, Space Exploration   \n",
       "45088       coronavirus  Role Of Government, Healthcare, Public Health,...   \n",
       "45089  economy_and_jobs  Economy And Jobs, Supply Chains, Coronavirus, ...   \n",
       "45090             china                                       China, Trade   \n",
       "\n",
       "                                                    text  int_bias  \\\n",
       "0      We use cookies and similar methods to recogniz...         0   \n",
       "1      Congress careened over the edge of the fiscal ...         2   \n",
       "2      Even before the Trump administration announced...         0   \n",
       "3      The Trump campaign and allies of the former pr...         0   \n",
       "4      When President Trump speaks in front of some 2...         2   \n",
       "...                                                  ...       ...   \n",
       "45086  Senate Republican Leader Mitch McConnell said ...         2   \n",
       "45087  Sign up for CNN’s Wonder Theory science newsle...         0   \n",
       "45088  President Donald Trump speaks about the corona...         1   \n",
       "45089  Quotes displayed in real-time or delayed by at...         2   \n",
       "45090  Donald Trump has called on China to capitulate...         0   \n",
       "\n",
       "                                               summary_5  \\\n",
       "0           Infrastructure deal could transform America.   \n",
       "1                       Senate passes fiscal cliff deal.   \n",
       "2                    Immigrants fear future under Trump.   \n",
       "3             Trump distorts immigrant crime statistics.   \n",
       "4         Trump's re-election campaign launches tonight.   \n",
       "...                                                  ...   \n",
       "45086     Immigration reform lacks bipartisan consensus.   \n",
       "45087           NASA's Artemis I launch postponed again.   \n",
       "45088  Trump outlines state-specific reopening guidel...   \n",
       "45089       Inflation and supply chains hinder recovery.   \n",
       "45090     China puzzled by Trump's inconsistent demands.   \n",
       "\n",
       "                                              summary_50  \\\n",
       "0      This week is pivotal for Biden's $1.2 trillion...   \n",
       "1      As Congress approached the fiscal cliff, a bip...   \n",
       "2      In Trump’s America, immigrants face unpreceden...   \n",
       "3      The Trump campaign misuses old Homeland Securi...   \n",
       "4      As President Trump officially launches his 202...   \n",
       "...                                                  ...   \n",
       "45086  Senate Republican Leader Mitch McConnell state...   \n",
       "45087  NASA’s Artemis I moon mission launch was postp...   \n",
       "45088  On April 15, 2020, President Trump discussed e...   \n",
       "45089  In today’s tumultuous market landscape, surgin...   \n",
       "45090  Donald Trump’s trade strategy towards China re...   \n",
       "\n",
       "                                             summary_100  \\\n",
       "0      This week marks a crucial juncture for Senate ...   \n",
       "1      At midnight, Congress teetered on the fiscal c...   \n",
       "2      The Trump administration's immigration policie...   \n",
       "3      The Trump campaign is misleadingly using Homel...   \n",
       "4      As President Trump officially kicks off his 20...   \n",
       "...                                                  ...   \n",
       "45086  Senate Republican Leader Mitch McConnell asser...   \n",
       "45087  NASA's Artemis I moon mission launch has been ...   \n",
       "45088  On April 15, 2020, President Trump announced t...   \n",
       "45089  In its latest World Economic Outlook, the IMF ...   \n",
       "45090  Donald Trump’s trade strategy with China remai...   \n",
       "\n",
       "                                  text_entity_sentiments  \\\n",
       "0      {\"President Biden\": 0.2, \"The Senate\": 0.1, \"D...   \n",
       "1      {\"Obama\": 0.0, \"White House\": 0.0, \"Democrats\"...   \n",
       "2      {\"Aurea Galvan\": -0.7, \"Trump\": -0.9, \"Seydi S...   \n",
       "3      {\"administration\": 0.0, \"Donald Trump\": -0.100...   \n",
       "4      {\"Trump\": 0.0, \"campaign\": 0.0, \"re-election c...   \n",
       "...                                                  ...   \n",
       "45086  {\"Mitch McConnell\": -0.5, \"Matt Bevin\": -0.7, ...   \n",
       "45087  {\"time\": 0.0, \"Florida.NASA\": 0.0, \"Mike Saraf...   \n",
       "45088  {\"Donald Trump\": 0.2, \"White House\": 0, \"Washi...   \n",
       "45089  {\"Mike Murphy\": 0.0, \"International Monetary F...   \n",
       "45090  {\"U.S.\": 0.0, \"Donald Trump\": 0.0, \"China\": 0....   \n",
       "\n",
       "                                 text_topic_to_sentiment  \\\n",
       "0      {\"Economy And Jobs\": 0, \"Economic Policy\": 0, ...   \n",
       "1      {\"Fiscal Cliff\": -0.10000000149011612, \"Bankin...   \n",
       "2                                  {\"Immigration\": -0.5}   \n",
       "3      {\"Immigration\": -0.4000000059604645, \"Crime\": ...   \n",
       "4      {\"Election2020\": 0, \"Donald Trump\": 0.79999998...   \n",
       "...                                                  ...   \n",
       "45086        {\"Immigration\": 0, \"Mitch McConnell\": -0.5}   \n",
       "45087  {\"Science\": 0.10000000149011612, \"NASA\": 0.200...   \n",
       "45088  {\"Role Of Government\": 0.1, \"Healthcare\": -0.5...   \n",
       "45089  {\"Economy And Jobs\": -1.7, \"Supply Chains\": 0,...   \n",
       "45090  {\"China\": -0.20000000298023224, \"Trade\": -0.40...   \n",
       "\n",
       "                           summary_100_entity_sentiments  \\\n",
       "0      {\"Biden\": 0.6666666666666666, \"America\": 0.5, ...   \n",
       "1      {\"Congress\": 0.0, \"fiscal cliff\": -0.100000001...   \n",
       "2      {\"Trump administration\": -0.7, \"Aurea Galvan\":...   \n",
       "3      {\"campaign\": 0.0, \"thousands\": 0.0, \"Trump\": 0...   \n",
       "4      {\"Donald Trump\": 0.2, \"Joe Biden\": 0.3, \"Repub...   \n",
       "...                                                  ...   \n",
       "45086  {\"Mitch McConnell\": -0.6, \"Matt Bevin\": -0.8, ...   \n",
       "45087  {\"mission launch\": 0.0, \"engine issue\": 0.0, \"...   \n",
       "45088  {\"President Trump\": 0.2, \"U.S.\": 0.5, \"busines...   \n",
       "45089  {\"IMF\": 0.0, \"U.S.\": -0.5, \"Federal Reserve\": ...   \n",
       "45090  {\"Donald Trump\": -0.4, \"China\": -0.3, \"U.S.\": ...   \n",
       "\n",
       "                          summary_100_topic_to_sentiment  \\\n",
       "0      {\"Economy And Jobs\": 0, \"Economic Policy\": 0, ...   \n",
       "1      {\"Fiscal Cliff\": 0.20000000298023224, \"Banking...   \n",
       "2                                  {\"Immigration\": -0.7}   \n",
       "3      {\"Immigration\": 0, \"Crime\": 0, \"Border Crisis\"...   \n",
       "4      {\"Election2020\": 0, \"Donald Trump\": 0.2, \"Pres...   \n",
       "...                                                  ...   \n",
       "45086        {\"Immigration\": 0, \"Mitch McConnell\": -0.6}   \n",
       "45087  {\"Science\": 0.10000000149011612, \"NASA\": 0, \"S...   \n",
       "45088  {\"Role Of Government\": 0, \"Healthcare\": 0, \"Pu...   \n",
       "45089  {\"Economy And Jobs\": -0.5, \"GDP\": -0.5, \"Infla...   \n",
       "45090                     {\"China\": -0.5, \"Trade\": -0.4}   \n",
       "\n",
       "                            summary_50_entity_sentiments  \\\n",
       "0      {\"Axios\": 0.2, \"Sarah Grillo\": 0, \"President B...   \n",
       "1      {\"Congress\": 0.1, \"Senate\": 0.2, \"House\": -0.1...   \n",
       "2      {\"Aurea Galvan\": -0.5, \"Yasmin\": -0.7, \"Seydi ...   \n",
       "3      {\"Donald Trump\": -0.8, \"Kamala Harris\": 0.6, \"...   \n",
       "4      {\"Donald Trump\": 0.2, \"RNC\": 0.3, \"Joe Biden\":...   \n",
       "...                                                  ...   \n",
       "45086  {\"Mitch McConnell\": -0.6, \"Matt Bevin\": -0.8, ...   \n",
       "45087  {\"NASA\": 0.5, \"Mike Sarafin\": 0.2, \"Kamala Har...   \n",
       "45088  {\"Donald Trump\": 0.2, \"Dr. Deborah Birx\": 0.1,...   \n",
       "45089  {\"Mike Murphy\": 0.0, \"International Monetary F...   \n",
       "45090  {\"Donald Trump\": -0.2, \"China\": -0.5, \"U.S.\": ...   \n",
       "\n",
       "                           summary_50_topic_to_sentiment                id  \\\n",
       "0                                                   None  0002a7129f586dc1   \n",
       "1      {\"Economic Policy\": 0.0, \"Fiscal Cliff\": 0, \"B...  0005c1b511659a98   \n",
       "2                                                   None  0006fd160e0839d0   \n",
       "3                                                   None  0007f8a47be4b6ee   \n",
       "4                                                   None  00083375b852e7ac   \n",
       "...                                                  ...               ...   \n",
       "45086                                               None  fffd6f68b5bcec3a   \n",
       "45087  {\"Science\": 0.5, \"NASA\": 0.5, \"Space Explorati...  fffe2ebca1999ce4   \n",
       "45088                                               None  fffe5dea333bf896   \n",
       "45089                                               None  ffff366708595386   \n",
       "45090                                               None  ffff77f5f5c55f8a   \n",
       "\n",
       "                                            text_encoded  \\\n",
       "0      [-0.028916225, 0.10918158, -0.0073403805, 0.00...   \n",
       "1      [-0.051092006, 0.08444972, 0.0005916564, -0.00...   \n",
       "2      [-0.046644386, 0.07658547, -0.011063736, 0.001...   \n",
       "3      [-0.039676305, 0.08279843, -0.024409575, 0.044...   \n",
       "4      [-0.028865773, 0.09790309, 0.004893719, 0.0025...   \n",
       "...                                                  ...   \n",
       "45086  [-0.0409906, 0.09073715, -0.019516913, -0.0134...   \n",
       "45087  [0.014063582, 0.007860853, 0.0025481053, -0.00...   \n",
       "45088  [-0.033034544, 0.07097604, -0.009781277, -0.00...   \n",
       "45089  [-0.02462098, 0.057189632, -0.028621837, -0.02...   \n",
       "45090  [-0.00027947358, 0.07810204, -0.0061297487, -0...   \n",
       "\n",
       "                                     summary_100_encoded  \\\n",
       "0      [-0.041866116, 0.17918587, -0.022695199, 0.038...   \n",
       "1      [-0.05243456, 0.059714366, -0.0005695005, -0.0...   \n",
       "2      [-0.051978186, 0.05757335, -0.017256187, -0.02...   \n",
       "3      [-0.048077773, 0.11102984, -0.027754998, 0.043...   \n",
       "4      [-0.002960503, 0.13613103, 0.0022070042, -0.01...   \n",
       "...                                                  ...   \n",
       "45086  [-0.037168715, 0.09610114, -0.01898526, -0.022...   \n",
       "45087  [0.02583513, 0.059887465, -0.03318025, -0.0011...   \n",
       "45088  [-0.032852333, 0.077151954, -0.042602945, -0.0...   \n",
       "45089  [-0.034127224, 0.050960753, -0.045273542, -0.0...   \n",
       "45090  [0.028784957, 0.093574665, -0.007242159, 0.019...   \n",
       "\n",
       "                                      summary_50_encoded  \n",
       "0      [-0.055015147, 0.18244913, -0.031295512, 0.000...  \n",
       "1      [-0.03622693, 0.04714141, 0.017436901, -0.0024...  \n",
       "2      [-0.059706487, 0.0722755, -0.0048332238, -0.01...  \n",
       "3      [-0.07323033, 0.11256627, -0.029350888, 0.0628...  \n",
       "4      [-0.017735977, 0.115911745, 0.0124983005, -0.0...  \n",
       "...                                                  ...  \n",
       "45086  [-0.058798987, 0.1086956, -0.020934915, -0.015...  \n",
       "45087  [0.011474235, 0.046107873, -0.02424741, 0.0018...  \n",
       "45088  [-0.0017861387, 0.06939759, -0.014608841, -0.0...  \n",
       "45089  [-0.047483053, 0.059424736, -0.044047564, -0.0...  \n",
       "45090  [0.01059761, 0.057135258, -0.021936907, 0.0125...  \n",
       "\n",
       "[45091 rows x 17 columns]"
      ]
     },
     "execution_count": 93,
     "metadata": {},
     "output_type": "execute_result"
    }
   ],
   "source": [
    "df = mapped.to_pandas()\n",
    "\n",
    "df"
   ]
  },
  {
   "cell_type": "code",
   "execution_count": 95,
   "id": "eb068294-e937-4735-986b-b564169454ec",
   "metadata": {},
   "outputs": [],
   "source": [
    "df.dropna(subset=[\"text_topic_to_sentiment\", \"summary_100_topic_to_sentiment\"], inplace=True)"
   ]
  },
  {
   "cell_type": "code",
   "execution_count": 100,
   "id": "ec8a2bc1-17d4-4d35-8a15-b1816393b137",
   "metadata": {},
   "outputs": [],
   "source": [
    "from datasets import Dataset\n",
    "\n",
    "mapped = Dataset.from_pandas(df, preserve_index=False)"
   ]
  },
  {
   "cell_type": "code",
   "execution_count": 102,
   "id": "39e29d07-8752-407d-8b51-700d274cbe6a",
   "metadata": {},
   "outputs": [
    {
     "name": "stderr",
     "output_type": "stream",
     "text": [
      "Map: 100%|██████████| 45089/45089 [00:02<00:00, 17186.00 examples/s]\n"
     ]
    }
   ],
   "source": [
    "text_split = mapped.map(\n",
    "    categorize_topics_sentiments, \n",
    "    batched=True,\n",
    "    batch_size=128,\n",
    ")"
   ]
  },
  {
   "cell_type": "code",
   "execution_count": 105,
   "id": "1546256a-736b-45e3-9f61-178a31f808ab",
   "metadata": {},
   "outputs": [
    {
     "data": {
      "text/plain": [
       "Dataset({\n",
       "    features: ['topic', 'tags', 'text', 'int_bias', 'summary_5', 'summary_50', 'summary_100', 'text_entity_sentiments', 'text_topic_to_sentiment', 'summary_100_entity_sentiments', 'summary_100_topic_to_sentiment', 'summary_50_entity_sentiments', 'summary_50_topic_to_sentiment', 'id', 'text_encoded', 'summary_100_encoded', 'summary_50_encoded', 'text_topic_0', 'text_sentiment_0', 'text_topic_1', 'text_sentiment_1', 'text_topic_2', 'text_sentiment_2', 'text_topic_3', 'text_sentiment_3', 'text_topic_4', 'text_sentiment_4'],\n",
       "    num_rows: 45089\n",
       "})"
      ]
     },
     "execution_count": 105,
     "metadata": {},
     "output_type": "execute_result"
    }
   ],
   "source": [
    "text_split"
   ]
  },
  {
   "cell_type": "code",
   "execution_count": 106,
   "id": "ac08d0ca-25c5-453d-9e18-3ff5ff15b992",
   "metadata": {},
   "outputs": [
    {
     "name": "stderr",
     "output_type": "stream",
     "text": [
      "Map: 100%|██████████| 45089/45089 [00:03<00:00, 12531.93 examples/s]\n"
     ]
    }
   ],
   "source": [
    "text_split = text_split.map(\n",
    "    categorize_topics_sentiments, \n",
    "    batched=True,\n",
    "    batch_size=128,\n",
    ")"
   ]
  },
  {
   "cell_type": "code",
   "execution_count": 107,
   "id": "60e2b9cb-faf9-44c8-82f6-87546f770978",
   "metadata": {},
   "outputs": [
    {
     "data": {
      "text/plain": [
       "Dataset({\n",
       "    features: ['topic', 'tags', 'text', 'int_bias', 'summary_5', 'summary_50', 'summary_100', 'text_entity_sentiments', 'text_topic_to_sentiment', 'summary_100_entity_sentiments', 'summary_100_topic_to_sentiment', 'summary_50_entity_sentiments', 'summary_50_topic_to_sentiment', 'id', 'text_encoded', 'summary_100_encoded', 'summary_50_encoded', 'text_topic_0', 'text_sentiment_0', 'text_topic_1', 'text_sentiment_1', 'text_topic_2', 'text_sentiment_2', 'text_topic_3', 'text_sentiment_3', 'text_topic_4', 'text_sentiment_4', 'summary_100_topic_0', 'summary_100_sentiment_0', 'summary_100_topic_1', 'summary_100_sentiment_1', 'summary_100_topic_2', 'summary_100_sentiment_2', 'summary_100_topic_3', 'summary_100_sentiment_3', 'summary_100_topic_4', 'summary_100_sentiment_4'],\n",
       "    num_rows: 45089\n",
       "})"
      ]
     },
     "execution_count": 107,
     "metadata": {},
     "output_type": "execute_result"
    }
   ],
   "source": [
    "text_split"
   ]
  },
  {
   "cell_type": "code",
   "execution_count": 108,
   "id": "82370803-bcf9-4101-bedd-54adf7675919",
   "metadata": {},
   "outputs": [
    {
     "name": "stderr",
     "output_type": "stream",
     "text": [
      "Uploading the dataset shards:   0%|          | 0/2 [00:00<?, ?it/s]\n",
      "\u001b[Aating parquet from Arrow format:   0%|          | 0/23 [00:00<?, ?ba/s]\n",
      "\u001b[Aating parquet from Arrow format:   4%|▍         | 1/23 [00:00<00:05,  3.70ba/s]\n",
      "\u001b[Aating parquet from Arrow format:   9%|▊         | 2/23 [00:00<00:04,  4.26ba/s]\n",
      "\u001b[Aating parquet from Arrow format:  13%|█▎        | 3/23 [00:00<00:04,  4.60ba/s]\n",
      "\u001b[Aating parquet from Arrow format:  17%|█▋        | 4/23 [00:00<00:04,  4.40ba/s]\n",
      "\u001b[Aating parquet from Arrow format:  22%|██▏       | 5/23 [00:01<00:05,  3.27ba/s]\n",
      "\u001b[Aating parquet from Arrow format:  26%|██▌       | 6/23 [00:01<00:04,  3.48ba/s]\n",
      "\u001b[Aating parquet from Arrow format:  30%|███       | 7/23 [00:01<00:03,  4.01ba/s]\n",
      "\u001b[Aating parquet from Arrow format:  35%|███▍      | 8/23 [00:01<00:03,  4.34ba/s]\n",
      "\u001b[Aating parquet from Arrow format:  39%|███▉      | 9/23 [00:02<00:03,  4.58ba/s]\n",
      "\u001b[Aating parquet from Arrow format:  43%|████▎     | 10/23 [00:02<00:02,  4.86ba/s]\n",
      "\u001b[Aating parquet from Arrow format:  48%|████▊     | 11/23 [00:02<00:03,  3.83ba/s]\n",
      "\u001b[Aating parquet from Arrow format:  52%|█████▏    | 12/23 [00:02<00:02,  4.14ba/s]\n",
      "\u001b[Aating parquet from Arrow format:  57%|█████▋    | 13/23 [00:03<00:02,  4.36ba/s]\n",
      "\u001b[Aating parquet from Arrow format:  61%|██████    | 14/23 [00:03<00:01,  4.63ba/s]\n",
      "\u001b[Aating parquet from Arrow format:  65%|██████▌   | 15/23 [00:03<00:01,  4.78ba/s]\n",
      "\u001b[Aating parquet from Arrow format:  70%|██████▉   | 16/23 [00:03<00:01,  5.11ba/s]\n",
      "\u001b[Aating parquet from Arrow format:  74%|███████▍  | 17/23 [00:03<00:01,  5.30ba/s]\n",
      "\u001b[Aating parquet from Arrow format:  78%|███████▊  | 18/23 [00:04<00:00,  5.47ba/s]\n",
      "\u001b[Aating parquet from Arrow format:  83%|████████▎ | 19/23 [00:04<00:00,  5.59ba/s]\n",
      "\u001b[Aating parquet from Arrow format:  87%|████████▋ | 20/23 [00:04<00:00,  5.53ba/s]\n",
      "\u001b[Aating parquet from Arrow format:  91%|█████████▏| 21/23 [00:04<00:00,  5.58ba/s]\n",
      "\u001b[Aating parquet from Arrow format:  96%|█████████▌| 22/23 [00:04<00:00,  5.69ba/s]\n",
      "Creating parquet from Arrow format: 100%|██████████| 23/23 [00:04<00:00,  4.74ba/s]\n",
      "Uploading the dataset shards:  50%|█████     | 1/2 [00:24<00:24, 24.59s/it]\n",
      "\u001b[Aating parquet from Arrow format:   0%|          | 0/23 [00:00<?, ?ba/s]\n",
      "\u001b[Aating parquet from Arrow format:   4%|▍         | 1/23 [00:00<00:04,  5.42ba/s]\n",
      "\u001b[Aating parquet from Arrow format:   9%|▊         | 2/23 [00:00<00:04,  5.22ba/s]\n",
      "\u001b[Aating parquet from Arrow format:  13%|█▎        | 3/23 [00:00<00:03,  5.20ba/s]\n",
      "\u001b[Aating parquet from Arrow format:  17%|█▋        | 4/23 [00:00<00:03,  5.41ba/s]\n",
      "\u001b[Aating parquet from Arrow format:  22%|██▏       | 5/23 [00:00<00:03,  5.43ba/s]\n",
      "\u001b[Aating parquet from Arrow format:  26%|██▌       | 6/23 [00:01<00:03,  5.44ba/s]\n",
      "\u001b[Aating parquet from Arrow format:  30%|███       | 7/23 [00:01<00:02,  5.54ba/s]\n",
      "\u001b[Aating parquet from Arrow format:  35%|███▍      | 8/23 [00:01<00:02,  5.60ba/s]\n",
      "\u001b[Aating parquet from Arrow format:  39%|███▉      | 9/23 [00:01<00:02,  5.73ba/s]\n",
      "\u001b[Aating parquet from Arrow format:  43%|████▎     | 10/23 [00:01<00:02,  5.74ba/s]\n",
      "\u001b[Aating parquet from Arrow format:  48%|████▊     | 11/23 [00:01<00:02,  5.80ba/s]\n",
      "\u001b[Aating parquet from Arrow format:  52%|█████▏    | 12/23 [00:02<00:02,  4.18ba/s]\n",
      "\u001b[Aating parquet from Arrow format:  57%|█████▋    | 13/23 [00:02<00:02,  4.47ba/s]\n",
      "\u001b[Aating parquet from Arrow format:  61%|██████    | 14/23 [00:02<00:01,  4.73ba/s]\n",
      "\u001b[Aating parquet from Arrow format:  65%|██████▌   | 15/23 [00:02<00:01,  4.84ba/s]\n",
      "\u001b[Aating parquet from Arrow format:  70%|██████▉   | 16/23 [00:03<00:01,  5.00ba/s]\n",
      "\u001b[Aating parquet from Arrow format:  74%|███████▍  | 17/23 [00:03<00:01,  5.00ba/s]\n",
      "\u001b[Aating parquet from Arrow format:  78%|███████▊  | 18/23 [00:03<00:00,  5.04ba/s]\n",
      "\u001b[Aating parquet from Arrow format:  83%|████████▎ | 19/23 [00:03<00:00,  5.09ba/s]\n",
      "\u001b[Aating parquet from Arrow format:  87%|████████▋ | 20/23 [00:03<00:00,  5.16ba/s]\n",
      "\u001b[Aating parquet from Arrow format:  91%|█████████▏| 21/23 [00:04<00:00,  5.15ba/s]\n",
      "\u001b[Aating parquet from Arrow format:  96%|█████████▌| 22/23 [00:04<00:00,  5.11ba/s]\n",
      "Creating parquet from Arrow format: 100%|██████████| 23/23 [00:04<00:00,  5.18ba/s]\n",
      "Uploading the dataset shards: 100%|██████████| 2/2 [00:44<00:00, 22.40s/it]\n"
     ]
    },
    {
     "name": "stdout",
     "output_type": "stream",
     "text": [
      "Saved dataset: dragonslayer631/ci2_allsides, split: train\n"
     ]
    }
   ],
   "source": [
    "save_dataset_to_huggingface(text_split)"
   ]
  },
  {
   "cell_type": "code",
   "execution_count": null,
   "id": "e57f57ad-d43b-40f0-a8a7-7e7cafbcc7b0",
   "metadata": {},
   "outputs": [],
   "source": []
  }
 ],
 "metadata": {
  "kernelspec": {
   "display_name": ".venv",
   "language": "python",
   "name": "python3"
  },
  "language_info": {
   "codemirror_mode": {
    "name": "ipython",
    "version": 3
   },
   "file_extension": ".py",
   "mimetype": "text/x-python",
   "name": "python",
   "nbconvert_exporter": "python",
   "pygments_lexer": "ipython3",
   "version": "3.12.8"
  }
 },
 "nbformat": 4,
 "nbformat_minor": 5
}
