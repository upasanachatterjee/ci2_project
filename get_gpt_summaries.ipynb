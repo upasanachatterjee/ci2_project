{
 "cells": [
  {
   "cell_type": "code",
   "execution_count": 1,
   "metadata": {},
   "outputs": [],
   "source": [
    "%load_ext autoreload\n",
    "%autoreload 2"
   ]
  },
  {
   "cell_type": "code",
   "execution_count": 2,
   "metadata": {},
   "outputs": [
    {
     "name": "stdout",
     "output_type": "stream",
     "text": [
      "Loaded dataset: dragonslayer631/ci2_allsides, split: train\n"
     ]
    }
   ],
   "source": [
    "from utils.ds_utils import load_dataset_from_huggingface\n",
    "\n",
    "ds = load_dataset_from_huggingface()"
   ]
  },
  {
   "cell_type": "code",
   "execution_count": null,
   "metadata": {},
   "outputs": [],
   "source": [
    "import pandas as pd\n",
    "import json\n",
    "from utils.gpt_utils import create_chatgpt_summary\n",
    "ctr = 0\n",
    "total = len(ds)\n",
    "word_count=100\n",
    "instruction=\"Keep the authorial voice, perspective, and tone. Write from the perspective of the original article, not as a third party summarizing the article.\"\n",
    "seen = pd.read_csv(\"summary_100.csv\", delimiter=\"|\")[\"id\"].to_list()\n",
    "failed = []\n",
    "\n",
    "for ex in ds:\n",
    "    ctr += 1\n",
    "    idx = ex['id']\n",
    "\n",
    "    if idx not in seen:\n",
    "        try:\n",
    "            summary = create_chatgpt_summary(word_count, instruction, ex)\n",
    "            with open(\"summary_100.csv\", \"a\") as f:\n",
    "                article: str = json.loads(summary)['article']\n",
    "                article.replace(\"\\n\", \"\").replace(\"|\", \" \")\n",
    "                f.write(f\"{idx}|{json.loads(summary)['article']}\\n\")\n",
    "\n",
    "            print(f\"seen {ctr} / {total}\")\n",
    "            seen.append(idx)\n",
    "        except Exception:\n",
    "            failed.append(idx)\n"
   ]
  }
 ],
 "metadata": {
  "kernelspec": {
   "display_name": ".venv",
   "language": "python",
   "name": "python3"
  },
  "language_info": {
   "codemirror_mode": {
    "name": "ipython",
    "version": 3
   },
   "file_extension": ".py",
   "mimetype": "text/x-python",
   "name": "python",
   "nbconvert_exporter": "python",
   "pygments_lexer": "ipython3",
   "version": "3.12.8"
  }
 },
 "nbformat": 4,
 "nbformat_minor": 2
}
