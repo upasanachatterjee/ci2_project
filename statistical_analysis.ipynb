{
 "cells": [
  {
   "cell_type": "code",
   "execution_count": null,
   "id": "a0909049",
   "metadata": {},
   "outputs": [],
   "source": [
    "import pandas as pd\n",
    "type = \"summary_50\"\n",
    "\n",
    "type_test_df_x = pd.read_parquet(f\"df/{type}_test_df_x.gzip\")\n",
    "\n",
    "type_test_df_y = pd.read_parquet(f\"df/{type}_test_df_y.gzip\")\n",
    "\n",
    "joined_test_df = pd.concat([type_test_df_x, type_test_df_y], axis=1).reset_index(drop=True)\n",
    "\n",
    "#joined = pd.concat([joined_train_df, joined_test_df], axis=0).reset_index(drop=True)"
   ]
  },
  {
   "cell_type": "code",
   "execution_count": null,
   "id": "b086e00a",
   "metadata": {},
   "outputs": [],
   "source": [
    "type_test_df_x.drop(\"id\", axis=1, inplace=True)"
   ]
  },
  {
   "cell_type": "code",
   "execution_count": null,
   "id": "8d19bf5f",
   "metadata": {},
   "outputs": [],
   "source": [
    "from xgboost import XGBClassifier\n",
    "\n",
    "xgb = XGBClassifier()\n",
    "xgb.load_model(f\"models/xgb_{type}_softprob.json\")"
   ]
  },
  {
   "cell_type": "code",
   "execution_count": null,
   "id": "1a55c7c0",
   "metadata": {},
   "outputs": [],
   "source": [
    "xgb.classes_"
   ]
  },
  {
   "cell_type": "code",
   "execution_count": 6,
   "id": "92c7b217",
   "metadata": {},
   "outputs": [],
   "source": [
    "import numpy as np\n",
    "import pandas as pd\n",
    "\n",
    "def conditional_probability_predictor(model, df, conditions):\n",
    "    \"\"\"\n",
    "    Filters the DataFrame based on a dictionary of column-value conditions,\n",
    "    uses the model to predict probabilities on the filtered rows,\n",
    "    and returns the average predicted probabilities.\n",
    "\n",
    "    Args:\n",
    "        model: Trained XGBoost model with predict_proba method.\n",
    "        df (pd.DataFrame): The dataset to filter and predict on.\n",
    "        conditions (dict): Dictionary of {column_name: value} to filter on.\n",
    "\n",
    "    Returns:\n",
    "        np.ndarray: Averaged predicted probabilities (P(Y=y | conditions))\n",
    "    \"\"\"\n",
    "    # Apply all filtering conditions\n",
    "    mask = pd.Series(True, index=df.index)\n",
    "    for col, val in conditions.items():\n",
    "        mask &= (df[col] == val)\n",
    "    \n",
    "    filtered_df = df[mask]\n",
    "    \n",
    "    if filtered_df.empty:\n",
    "        raise ValueError(\"No rows match the given conditions.\")\n",
    "    \n",
    "    # Predict probabilities\n",
    "    probs = model.predict_proba(filtered_df)\n",
    "\n",
    "    # Return average probabilities\n",
    "    return np.round(np.mean(probs, axis=0),3)\n"
   ]
  },
  {
   "cell_type": "code",
   "execution_count": null,
   "id": "943e29e1",
   "metadata": {},
   "outputs": [],
   "source": [
    "p = conditional_probability_predictor(\n",
    "    model=xgb,\n",
    "    df=type_test_df_x,\n",
    "    conditions={\n",
    "        \"topic Media Bias\": True,\n",
    "        \"sentiment Media Bias\": -1\n",
    "    }\n",
    ")\n",
    "p"
   ]
  },
  {
   "cell_type": "code",
   "execution_count": null,
   "id": "ae7dc793",
   "metadata": {},
   "outputs": [],
   "source": [
    "import numpy as np\n",
    "import pandas as pd\n",
    "import matplotlib.pyplot as plt\n",
    "import seaborn as sns\n",
    "\n",
    "def heatmap_conditional_probs(model, df, col1, col2, class_index=0, cmap='viridis', title=''):\n",
    "    \"\"\"\n",
    "    Creates a heatmap of P(Y = class_index | col1 = v1, col2 = v2) for v1, v2 in {-1, 0, 1}.\n",
    "\n",
    "    Args:\n",
    "        model: Trained XGBoost model.\n",
    "        df (pd.DataFrame): Dataset to filter and predict from.\n",
    "        predictor_func (function): Function to compute conditional probabilities.\n",
    "        col1 (str): First categorical variable (rows).\n",
    "        col2 (str): Second categorical variable (columns).\n",
    "        class_index (int): Class to visualize. Default = 0.\n",
    "        cmap (str): Matplotlib colormap name.\n",
    "    \"\"\"\n",
    "    values = [-1, 0, 1]\n",
    "    heatmap_data = np.zeros((3, 3))  # rows = col1, cols = col2\n",
    "\n",
    "    label_dict = {0 : \"left\", 1: \"center\", 2: \"right\"}\n",
    "\n",
    "    for i, v1 in enumerate(values):\n",
    "        for j, v2 in enumerate(values):\n",
    "            try:\n",
    "                topic1 = col1.replace(\"sentiment\", \"topic\")\n",
    "                topic2 = col2.replace(\"sentiment\", \"topic\")\n",
    "                conditions = {col1: v1, col2: v2, topic1: True, topic2: True}\n",
    "                probs = conditional_probability_predictor(model, df, conditions)\n",
    "                heatmap_data[i, j] = np.round(probs[class_index], 3)\n",
    "            except ValueError:\n",
    "                heatmap_data[i, j] = np.nan  # In case no data matches\n",
    "\n",
    "    heatmap_df = pd.DataFrame(heatmap_data, index=values, columns=values)\n",
    "\n",
    "    plt.figure(figsize=(6, 5))\n",
    "    sns.heatmap(heatmap_df, annot=True, cmap=cmap, fmt=\".3f\", cbar=True)\n",
    "    plt.title(f\"P(Y = {label_dict[class_index]} | {col1}, {col2})\")\n",
    "    plt.xlabel(col2)\n",
    "    plt.ylabel(col1)\n",
    "    plt.tight_layout()\n",
    "    plt.savefig(f\"{title}_{class_index}.png\")\n",
    "    plt.show()\n"
   ]
  },
  {
   "cell_type": "code",
   "execution_count": null,
   "id": "848940d0",
   "metadata": {},
   "outputs": [],
   "source": [
    "heatmap_conditional_probs(\n",
    "    model=xgb,\n",
    "    df=type_test_df_x,\n",
    "    col1=\"sentiment Politics\",\n",
    "    col2=\"sentiment Donald Trump\",\n",
    "    class_index=0,\n",
    "    title=f\"{type}_p_vs_dt\"\n",
    ")\n",
    "heatmap_conditional_probs(\n",
    "    model=xgb,\n",
    "    df=type_test_df_x,\n",
    "    col1=\"sentiment Politics\",\n",
    "    col2=\"sentiment Donald Trump\",\n",
    "    class_index=1,\n",
    "    title=f\"{type}_p_vs_dt\"\n",
    ")\n",
    "heatmap_conditional_probs(\n",
    "    model=xgb,\n",
    "    df=type_test_df_x,\n",
    "    col1=\"sentiment Politics\",\n",
    "    col2=\"sentiment Donald Trump\",\n",
    "    class_index=2,\n",
    "    title=f\"{type}_p_vs_dt\"\n",
    ")"
   ]
  },
  {
   "cell_type": "code",
   "execution_count": null,
   "id": "7e8238b0",
   "metadata": {},
   "outputs": [],
   "source": [
    "import numpy as np\n",
    "import pandas as pd\n",
    "import matplotlib.pyplot as plt\n",
    "import seaborn as sns\n",
    "\n",
    "def probs(model, df, col1):\n",
    "    \"\"\"\n",
    "\n",
    "    Args:\n",
    "        model: Trained XGBoost model.\n",
    "        df (pd.DataFrame): Dataset to filter and predict from.\n",
    "        predictor_func (function): Function to compute conditional probabilities.\n",
    "        col1 (str): First categorical variable (rows).\n",
    "        col2 (str): Second categorical variable (columns).\n",
    "        class_index (int): Class to visualize. Default = 0.\n",
    "        cmap (str): Matplotlib colormap name.\n",
    "    \"\"\"\n",
    "    values = [-1, 0, 1]\n",
    "    dct = {}\n",
    "\n",
    "    for cls in [0, 1, 2]:\n",
    "        for i, v1 in enumerate(values):\n",
    "                dct[cls] = {}\n",
    "                try:\n",
    "                    topic1 = col1.replace(\"sentiment\", \"topic\")\n",
    "                    conditions = {col1: v1, topic1: True}\n",
    "                    probs = conditional_probability_predictor(model, df, conditions)\n",
    "                    dct[cls][i] = np.round(probs[class_index], 3)\n",
    "                except ValueError:\n",
    "                    dct[cls][i] = np.nan  # In case no data matches\n",
    "\n",
    "    return dct"
   ]
  },
  {
   "cell_type": "code",
   "execution_count": 10,
   "id": "7b7f75ce",
   "metadata": {},
   "outputs": [],
   "source": [
    "dct = probs(\n",
    "    model = xgb,\n",
    "    df = joined_test_df,\n",
    "    col1 = \"sentiment Politics\"\n",
    ")"
   ]
  },
  {
   "cell_type": "code",
   "execution_count": 11,
   "id": "7ac53f7a",
   "metadata": {},
   "outputs": [
    {
     "data": {
      "text/plain": [
       "{0: {2: nan}, 1: {2: nan}, 2: {2: nan}}"
      ]
     },
     "execution_count": 11,
     "metadata": {},
     "output_type": "execute_result"
    }
   ],
   "source": [
    "dct"
   ]
  }
 ],
 "metadata": {
  "kernelspec": {
   "display_name": ".venv",
   "language": "python",
   "name": "python3"
  },
  "language_info": {
   "codemirror_mode": {
    "name": "ipython",
    "version": 3
   },
   "file_extension": ".py",
   "mimetype": "text/x-python",
   "name": "python",
   "nbconvert_exporter": "python",
   "pygments_lexer": "ipython3",
   "version": "3.12.8"
  }
 },
 "nbformat": 4,
 "nbformat_minor": 5
}
