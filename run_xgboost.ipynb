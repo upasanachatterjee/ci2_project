{
 "cells": [
  {
   "cell_type": "code",
   "execution_count": null,
   "id": "a6521ec1",
   "metadata": {},
   "outputs": [
    {
     "name": "stderr",
     "output_type": "stream",
     "text": [
      "/workspace/.venv/lib/python3.11/site-packages/tqdm/auto.py:21: TqdmWarning: IProgress not found. Please update jupyter and ipywidgets. See https://ipywidgets.readthedocs.io/en/stable/user_install.html\n",
      "  from .autonotebook import tqdm as notebook_tqdm\n"
     ]
    }
   ],
   "source": [
    "from huggingface_hub import login\n",
    "from datasets import load_dataset\n",
    "import os\n",
    "\n",
    "login(os.getenv(\"hf_token\"))\n",
    "\n",
    "train = load_dataset(\"dragonslayer631/ci2_allsides\", split=\"train\")\n",
    "test = load_dataset(\"dragonslayer631/ci2_allsides\", split=\"test\")\n",
    "\n",
    "train = train.to_pandas()\n",
    "test = test.to_pandas()"
   ]
  },
  {
   "cell_type": "code",
   "execution_count": 2,
   "id": "4ba5fc48",
   "metadata": {},
   "outputs": [
    {
     "data": {
      "text/plain": [
       "'cuda'"
      ]
     },
     "execution_count": 2,
     "metadata": {},
     "output_type": "execute_result"
    }
   ],
   "source": [
    "import torch\n",
    "\n",
    "device = 'cuda' if torch.cuda.is_available() else 'cpu'\n",
    "device"
   ]
  },
  {
   "cell_type": "code",
   "execution_count": 3,
   "id": "74f52d25",
   "metadata": {},
   "outputs": [],
   "source": [
    "import pandas as pd\n",
    "import xgboost as xgb\n",
    "from sklearn.model_selection import train_test_split"
   ]
  },
  {
   "cell_type": "code",
   "execution_count": 38,
   "id": "0e6f1559",
   "metadata": {},
   "outputs": [
    {
     "data": {
      "text/plain": [
       "(45089, 47)"
      ]
     },
     "execution_count": 38,
     "metadata": {},
     "output_type": "execute_result"
    }
   ],
   "source": [
    "joined = pd.concat([train, test], axis=0)\n",
    "\n",
    "joined.shape"
   ]
  },
  {
   "cell_type": "code",
   "execution_count": 39,
   "id": "9e8c1bfc",
   "metadata": {},
   "outputs": [
    {
     "data": {
      "text/plain": [
       "Index(['topic', 'tags', 'text', 'int_bias', 'summary_5', 'summary_50',\n",
       "       'summary_100', 'text_entity_sentiments', 'text_topic_to_sentiment',\n",
       "       'summary_100_entity_sentiments', 'summary_100_topic_to_sentiment',\n",
       "       'summary_50_entity_sentiments', 'summary_50_topic_to_sentiment', 'id',\n",
       "       'text_encoded', 'summary_100_encoded', 'summary_50_encoded',\n",
       "       'text_topic_0', 'text_sentiment_0', 'text_topic_1', 'text_sentiment_1',\n",
       "       'text_topic_2', 'text_sentiment_2', 'text_topic_3', 'text_sentiment_3',\n",
       "       'text_topic_4', 'text_sentiment_4', 'summary_100_topic_0',\n",
       "       'summary_100_sentiment_0', 'summary_100_topic_1',\n",
       "       'summary_100_sentiment_1', 'summary_100_topic_2',\n",
       "       'summary_100_sentiment_2', 'summary_100_topic_3',\n",
       "       'summary_100_sentiment_3', 'summary_100_topic_4',\n",
       "       'summary_100_sentiment_4', 'summary_50_topic_0',\n",
       "       'summary_50_sentiment_0', 'summary_50_topic_1',\n",
       "       'summary_50_sentiment_1', 'summary_50_topic_2',\n",
       "       'summary_50_sentiment_2', 'summary_50_topic_3',\n",
       "       'summary_50_sentiment_3', 'summary_50_topic_4',\n",
       "       'summary_50_sentiment_4'],\n",
       "      dtype='object')"
      ]
     },
     "execution_count": 39,
     "metadata": {},
     "output_type": "execute_result"
    }
   ],
   "source": [
    "joined.columns"
   ]
  },
  {
   "cell_type": "code",
   "execution_count": 40,
   "id": "ba4f80d4",
   "metadata": {},
   "outputs": [],
   "source": [
    "joined = joined.drop([\n",
    "    'topic', 'tags', 'summary_100', 'summary_5', 'summary_100', 'summary_100', 'summary_100_entity_sentiments', 'summary_100_topic_to_sentiment','summary_100_entity_sentiments', 'summary_100_topic_to_sentiment','text_entity_sentiments', 'text_topic_to_sentiment', 'id',\n",
    "    'text_encoded', 'summary_100_encoded',\n",
    "    'summary_100_topic_0', 'summary_100_sentiment_0', \n",
    "    'summary_100_topic_1',\n",
    "   'summary_100_sentiment_1', 'summary_100_topic_2',\n",
    "   'summary_100_sentiment_2', 'summary_100_topic_3',\n",
    "   'summary_100_sentiment_3', 'summary_100_topic_4',\n",
    "   'summary_100_sentiment_4', 'text_topic_0',\n",
    "   'text_sentiment_0', 'text_topic_1',\n",
    "   'text_sentiment_1', 'text_topic_2',\n",
    "   'text_sentiment_2', 'text_topic_3',\n",
    "   'text_sentiment_3', 'text_topic_4',\n",
    "   'text_sentiment_4', \n",
    "], axis=1)"
   ]
  },
  {
   "cell_type": "code",
   "execution_count": 41,
   "id": "404a8d3e-c743-4b4c-8768-660e9849af97",
   "metadata": {},
   "outputs": [
    {
     "data": {
      "text/plain": [
       "Index(['text', 'int_bias', 'summary_50', 'summary_50_entity_sentiments',\n",
       "       'summary_50_topic_to_sentiment', 'summary_50_encoded',\n",
       "       'summary_50_topic_0', 'summary_50_sentiment_0', 'summary_50_topic_1',\n",
       "       'summary_50_sentiment_1', 'summary_50_topic_2',\n",
       "       'summary_50_sentiment_2', 'summary_50_topic_3',\n",
       "       'summary_50_sentiment_3', 'summary_50_topic_4',\n",
       "       'summary_50_sentiment_4'],\n",
       "      dtype='object')"
      ]
     },
     "execution_count": 41,
     "metadata": {},
     "output_type": "execute_result"
    }
   ],
   "source": [
    "joined.columns"
   ]
  },
  {
   "cell_type": "code",
   "execution_count": 42,
   "id": "5e567332",
   "metadata": {},
   "outputs": [],
   "source": [
    "import pandas as pd\n",
    "\n",
    "def multi_column_one_hot_2(df, topic_columns, sentiment_columns) -> pd.DataFrame:\n",
    "    \"\"\"\n",
    "    One-hot encode multiple categorical topic columns and their associated sentiment values.\n",
    "    \n",
    "    Returns a single DataFrame with:\n",
    "    - One-hot vectors for each topic (prefix 'topic ')\n",
    "    - Sentiment-weighted vectors (prefix 'sentiment ')\n",
    "    \"\"\"\n",
    "    # Stack topics and sentiments into long format\n",
    "    topic_long = df[topic_columns].copy()\n",
    "    sentiment_long = df[sentiment_columns].copy()\n",
    "\n",
    "    topic_long.columns = range(len(topic_columns))  # avoid duplicate column names\n",
    "    sentiment_long.columns = range(len(sentiment_columns))\n",
    "\n",
    "    topic_series = topic_long.stack()\n",
    "    sentiment_series = sentiment_long.stack()\n",
    "\n",
    "    # Align manually by index\n",
    "    combined = pd.DataFrame({\n",
    "        'topic': topic_series.values,\n",
    "        'sentiment': sentiment_series.values\n",
    "    }, index=topic_series.index)\n",
    "\n",
    "    # One-hot encode\n",
    "    one_hot = pd.get_dummies(combined['topic'])\n",
    "    weighted = one_hot.mul(combined['sentiment'], axis=0)\n",
    "\n",
    "    # Aggregate back to row-level (level 0)\n",
    "    one_hot_topics = one_hot.groupby(level=0).max().add_prefix('topic ')\n",
    "    one_hot_sentiments = weighted.groupby(level=0).sum().add_prefix('sentiment ')\n",
    "\n",
    "    # Final concatenation\n",
    "    res = pd.concat([one_hot_topics, one_hot_sentiments], axis=1)\n",
    "    final = pd.concat([\n",
    "    df.drop(columns=topic_columns + sentiment_columns).reset_index(drop=True),\n",
    "    res.reset_index(drop=True)\n",
    "], axis=1)\n",
    "\n",
    "    return final\n"
   ]
  },
  {
   "cell_type": "code",
   "execution_count": 44,
   "id": "3a725c63",
   "metadata": {},
   "outputs": [],
   "source": [
    "joined = multi_column_one_hot_2(joined, topic_columns=['summary_50_topic_0', 'summary_50_topic_1', 'summary_50_topic_2', 'summary_50_topic_3', 'summary_50_topic_4'], sentiment_columns=['summary_50_sentiment_0', 'summary_50_sentiment_1', 'summary_50_sentiment_2', 'summary_50_sentiment_3', 'summary_50_sentiment_4'])"
   ]
  },
  {
   "cell_type": "code",
   "execution_count": 45,
   "id": "adb2894b",
   "metadata": {},
   "outputs": [
    {
     "data": {
      "text/plain": [
       "(45089, 4974)"
      ]
     },
     "execution_count": 45,
     "metadata": {},
     "output_type": "execute_result"
    }
   ],
   "source": [
    "joined.shape"
   ]
  },
  {
   "cell_type": "code",
   "execution_count": 46,
   "id": "c6e4a22b",
   "metadata": {},
   "outputs": [],
   "source": [
    "summary_50_encoding_df = pd.DataFrame(joined['summary_50_encoded'].tolist())\n",
    "joined = pd.concat([joined.drop('summary_50_encoded', axis=1), summary_50_encoding_df], axis=1)"
   ]
  },
  {
   "cell_type": "code",
   "execution_count": 58,
   "id": "2c210988",
   "metadata": {},
   "outputs": [
    {
     "name": "stdout",
     "output_type": "stream",
     "text": [
      "(36071, 5736) (36071, 1) (9018, 5736) (9018, 1)\n"
     ]
    }
   ],
   "source": [
    "# split back into test and train\n",
    "\n",
    "train_idx = train.index\n",
    "test_idx = test.index\n",
    "\n",
    "X_train = joined.loc[train_idx]\n",
    "Y_train = X_train[['int_bias']]\n",
    "X_train.drop([\"int_bias\"], axis=1, inplace=True)\n",
    "\n",
    "X_test = joined.loc[test_idx]\n",
    "Y_test = X_test[['int_bias']]\n",
    "X_test.drop([\"int_bias\"], axis=1, inplace=True)\n",
    "\n",
    "X_train = X_train.convert_dtypes()\n",
    "X_test = X_test.convert_dtypes()\n",
    "Y_test = Y_test.convert_dtypes()\n",
    "Y_train = Y_train.convert_dtypes()\n",
    "\n",
    "\n",
    "\n",
    "print(X_train.shape, Y_train.shape, X_test.shape, Y_test.shape)"
   ]
  },
  {
   "cell_type": "code",
   "execution_count": 59,
   "id": "69f78cb2",
   "metadata": {},
   "outputs": [
    {
     "name": "stderr",
     "output_type": "stream",
     "text": [
      "/workspace/.venv/lib/python3.11/site-packages/xgboost/training.py:183: UserWarning: [22:09:20] WARNING: /workspace/src/learner.cc:738: \n",
      "Parameters: { \"predictor\", \"use_label_encoder\" } are not used.\n",
      "\n",
      "  bst.update(dtrain, iteration=i, fobj=obj)\n"
     ]
    },
    {
     "name": "stdout",
     "output_type": "stream",
     "text": [
      "              precision    recall  f1-score   support\n",
      "\n",
      "         0.0     1.0000    1.0000    1.0000      3677\n",
      "         1.0     1.0000    1.0000    1.0000      2208\n",
      "         2.0     1.0000    1.0000    1.0000      3133\n",
      "\n",
      "    accuracy                         1.0000      9018\n",
      "   macro avg     1.0000    1.0000    1.0000      9018\n",
      "weighted avg     1.0000    1.0000    1.0000      9018\n",
      "\n"
     ]
    }
   ],
   "source": [
    "from xgboost import XGBClassifier\n",
    "\n",
    "model = XGBClassifier(\n",
    "    objective='multi:softmax',  # outputs class probabilities\n",
    "    num_class=3,\n",
    "    max_depth=8,                # Avoid extreme depth like 128\n",
    "    tree_method='hist',     # Use GPU if available\n",
    "    predictor='gpu_predictor',  # Use GPU for inference\n",
    "    use_label_encoder=False,    # suppress warning\n",
    "    eval_metric='mlogloss',\n",
    "    device=device\n",
    ")\n",
    "\n",
    "model.fit(X_train, Y_train)\n",
    "\n",
    "# # Predict probabilities for each class\n",
    "# probs = model.predict_proba(X_test_updated)\n",
    "\n",
    "# Predict class labels\n",
    "preds = model.predict(X_test)\n",
    "\n",
    "print(classification_report(Y_test, preds, digits=4))"
   ]
  },
  {
   "cell_type": "code",
   "execution_count": 60,
   "id": "02c22de0-ab28-4e4c-80dd-aadd8ff9bfb9",
   "metadata": {},
   "outputs": [],
   "source": [
    "model.save_model(\"xgb_summary_50.json\")  # or .bin"
   ]
  },
  {
   "cell_type": "code",
   "execution_count": null,
   "id": "df067b8d-e54d-4d0e-9fd9-eba675978bf3",
   "metadata": {},
   "outputs": [],
   "source": []
  }
 ],
 "metadata": {
  "kernelspec": {
   "display_name": ".venv",
   "language": "python",
   "name": "python3"
  },
  "language_info": {
   "codemirror_mode": {
    "name": "ipython",
    "version": 3
   },
   "file_extension": ".py",
   "mimetype": "text/x-python",
   "name": "python",
   "nbconvert_exporter": "python",
   "pygments_lexer": "ipython3",
   "version": "3.12.8"
  }
 },
 "nbformat": 4,
 "nbformat_minor": 5
}
