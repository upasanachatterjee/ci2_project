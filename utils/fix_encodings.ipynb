{
 "cells": [
  {
   "cell_type": "code",
   "execution_count": 28,
   "id": "19909119",
   "metadata": {},
   "outputs": [
    {
     "name": "stdout",
     "output_type": "stream",
     "text": [
      "The autoreload extension is already loaded. To reload it, use:\n",
      "  %reload_ext autoreload\n"
     ]
    }
   ],
   "source": [
    "%load_ext autoreload\n",
    "%autoreload 2"
   ]
  },
  {
   "cell_type": "code",
   "execution_count": 35,
   "id": "9a1bc877",
   "metadata": {},
   "outputs": [
    {
     "name": "stdout",
     "output_type": "stream",
     "text": [
      "Loaded dataset: dragonslayer631/ci2_allsides, split: train\n"
     ]
    }
   ],
   "source": [
    "from utils.ds_utils import load_dataset_from_huggingface\n",
    "\n",
    "train = load_dataset_from_huggingface(split=\"train\").to_pandas()"
   ]
  },
  {
   "cell_type": "code",
   "execution_count": 36,
   "id": "a0306b17",
   "metadata": {},
   "outputs": [
    {
     "name": "stdout",
     "output_type": "stream",
     "text": [
      "Loaded dataset: dragonslayer631/ci2_allsides, split: test\n"
     ]
    }
   ],
   "source": [
    "test = load_dataset_from_huggingface(split=\"test\").to_pandas()"
   ]
  },
  {
   "cell_type": "code",
   "execution_count": 64,
   "id": "23f03401",
   "metadata": {},
   "outputs": [
    {
     "name": "stdout",
     "output_type": "stream",
     "text": [
      "(45089, 47)\n"
     ]
    },
    {
     "name": "stderr",
     "output_type": "stream",
     "text": [
      "/opt/homebrew/anaconda3/envs/conda_env/lib/python3.12/site-packages/pandas/io/parquet.py:190: UserWarning: The DataFrame has column names of mixed type. They will be converted to strings and not roundtrip correctly.\n",
      "  table = self.api.Table.from_pandas(df, **from_pandas_kwargs)\n"
     ]
    }
   ],
   "source": [
    "from utils.df_utils import get_df_split\n",
    "\n",
    "x_train, y_train, x_test, y_test = get_df_split(\"summary_50\", train, test)\n",
    "x_train.to_parquet(\"df/summary_50_train_df_x.gzip\", compression=\"gzip\")\n",
    "x_test.to_parquet(\"df/summary_50_test_df_x.gzip\", compression=\"gzip\")\n",
    "y_train.to_parquet(\"df/summary_50_train_df_y.gzip\", compression=\"gzip\")\n",
    "y_test.to_parquet(\"df/summary_50_test_df_y.gzip\", compression=\"gzip\")"
   ]
  },
  {
   "cell_type": "code",
   "execution_count": 48,
   "id": "4759db1c",
   "metadata": {},
   "outputs": [
    {
     "name": "stdout",
     "output_type": "stream",
     "text": [
      "(45089, 47)\n"
     ]
    }
   ],
   "source": [
    "df = get_df_split(\"text\", train, test)"
   ]
  },
  {
   "cell_type": "code",
   "execution_count": 50,
   "id": "e4e7e330",
   "metadata": {},
   "outputs": [
    {
     "data": {
      "text/plain": [
       "RangeIndex(start=0, stop=9018, step=1)"
      ]
     },
     "execution_count": 50,
     "metadata": {},
     "output_type": "execute_result"
    }
   ],
   "source": [
    "test.index"
   ]
  },
  {
   "cell_type": "code",
   "execution_count": 51,
   "id": "83a40cbc",
   "metadata": {},
   "outputs": [],
   "source": [
    "train_size = len(train)\n",
    "X_train = df.iloc[:train_size]\n",
    "X_test = df.iloc[train_size:]\n",
    "\n",
    "Y_train = X_train[['int_bias']]\n",
    "X_train = X_train.drop([\"int_bias\"], axis=1)\n",
    "\n",
    "Y_test = X_test[['int_bias']]\n",
    "X_test = X_test.drop([\"int_bias\"], axis=1)\n",
    "\n",
    "X_train = X_train.convert_dtypes()\n",
    "X_test = X_test.convert_dtypes()\n",
    "Y_test = Y_test.convert_dtypes()\n",
    "Y_train = Y_train.convert_dtypes()"
   ]
  },
  {
   "cell_type": "code",
   "execution_count": 52,
   "id": "2bb06f2a",
   "metadata": {},
   "outputs": [
    {
     "name": "stdout",
     "output_type": "stream",
     "text": [
      "(36071, 5658) (9018, 5658)\n"
     ]
    }
   ],
   "source": [
    "print(X_train.shape, X_test.shape)"
   ]
  },
  {
   "cell_type": "code",
   "execution_count": 62,
   "id": "710d0668",
   "metadata": {},
   "outputs": [
    {
     "data": {
      "text/plain": [
       "(4883, 5658)"
      ]
     },
     "execution_count": 62,
     "metadata": {},
     "output_type": "execute_result"
    }
   ],
   "source": [
    "sample = x_train[x_train['topic Donald Trump']==True]\n",
    "sample.shape"
   ]
  },
  {
   "cell_type": "code",
   "execution_count": 58,
   "id": "98e18f37",
   "metadata": {},
   "outputs": [
    {
     "data": {
      "text/plain": [
       "(4883, 5658)"
      ]
     },
     "execution_count": 58,
     "metadata": {},
     "output_type": "execute_result"
    }
   ],
   "source": [
    "sample.shape"
   ]
  },
  {
   "cell_type": "code",
   "execution_count": 57,
   "id": "d454aee2",
   "metadata": {},
   "outputs": [
    {
     "name": "stdout",
     "output_type": "stream",
     "text": [
      "['topic China', 'topic Donald Trump', 'topic Foreign Policy', 'topic Trade']\n"
     ]
    }
   ],
   "source": [
    "true_columns = sample.columns[sample.loc[26] == True].tolist()\n",
    "print(true_columns)"
   ]
  },
  {
   "cell_type": "code",
   "execution_count": null,
   "id": "0077cf46",
   "metadata": {},
   "outputs": [],
   "source": [
    "X_train[X_train['topic Donald Trump']==True]"
   ]
  },
  {
   "cell_type": "code",
   "execution_count": 26,
   "id": "29d06bee",
   "metadata": {},
   "outputs": [
    {
     "name": "stderr",
     "output_type": "stream",
     "text": [
      "/opt/homebrew/anaconda3/envs/conda_env/lib/python3.12/site-packages/pandas/io/parquet.py:190: UserWarning: The DataFrame has column names of mixed type. They will be converted to strings and not roundtrip correctly.\n",
      "  table = self.api.Table.from_pandas(df, **from_pandas_kwargs)\n"
     ]
    }
   ],
   "source": [
    "x_train.to_parquet(\"df/summary_50_train_df_x.gzip\", compression=\"gzip\")\n",
    "x_test.to_parquet(\"df/summary_50_test_df_x.gzip\", compression=\"gzip\")\n",
    "y_train.to_parquet(\"df/summary_50_train_df_y.gzip\", compression=\"gzip\")\n",
    "y_test.to_parquet(\"df/summary_50_test_df_y.gzip\", compression=\"gzip\")"
   ]
  },
  {
   "cell_type": "code",
   "execution_count": 3,
   "id": "961953e1",
   "metadata": {},
   "outputs": [],
   "source": [
    "train_simple = train.loc[[i for i in range(25, 30)]]\n",
    "train_simple.reset_index(drop=True, inplace=True)"
   ]
  },
  {
   "cell_type": "code",
   "execution_count": 4,
   "id": "03aaebf4",
   "metadata": {},
   "outputs": [],
   "source": [
    "from utils.df_utils import keep_columns_related_to\n",
    "\n",
    "train_simple = keep_columns_related_to(train_simple, \"summary_50\")"
   ]
  },
  {
   "cell_type": "code",
   "execution_count": 6,
   "id": "ef951034",
   "metadata": {},
   "outputs": [],
   "source": [
    "type = \"summary_50\"\n",
    "topic_columns = [f'{type}_topic_0', f'{type}_topic_1', f'{type}_topic_2', f'{type}_topic_3', f'{type}_topic_4']\n",
    "sentiment_columns = [f'{type}_sentiment_0', f'{type}_sentiment_1', f'{type}_sentiment_2', f'{type}_sentiment_3', f'{type}_sentiment_4']\n",
    "encoded_text_column = f\"{type}_encoded\""
   ]
  },
  {
   "cell_type": "code",
   "execution_count": 9,
   "id": "8f3fa9c1",
   "metadata": {},
   "outputs": [
    {
     "data": {
      "text/html": [
       "<div>\n",
       "<style scoped>\n",
       "    .dataframe tbody tr th:only-of-type {\n",
       "        vertical-align: middle;\n",
       "    }\n",
       "\n",
       "    .dataframe tbody tr th {\n",
       "        vertical-align: top;\n",
       "    }\n",
       "\n",
       "    .dataframe thead th {\n",
       "        text-align: right;\n",
       "    }\n",
       "</style>\n",
       "<table border=\"1\" class=\"dataframe\">\n",
       "  <thead>\n",
       "    <tr style=\"text-align: right;\">\n",
       "      <th></th>\n",
       "      <th>int_bias</th>\n",
       "      <th>summary_50_encoded</th>\n",
       "      <th>summary_50_topic_0</th>\n",
       "      <th>summary_50_sentiment_0</th>\n",
       "      <th>summary_50_topic_1</th>\n",
       "      <th>summary_50_sentiment_1</th>\n",
       "      <th>summary_50_topic_2</th>\n",
       "      <th>summary_50_sentiment_2</th>\n",
       "      <th>summary_50_topic_3</th>\n",
       "      <th>summary_50_sentiment_3</th>\n",
       "      <th>summary_50_topic_4</th>\n",
       "      <th>summary_50_sentiment_4</th>\n",
       "    </tr>\n",
       "  </thead>\n",
       "  <tbody>\n",
       "    <tr>\n",
       "      <th>0</th>\n",
       "      <td>1</td>\n",
       "      <td>[-0.056317195, 0.12022657, 0.011105087, 0.0216...</td>\n",
       "      <td>Michael Bloomberg</td>\n",
       "      <td>0.95</td>\n",
       "      <td>Bernie Sanders</td>\n",
       "      <td>-0.9</td>\n",
       "      <td>Elections</td>\n",
       "      <td>-0.2</td>\n",
       "      <td>Endorsements</td>\n",
       "      <td>0.0</td>\n",
       "      <td>None</td>\n",
       "      <td>NaN</td>\n",
       "    </tr>\n",
       "    <tr>\n",
       "      <th>1</th>\n",
       "      <td>0</td>\n",
       "      <td>[-0.029946543, 0.07604946, -0.026323069, -0.03...</td>\n",
       "      <td>Donald Trump</td>\n",
       "      <td>0.30</td>\n",
       "      <td>Foreign Policy</td>\n",
       "      <td>0.1</td>\n",
       "      <td>Trade</td>\n",
       "      <td>-0.1</td>\n",
       "      <td>China</td>\n",
       "      <td>0.0</td>\n",
       "      <td>Xi Jinping</td>\n",
       "      <td>0.0</td>\n",
       "    </tr>\n",
       "    <tr>\n",
       "      <th>2</th>\n",
       "      <td>0</td>\n",
       "      <td>[-0.012483774, 0.07779222, -0.00440428, -0.005...</td>\n",
       "      <td>Coronavirus</td>\n",
       "      <td>-0.80</td>\n",
       "      <td>Economy And Jobs</td>\n",
       "      <td>0.6</td>\n",
       "      <td>None</td>\n",
       "      <td>NaN</td>\n",
       "      <td>None</td>\n",
       "      <td>NaN</td>\n",
       "      <td>None</td>\n",
       "      <td>NaN</td>\n",
       "    </tr>\n",
       "    <tr>\n",
       "      <th>3</th>\n",
       "      <td>1</td>\n",
       "      <td>[0.005510794, 0.15179372, 0.00912012, -0.05403...</td>\n",
       "      <td>Barack Obama</td>\n",
       "      <td>0.70</td>\n",
       "      <td>Foreign Policy</td>\n",
       "      <td>0.4</td>\n",
       "      <td>None</td>\n",
       "      <td>NaN</td>\n",
       "      <td>None</td>\n",
       "      <td>NaN</td>\n",
       "      <td>None</td>\n",
       "      <td>NaN</td>\n",
       "    </tr>\n",
       "    <tr>\n",
       "      <th>4</th>\n",
       "      <td>2</td>\n",
       "      <td>[0.010331074, -0.004997588, 0.01926157, -0.039...</td>\n",
       "      <td>Donald Trump</td>\n",
       "      <td>-0.50</td>\n",
       "      <td>Mueller Report</td>\n",
       "      <td>0.1</td>\n",
       "      <td>Justice</td>\n",
       "      <td>-0.1</td>\n",
       "      <td>Russia</td>\n",
       "      <td>0.0</td>\n",
       "      <td>Mueller Investigation</td>\n",
       "      <td>0.0</td>\n",
       "    </tr>\n",
       "  </tbody>\n",
       "</table>\n",
       "</div>"
      ],
      "text/plain": [
       "   int_bias                                 summary_50_encoded  \\\n",
       "0         1  [-0.056317195, 0.12022657, 0.011105087, 0.0216...   \n",
       "1         0  [-0.029946543, 0.07604946, -0.026323069, -0.03...   \n",
       "2         0  [-0.012483774, 0.07779222, -0.00440428, -0.005...   \n",
       "3         1  [0.005510794, 0.15179372, 0.00912012, -0.05403...   \n",
       "4         2  [0.010331074, -0.004997588, 0.01926157, -0.039...   \n",
       "\n",
       "  summary_50_topic_0  summary_50_sentiment_0 summary_50_topic_1  \\\n",
       "0  Michael Bloomberg                    0.95     Bernie Sanders   \n",
       "1       Donald Trump                    0.30     Foreign Policy   \n",
       "2        Coronavirus                   -0.80   Economy And Jobs   \n",
       "3       Barack Obama                    0.70     Foreign Policy   \n",
       "4       Donald Trump                   -0.50     Mueller Report   \n",
       "\n",
       "   summary_50_sentiment_1 summary_50_topic_2  summary_50_sentiment_2  \\\n",
       "0                    -0.9          Elections                    -0.2   \n",
       "1                     0.1              Trade                    -0.1   \n",
       "2                     0.6               None                     NaN   \n",
       "3                     0.4               None                     NaN   \n",
       "4                     0.1            Justice                    -0.1   \n",
       "\n",
       "  summary_50_topic_3  summary_50_sentiment_3     summary_50_topic_4  \\\n",
       "0       Endorsements                     0.0                   None   \n",
       "1              China                     0.0             Xi Jinping   \n",
       "2               None                     NaN                   None   \n",
       "3               None                     NaN                   None   \n",
       "4             Russia                     0.0  Mueller Investigation   \n",
       "\n",
       "   summary_50_sentiment_4  \n",
       "0                     NaN  \n",
       "1                     0.0  \n",
       "2                     NaN  \n",
       "3                     NaN  \n",
       "4                     0.0  "
      ]
     },
     "execution_count": 9,
     "metadata": {},
     "output_type": "execute_result"
    }
   ],
   "source": [
    "train_simple"
   ]
  },
  {
   "cell_type": "code",
   "execution_count": 10,
   "id": "aaa39f86",
   "metadata": {},
   "outputs": [],
   "source": [
    "from utils.df_utils import expand_columns\n",
    "\n",
    "test = expand_columns(train, topic_columns, sentiment_columns, encoded_text_column)"
   ]
  },
  {
   "cell_type": "code",
   "execution_count": 18,
   "id": "321a42c4",
   "metadata": {},
   "outputs": [],
   "source": [
    "train = keep_columns_related_to(train, \"summary_50\")\n",
    "\n",
    "train = expand_columns(train, topic_columns, sentiment_columns, encoded_text_column)"
   ]
  },
  {
   "cell_type": "code",
   "execution_count": 21,
   "id": "595305f3",
   "metadata": {},
   "outputs": [
    {
     "data": {
      "text/html": [
       "<div>\n",
       "<style scoped>\n",
       "    .dataframe tbody tr th:only-of-type {\n",
       "        vertical-align: middle;\n",
       "    }\n",
       "\n",
       "    .dataframe tbody tr th {\n",
       "        vertical-align: top;\n",
       "    }\n",
       "\n",
       "    .dataframe thead th {\n",
       "        text-align: right;\n",
       "    }\n",
       "</style>\n",
       "<table border=\"1\" class=\"dataframe\">\n",
       "  <thead>\n",
       "    <tr style=\"text-align: right;\">\n",
       "      <th></th>\n",
       "      <th>int_bias</th>\n",
       "      <th>topic  Donald Trump</th>\n",
       "      <th>topic 14th Amendment</th>\n",
       "      <th>topic 1619 Project</th>\n",
       "      <th>topic 1st Amendment</th>\n",
       "      <th>topic 2002 Elections</th>\n",
       "      <th>topic 2016 Election</th>\n",
       "      <th>topic 2020 Census</th>\n",
       "      <th>topic 2020 Election</th>\n",
       "      <th>topic 2020 Election Fact Checking</th>\n",
       "      <th>...</th>\n",
       "      <th>758</th>\n",
       "      <th>759</th>\n",
       "      <th>760</th>\n",
       "      <th>761</th>\n",
       "      <th>762</th>\n",
       "      <th>763</th>\n",
       "      <th>764</th>\n",
       "      <th>765</th>\n",
       "      <th>766</th>\n",
       "      <th>767</th>\n",
       "    </tr>\n",
       "  </thead>\n",
       "  <tbody>\n",
       "    <tr>\n",
       "      <th>10</th>\n",
       "      <td>0</td>\n",
       "      <td>False</td>\n",
       "      <td>False</td>\n",
       "      <td>False</td>\n",
       "      <td>False</td>\n",
       "      <td>False</td>\n",
       "      <td>False</td>\n",
       "      <td>False</td>\n",
       "      <td>False</td>\n",
       "      <td>False</td>\n",
       "      <td>...</td>\n",
       "      <td>-0.080882</td>\n",
       "      <td>0.027996</td>\n",
       "      <td>-0.042423</td>\n",
       "      <td>0.007666</td>\n",
       "      <td>0.013120</td>\n",
       "      <td>0.043551</td>\n",
       "      <td>0.000393</td>\n",
       "      <td>0.009256</td>\n",
       "      <td>0.009100</td>\n",
       "      <td>0.015181</td>\n",
       "    </tr>\n",
       "    <tr>\n",
       "      <th>11</th>\n",
       "      <td>2</td>\n",
       "      <td>False</td>\n",
       "      <td>False</td>\n",
       "      <td>False</td>\n",
       "      <td>False</td>\n",
       "      <td>False</td>\n",
       "      <td>False</td>\n",
       "      <td>False</td>\n",
       "      <td>False</td>\n",
       "      <td>False</td>\n",
       "      <td>...</td>\n",
       "      <td>-0.064976</td>\n",
       "      <td>0.025333</td>\n",
       "      <td>0.013093</td>\n",
       "      <td>0.035269</td>\n",
       "      <td>0.002931</td>\n",
       "      <td>0.103610</td>\n",
       "      <td>0.001206</td>\n",
       "      <td>-0.030041</td>\n",
       "      <td>-0.029632</td>\n",
       "      <td>-0.045885</td>\n",
       "    </tr>\n",
       "    <tr>\n",
       "      <th>26</th>\n",
       "      <td>0</td>\n",
       "      <td>False</td>\n",
       "      <td>False</td>\n",
       "      <td>False</td>\n",
       "      <td>False</td>\n",
       "      <td>False</td>\n",
       "      <td>False</td>\n",
       "      <td>False</td>\n",
       "      <td>False</td>\n",
       "      <td>False</td>\n",
       "      <td>...</td>\n",
       "      <td>-0.054536</td>\n",
       "      <td>0.034286</td>\n",
       "      <td>0.053287</td>\n",
       "      <td>0.050545</td>\n",
       "      <td>0.021308</td>\n",
       "      <td>0.035649</td>\n",
       "      <td>-0.004724</td>\n",
       "      <td>-0.018877</td>\n",
       "      <td>-0.028381</td>\n",
       "      <td>-0.053301</td>\n",
       "    </tr>\n",
       "    <tr>\n",
       "      <th>29</th>\n",
       "      <td>2</td>\n",
       "      <td>False</td>\n",
       "      <td>False</td>\n",
       "      <td>False</td>\n",
       "      <td>False</td>\n",
       "      <td>False</td>\n",
       "      <td>False</td>\n",
       "      <td>False</td>\n",
       "      <td>False</td>\n",
       "      <td>False</td>\n",
       "      <td>...</td>\n",
       "      <td>-0.023729</td>\n",
       "      <td>0.020677</td>\n",
       "      <td>0.026477</td>\n",
       "      <td>0.007004</td>\n",
       "      <td>-0.019256</td>\n",
       "      <td>-0.022114</td>\n",
       "      <td>-0.092079</td>\n",
       "      <td>-0.024130</td>\n",
       "      <td>-0.058587</td>\n",
       "      <td>-0.022880</td>\n",
       "    </tr>\n",
       "    <tr>\n",
       "      <th>36</th>\n",
       "      <td>0</td>\n",
       "      <td>False</td>\n",
       "      <td>False</td>\n",
       "      <td>False</td>\n",
       "      <td>False</td>\n",
       "      <td>False</td>\n",
       "      <td>False</td>\n",
       "      <td>False</td>\n",
       "      <td>False</td>\n",
       "      <td>False</td>\n",
       "      <td>...</td>\n",
       "      <td>-0.031660</td>\n",
       "      <td>-0.002022</td>\n",
       "      <td>-0.061089</td>\n",
       "      <td>0.034908</td>\n",
       "      <td>0.020897</td>\n",
       "      <td>0.027410</td>\n",
       "      <td>-0.039021</td>\n",
       "      <td>-0.015946</td>\n",
       "      <td>0.012154</td>\n",
       "      <td>-0.001110</td>\n",
       "    </tr>\n",
       "    <tr>\n",
       "      <th>...</th>\n",
       "      <td>...</td>\n",
       "      <td>...</td>\n",
       "      <td>...</td>\n",
       "      <td>...</td>\n",
       "      <td>...</td>\n",
       "      <td>...</td>\n",
       "      <td>...</td>\n",
       "      <td>...</td>\n",
       "      <td>...</td>\n",
       "      <td>...</td>\n",
       "      <td>...</td>\n",
       "      <td>...</td>\n",
       "      <td>...</td>\n",
       "      <td>...</td>\n",
       "      <td>...</td>\n",
       "      <td>...</td>\n",
       "      <td>...</td>\n",
       "      <td>...</td>\n",
       "      <td>...</td>\n",
       "      <td>...</td>\n",
       "      <td>...</td>\n",
       "    </tr>\n",
       "    <tr>\n",
       "      <th>35970</th>\n",
       "      <td>1</td>\n",
       "      <td>False</td>\n",
       "      <td>False</td>\n",
       "      <td>False</td>\n",
       "      <td>False</td>\n",
       "      <td>False</td>\n",
       "      <td>False</td>\n",
       "      <td>False</td>\n",
       "      <td>True</td>\n",
       "      <td>False</td>\n",
       "      <td>...</td>\n",
       "      <td>-0.026487</td>\n",
       "      <td>0.053653</td>\n",
       "      <td>-0.034349</td>\n",
       "      <td>0.006548</td>\n",
       "      <td>0.053012</td>\n",
       "      <td>0.037611</td>\n",
       "      <td>-0.044497</td>\n",
       "      <td>0.038350</td>\n",
       "      <td>-0.017024</td>\n",
       "      <td>-0.014517</td>\n",
       "    </tr>\n",
       "    <tr>\n",
       "      <th>35971</th>\n",
       "      <td>2</td>\n",
       "      <td>False</td>\n",
       "      <td>False</td>\n",
       "      <td>False</td>\n",
       "      <td>False</td>\n",
       "      <td>False</td>\n",
       "      <td>False</td>\n",
       "      <td>False</td>\n",
       "      <td>False</td>\n",
       "      <td>False</td>\n",
       "      <td>...</td>\n",
       "      <td>0.016808</td>\n",
       "      <td>0.024966</td>\n",
       "      <td>-0.016546</td>\n",
       "      <td>0.020075</td>\n",
       "      <td>-0.016336</td>\n",
       "      <td>-0.036875</td>\n",
       "      <td>-0.058639</td>\n",
       "      <td>-0.013507</td>\n",
       "      <td>0.027035</td>\n",
       "      <td>0.019004</td>\n",
       "    </tr>\n",
       "    <tr>\n",
       "      <th>35974</th>\n",
       "      <td>0</td>\n",
       "      <td>False</td>\n",
       "      <td>False</td>\n",
       "      <td>False</td>\n",
       "      <td>False</td>\n",
       "      <td>False</td>\n",
       "      <td>False</td>\n",
       "      <td>False</td>\n",
       "      <td>False</td>\n",
       "      <td>False</td>\n",
       "      <td>...</td>\n",
       "      <td>-0.041240</td>\n",
       "      <td>0.000550</td>\n",
       "      <td>-0.044454</td>\n",
       "      <td>0.028475</td>\n",
       "      <td>-0.007377</td>\n",
       "      <td>-0.031427</td>\n",
       "      <td>0.011870</td>\n",
       "      <td>0.027959</td>\n",
       "      <td>0.025140</td>\n",
       "      <td>-0.010148</td>\n",
       "    </tr>\n",
       "    <tr>\n",
       "      <th>35990</th>\n",
       "      <td>1</td>\n",
       "      <td>False</td>\n",
       "      <td>False</td>\n",
       "      <td>False</td>\n",
       "      <td>False</td>\n",
       "      <td>False</td>\n",
       "      <td>False</td>\n",
       "      <td>False</td>\n",
       "      <td>False</td>\n",
       "      <td>False</td>\n",
       "      <td>...</td>\n",
       "      <td>0.044998</td>\n",
       "      <td>0.044040</td>\n",
       "      <td>-0.058275</td>\n",
       "      <td>0.017540</td>\n",
       "      <td>0.005719</td>\n",
       "      <td>-0.061773</td>\n",
       "      <td>0.010232</td>\n",
       "      <td>0.023521</td>\n",
       "      <td>-0.013776</td>\n",
       "      <td>-0.015905</td>\n",
       "    </tr>\n",
       "    <tr>\n",
       "      <th>35991</th>\n",
       "      <td>1</td>\n",
       "      <td>False</td>\n",
       "      <td>False</td>\n",
       "      <td>False</td>\n",
       "      <td>False</td>\n",
       "      <td>False</td>\n",
       "      <td>False</td>\n",
       "      <td>False</td>\n",
       "      <td>False</td>\n",
       "      <td>False</td>\n",
       "      <td>...</td>\n",
       "      <td>0.029441</td>\n",
       "      <td>0.002933</td>\n",
       "      <td>-0.087404</td>\n",
       "      <td>0.004571</td>\n",
       "      <td>-0.010510</td>\n",
       "      <td>-0.032095</td>\n",
       "      <td>-0.049738</td>\n",
       "      <td>-0.014956</td>\n",
       "      <td>0.001735</td>\n",
       "      <td>-0.001270</td>\n",
       "    </tr>\n",
       "  </tbody>\n",
       "</table>\n",
       "<p>4985 rows × 5603 columns</p>\n",
       "</div>"
      ],
      "text/plain": [
       "       int_bias topic  Donald Trump topic 14th Amendment topic 1619 Project  \\\n",
       "10            0               False                False              False   \n",
       "11            2               False                False              False   \n",
       "26            0               False                False              False   \n",
       "29            2               False                False              False   \n",
       "36            0               False                False              False   \n",
       "...         ...                 ...                  ...                ...   \n",
       "35970         1               False                False              False   \n",
       "35971         2               False                False              False   \n",
       "35974         0               False                False              False   \n",
       "35990         1               False                False              False   \n",
       "35991         1               False                False              False   \n",
       "\n",
       "      topic 1st Amendment topic 2002 Elections topic 2016 Election  \\\n",
       "10                  False                False               False   \n",
       "11                  False                False               False   \n",
       "26                  False                False               False   \n",
       "29                  False                False               False   \n",
       "36                  False                False               False   \n",
       "...                   ...                  ...                 ...   \n",
       "35970               False                False               False   \n",
       "35971               False                False               False   \n",
       "35974               False                False               False   \n",
       "35990               False                False               False   \n",
       "35991               False                False               False   \n",
       "\n",
       "      topic 2020 Census topic 2020 Election topic 2020 Election Fact Checking  \\\n",
       "10                False               False                             False   \n",
       "11                False               False                             False   \n",
       "26                False               False                             False   \n",
       "29                False               False                             False   \n",
       "36                False               False                             False   \n",
       "...                 ...                 ...                               ...   \n",
       "35970             False                True                             False   \n",
       "35971             False               False                             False   \n",
       "35974             False               False                             False   \n",
       "35990             False               False                             False   \n",
       "35991             False               False                             False   \n",
       "\n",
       "       ...       758       759       760       761       762       763  \\\n",
       "10     ... -0.080882  0.027996 -0.042423  0.007666  0.013120  0.043551   \n",
       "11     ... -0.064976  0.025333  0.013093  0.035269  0.002931  0.103610   \n",
       "26     ... -0.054536  0.034286  0.053287  0.050545  0.021308  0.035649   \n",
       "29     ... -0.023729  0.020677  0.026477  0.007004 -0.019256 -0.022114   \n",
       "36     ... -0.031660 -0.002022 -0.061089  0.034908  0.020897  0.027410   \n",
       "...    ...       ...       ...       ...       ...       ...       ...   \n",
       "35970  ... -0.026487  0.053653 -0.034349  0.006548  0.053012  0.037611   \n",
       "35971  ...  0.016808  0.024966 -0.016546  0.020075 -0.016336 -0.036875   \n",
       "35974  ... -0.041240  0.000550 -0.044454  0.028475 -0.007377 -0.031427   \n",
       "35990  ...  0.044998  0.044040 -0.058275  0.017540  0.005719 -0.061773   \n",
       "35991  ...  0.029441  0.002933 -0.087404  0.004571 -0.010510 -0.032095   \n",
       "\n",
       "            764       765       766       767  \n",
       "10     0.000393  0.009256  0.009100  0.015181  \n",
       "11     0.001206 -0.030041 -0.029632 -0.045885  \n",
       "26    -0.004724 -0.018877 -0.028381 -0.053301  \n",
       "29    -0.092079 -0.024130 -0.058587 -0.022880  \n",
       "36    -0.039021 -0.015946  0.012154 -0.001110  \n",
       "...         ...       ...       ...       ...  \n",
       "35970 -0.044497  0.038350 -0.017024 -0.014517  \n",
       "35971 -0.058639 -0.013507  0.027035  0.019004  \n",
       "35974  0.011870  0.027959  0.025140 -0.010148  \n",
       "35990  0.010232  0.023521 -0.013776 -0.015905  \n",
       "35991 -0.049738 -0.014956  0.001735 -0.001270  \n",
       "\n",
       "[4985 rows x 5603 columns]"
      ]
     },
     "execution_count": 21,
     "metadata": {},
     "output_type": "execute_result"
    }
   ],
   "source": [
    "train[train['topic Donald Trump']==True]"
   ]
  }
 ],
 "metadata": {
  "kernelspec": {
   "display_name": "conda_env",
   "language": "python",
   "name": "python3"
  },
  "language_info": {
   "codemirror_mode": {
    "name": "ipython",
    "version": 3
   },
   "file_extension": ".py",
   "mimetype": "text/x-python",
   "name": "python",
   "nbconvert_exporter": "python",
   "pygments_lexer": "ipython3",
   "version": "3.12.9"
  }
 },
 "nbformat": 4,
 "nbformat_minor": 5
}
