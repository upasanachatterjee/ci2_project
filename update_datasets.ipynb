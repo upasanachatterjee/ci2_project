{
 "cells": [
  {
   "cell_type": "code",
   "execution_count": 1,
   "id": "06e5022e",
   "metadata": {},
   "outputs": [],
   "source": [
    "%load_ext autoreload\n",
    "%autoreload 2"
   ]
  },
  {
   "cell_type": "code",
   "execution_count": 84,
   "id": "fcb68751",
   "metadata": {},
   "outputs": [
    {
     "name": "stderr",
     "output_type": "stream",
     "text": [
      "Generating train split: 100%|██████████| 45214/45214 [00:00<00:00, 86378.95 examples/s]"
     ]
    },
    {
     "name": "stdout",
     "output_type": "stream",
     "text": [
      "Loaded dataset: dragonslayer631/ci2_allsides, split: train\n"
     ]
    },
    {
     "name": "stderr",
     "output_type": "stream",
     "text": [
      "\n"
     ]
    }
   ],
   "source": [
    "from utils.ds_utils import load_dataset_from_huggingface\n",
    "\n",
    "ds = load_dataset_from_huggingface()"
   ]
  },
  {
   "cell_type": "code",
   "execution_count": 96,
   "id": "39f68905",
   "metadata": {},
   "outputs": [],
   "source": [
    "from utils.df_utils import load_multiple_csv_to_df\n",
    "\n",
    "\n",
    "files = [\n",
    "    \"data/100/summary_100_sentiment_llama.csv\",\n",
    "    \"data/100/summary_100_sentiment_google.csv\"\n",
    "]\n",
    "\n",
    "df = load_multiple_csv_to_df(paths=files, separator=\"|\")\n",
    "\n",
    "df.drop_duplicates(subset=[\"id\"], inplace=True)\n",
    "df.set_index(\"id\", inplace=True)\n",
    "df.rename(columns={\"entity_sentiments\": \"summary_100_entity_sentiments\"}, inplace=True)"
   ]
  },
  {
   "cell_type": "code",
   "execution_count": 97,
   "id": "a164f18a",
   "metadata": {},
   "outputs": [],
   "source": [
    "df.to_csv(\"data/100/summary_100_sentiment_total.csv\", sep=\"|\", index=True)"
   ]
  },
  {
   "cell_type": "code",
   "execution_count": 76,
   "id": "ff0e9d3d",
   "metadata": {},
   "outputs": [
    {
     "data": {
      "text/plain": [
       "(45212, 1)"
      ]
     },
     "execution_count": 76,
     "metadata": {},
     "output_type": "execute_result"
    }
   ],
   "source": [
    "df.shape"
   ]
  },
  {
   "cell_type": "code",
   "execution_count": 85,
   "id": "274fc92a",
   "metadata": {},
   "outputs": [
    {
     "data": {
      "text/plain": [
       "(45214, 10)"
      ]
     },
     "execution_count": 85,
     "metadata": {},
     "output_type": "execute_result"
    }
   ],
   "source": [
    "ds_df = ds.to_pandas()\n",
    "ds_df.set_index(\"id\", inplace=True)\n",
    "ds_df.shape"
   ]
  },
  {
   "cell_type": "code",
   "execution_count": 62,
   "id": "fd454afd",
   "metadata": {},
   "outputs": [
    {
     "name": "stdout",
     "output_type": "stream",
     "text": [
      "(45214, 8)\n",
      "(45212, 1)\n"
     ]
    }
   ],
   "source": [
    "print(ds_df.shape)\n",
    "print(df.shape)"
   ]
  },
  {
   "cell_type": "code",
   "execution_count": 86,
   "id": "32813d3a",
   "metadata": {},
   "outputs": [
    {
     "data": {
      "text/html": [
       "<div>\n",
       "<style scoped>\n",
       "    .dataframe tbody tr th:only-of-type {\n",
       "        vertical-align: middle;\n",
       "    }\n",
       "\n",
       "    .dataframe tbody tr th {\n",
       "        vertical-align: top;\n",
       "    }\n",
       "\n",
       "    .dataframe thead th {\n",
       "        text-align: right;\n",
       "    }\n",
       "</style>\n",
       "<table border=\"1\" class=\"dataframe\">\n",
       "  <thead>\n",
       "    <tr style=\"text-align: right;\">\n",
       "      <th></th>\n",
       "      <th>topic</th>\n",
       "      <th>tags</th>\n",
       "      <th>text</th>\n",
       "      <th>int_bias</th>\n",
       "      <th>summary_5</th>\n",
       "      <th>summary_50</th>\n",
       "      <th>summary_100</th>\n",
       "      <th>__index_level_0__</th>\n",
       "      <th>text_entity_sentiments</th>\n",
       "      <th>text_topic_to_sentiment</th>\n",
       "    </tr>\n",
       "    <tr>\n",
       "      <th>id</th>\n",
       "      <th></th>\n",
       "      <th></th>\n",
       "      <th></th>\n",
       "      <th></th>\n",
       "      <th></th>\n",
       "      <th></th>\n",
       "      <th></th>\n",
       "      <th></th>\n",
       "      <th></th>\n",
       "      <th></th>\n",
       "    </tr>\n",
       "  </thead>\n",
       "  <tbody>\n",
       "    <tr>\n",
       "      <th>0002a7129f586dc1</th>\n",
       "      <td>economy_and_jobs</td>\n",
       "      <td>Economy And Jobs, Economic Policy, Budget Reco...</td>\n",
       "      <td>We use cookies and similar methods to recogniz...</td>\n",
       "      <td>0</td>\n",
       "      <td>Infrastructure deal could transform America.</td>\n",
       "      <td>This week is pivotal for Biden's $1.2 trillion...</td>\n",
       "      <td>This week marks a crucial juncture for Senate ...</td>\n",
       "      <td>30247</td>\n",
       "      <td>{\"entities\": [{\"entity\": \"President Biden\", \"s...</td>\n",
       "      <td>{\"Economy And Jobs\": 0, \"Economic Policy\": 0, ...</td>\n",
       "    </tr>\n",
       "  </tbody>\n",
       "</table>\n",
       "</div>"
      ],
      "text/plain": [
       "                             topic  ...                            text_topic_to_sentiment\n",
       "id                                  ...                                                   \n",
       "0002a7129f586dc1  economy_and_jobs  ...  {\"Economy And Jobs\": 0, \"Economic Policy\": 0, ...\n",
       "\n",
       "[1 rows x 10 columns]"
      ]
     },
     "execution_count": 86,
     "metadata": {},
     "output_type": "execute_result"
    }
   ],
   "source": [
    "ds_df.head(1)"
   ]
  },
  {
   "cell_type": "code",
   "execution_count": 87,
   "id": "af26057e",
   "metadata": {},
   "outputs": [
    {
     "data": {
      "text/html": [
       "<div>\n",
       "<style scoped>\n",
       "    .dataframe tbody tr th:only-of-type {\n",
       "        vertical-align: middle;\n",
       "    }\n",
       "\n",
       "    .dataframe tbody tr th {\n",
       "        vertical-align: top;\n",
       "    }\n",
       "\n",
       "    .dataframe thead th {\n",
       "        text-align: right;\n",
       "    }\n",
       "</style>\n",
       "<table border=\"1\" class=\"dataframe\">\n",
       "  <thead>\n",
       "    <tr style=\"text-align: right;\">\n",
       "      <th></th>\n",
       "      <th>topic</th>\n",
       "      <th>tags</th>\n",
       "      <th>text</th>\n",
       "      <th>int_bias</th>\n",
       "      <th>summary_5</th>\n",
       "      <th>summary_50</th>\n",
       "      <th>summary_100</th>\n",
       "      <th>__index_level_0__</th>\n",
       "      <th>text_entity_sentiments</th>\n",
       "      <th>text_topic_to_sentiment</th>\n",
       "      <th>summary_100_entity_sentiments</th>\n",
       "    </tr>\n",
       "    <tr>\n",
       "      <th>id</th>\n",
       "      <th></th>\n",
       "      <th></th>\n",
       "      <th></th>\n",
       "      <th></th>\n",
       "      <th></th>\n",
       "      <th></th>\n",
       "      <th></th>\n",
       "      <th></th>\n",
       "      <th></th>\n",
       "      <th></th>\n",
       "      <th></th>\n",
       "    </tr>\n",
       "  </thead>\n",
       "  <tbody>\n",
       "    <tr>\n",
       "      <th>0002a7129f586dc1</th>\n",
       "      <td>economy_and_jobs</td>\n",
       "      <td>Economy And Jobs, Economic Policy, Budget Reco...</td>\n",
       "      <td>We use cookies and similar methods to recogniz...</td>\n",
       "      <td>0</td>\n",
       "      <td>Infrastructure deal could transform America.</td>\n",
       "      <td>This week is pivotal for Biden's $1.2 trillion...</td>\n",
       "      <td>This week marks a crucial juncture for Senate ...</td>\n",
       "      <td>30247</td>\n",
       "      <td>{\"entities\": [{\"entity\": \"President Biden\", \"s...</td>\n",
       "      <td>{\"Economy And Jobs\": 0, \"Economic Policy\": 0, ...</td>\n",
       "      <td>{\"Biden\": 0.6666666666666666, \"America\": 0.5, ...</td>\n",
       "    </tr>\n",
       "    <tr>\n",
       "      <th>0005c1b511659a98</th>\n",
       "      <td>fiscal_cliff</td>\n",
       "      <td>Fiscal Cliff, Banking And Finance, Economy And...</td>\n",
       "      <td>Congress careened over the edge of the fiscal ...</td>\n",
       "      <td>2</td>\n",
       "      <td>Senate passes fiscal cliff deal.</td>\n",
       "      <td>As Congress approached the fiscal cliff, a bip...</td>\n",
       "      <td>At midnight, Congress teetered on the fiscal c...</td>\n",
       "      <td>6104</td>\n",
       "      <td>{\"Obama\": 0.0, \"White House\": 0.0, \"Democrats\"...</td>\n",
       "      <td>{\"Fiscal Cliff\": -0.10000000149011612, \"Bankin...</td>\n",
       "      <td>{\"Congress\": 0.0, \"fiscal cliff\": -0.100000001...</td>\n",
       "    </tr>\n",
       "    <tr>\n",
       "      <th>0006fd160e0839d0</th>\n",
       "      <td>immigration</td>\n",
       "      <td>Immigration</td>\n",
       "      <td>Even before the Trump administration announced...</td>\n",
       "      <td>0</td>\n",
       "      <td>Immigrants fear future under Trump.</td>\n",
       "      <td>In Trump’s America, immigrants face unpreceden...</td>\n",
       "      <td>The Trump administration's immigration policie...</td>\n",
       "      <td>29501</td>\n",
       "      <td>{\"Aurea Galvan\": -0.7, \"Trump\": -0.9, \"Seydi S...</td>\n",
       "      <td>{\"Immigration\": -0.5}</td>\n",
       "      <td>{\"Trump administration\": -0.7, \"Aurea Galvan\":...</td>\n",
       "    </tr>\n",
       "    <tr>\n",
       "      <th>0007f8a47be4b6ee</th>\n",
       "      <td>immigration</td>\n",
       "      <td>Immigration, Crime, Border Crisis, ICE, Migran...</td>\n",
       "      <td>The Trump campaign and allies of the former pr...</td>\n",
       "      <td>0</td>\n",
       "      <td>Trump distorts immigrant crime statistics.</td>\n",
       "      <td>The Trump campaign misuses old Homeland Securi...</td>\n",
       "      <td>The Trump campaign is misleadingly using Homel...</td>\n",
       "      <td>7333</td>\n",
       "      <td>{\"administration\": 0.0, \"Donald Trump\": -0.100...</td>\n",
       "      <td>{\"Immigration\": -0.4000000059604645, \"Crime\": ...</td>\n",
       "      <td>{\"campaign\": 0.0, \"thousands\": 0.0, \"Trump\": 0...</td>\n",
       "    </tr>\n",
       "    <tr>\n",
       "      <th>00083375b852e7ac</th>\n",
       "      <td>elections</td>\n",
       "      <td>Election 2020, Donald Trump, Presidential Elec...</td>\n",
       "      <td>When President Trump speaks in front of some 2...</td>\n",
       "      <td>2</td>\n",
       "      <td>Trump's re-election campaign launches tonight.</td>\n",
       "      <td>As President Trump officially launches his 202...</td>\n",
       "      <td>As President Trump officially kicks off his 20...</td>\n",
       "      <td>18683</td>\n",
       "      <td>{\"Trump\": 0.0, \"campaign\": 0.0, \"re-election c...</td>\n",
       "      <td>{\"Election2020\": 0, \"Donald Trump\": 0.79999998...</td>\n",
       "      <td>{\"Donald Trump\": 0.2, \"Joe Biden\": 0.3, \"Repub...</td>\n",
       "    </tr>\n",
       "  </tbody>\n",
       "</table>\n",
       "</div>"
      ],
      "text/plain": [
       "                             topic  ...                      summary_100_entity_sentiments\n",
       "id                                  ...                                                   \n",
       "0002a7129f586dc1  economy_and_jobs  ...  {\"Biden\": 0.6666666666666666, \"America\": 0.5, ...\n",
       "0005c1b511659a98      fiscal_cliff  ...  {\"Congress\": 0.0, \"fiscal cliff\": -0.100000001...\n",
       "0006fd160e0839d0       immigration  ...  {\"Trump administration\": -0.7, \"Aurea Galvan\":...\n",
       "0007f8a47be4b6ee       immigration  ...  {\"campaign\": 0.0, \"thousands\": 0.0, \"Trump\": 0...\n",
       "00083375b852e7ac         elections  ...  {\"Donald Trump\": 0.2, \"Joe Biden\": 0.3, \"Repub...\n",
       "\n",
       "[5 rows x 11 columns]"
      ]
     },
     "execution_count": 87,
     "metadata": {},
     "output_type": "execute_result"
    }
   ],
   "source": [
    "joined = ds_df.join(df, how=\"outer\")\n",
    "\n",
    "joined.head()"
   ]
  },
  {
   "cell_type": "code",
   "execution_count": 64,
   "id": "24b985cc",
   "metadata": {},
   "outputs": [
    {
     "data": {
      "text/plain": [
       "(45214, 9)"
      ]
     },
     "execution_count": 64,
     "metadata": {},
     "output_type": "execute_result"
    }
   ],
   "source": [
    "joined.shape"
   ]
  },
  {
   "cell_type": "code",
   "execution_count": 90,
   "id": "4fd0d0e9",
   "metadata": {},
   "outputs": [
    {
     "name": "stdout",
     "output_type": "stream",
     "text": [
      "(45036, 1)\n"
     ]
    }
   ],
   "source": [
    "import pandas as pd\n",
    "\n",
    "df = pd.read_csv(\"data/100/summary_100_topic_to_sim.csv\", sep=\"|\")\n",
    "df.drop_duplicates(subset=[\"id\"], inplace=True)\n",
    "df.set_index(\"id\", inplace=True)\n",
    "df.rename(columns={\"topic_to_sentiment\": \"summary_100_topic_to_sentiment\"}, inplace=True)\n",
    "print(df.shape)"
   ]
  },
  {
   "cell_type": "code",
   "execution_count": 91,
   "id": "3b7e8dbb",
   "metadata": {},
   "outputs": [],
   "source": [
    "joined = joined.join(df, how=\"outer\")"
   ]
  },
  {
   "cell_type": "code",
   "execution_count": 93,
   "id": "2619f414",
   "metadata": {},
   "outputs": [],
   "source": [
    "joined.drop(columns=[\"__index_level_0__\"], inplace=True)"
   ]
  },
  {
   "cell_type": "code",
   "execution_count": 94,
   "id": "e89e58d4",
   "metadata": {},
   "outputs": [
    {
     "data": {
      "text/html": [
       "<div>\n",
       "<style scoped>\n",
       "    .dataframe tbody tr th:only-of-type {\n",
       "        vertical-align: middle;\n",
       "    }\n",
       "\n",
       "    .dataframe tbody tr th {\n",
       "        vertical-align: top;\n",
       "    }\n",
       "\n",
       "    .dataframe thead th {\n",
       "        text-align: right;\n",
       "    }\n",
       "</style>\n",
       "<table border=\"1\" class=\"dataframe\">\n",
       "  <thead>\n",
       "    <tr style=\"text-align: right;\">\n",
       "      <th></th>\n",
       "      <th>topic</th>\n",
       "      <th>tags</th>\n",
       "      <th>text</th>\n",
       "      <th>int_bias</th>\n",
       "      <th>summary_5</th>\n",
       "      <th>summary_50</th>\n",
       "      <th>summary_100</th>\n",
       "      <th>text_entity_sentiments</th>\n",
       "      <th>text_topic_to_sentiment</th>\n",
       "      <th>summary_100_entity_sentiments</th>\n",
       "      <th>summary_100_topic_to_sentiment</th>\n",
       "    </tr>\n",
       "    <tr>\n",
       "      <th>id</th>\n",
       "      <th></th>\n",
       "      <th></th>\n",
       "      <th></th>\n",
       "      <th></th>\n",
       "      <th></th>\n",
       "      <th></th>\n",
       "      <th></th>\n",
       "      <th></th>\n",
       "      <th></th>\n",
       "      <th></th>\n",
       "      <th></th>\n",
       "    </tr>\n",
       "  </thead>\n",
       "  <tbody>\n",
       "    <tr>\n",
       "      <th>0002a7129f586dc1</th>\n",
       "      <td>economy_and_jobs</td>\n",
       "      <td>Economy And Jobs, Economic Policy, Budget Reco...</td>\n",
       "      <td>We use cookies and similar methods to recogniz...</td>\n",
       "      <td>0</td>\n",
       "      <td>Infrastructure deal could transform America.</td>\n",
       "      <td>This week is pivotal for Biden's $1.2 trillion...</td>\n",
       "      <td>This week marks a crucial juncture for Senate ...</td>\n",
       "      <td>{\"entities\": [{\"entity\": \"President Biden\", \"s...</td>\n",
       "      <td>{\"Economy And Jobs\": 0, \"Economic Policy\": 0, ...</td>\n",
       "      <td>{\"Biden\": 0.6666666666666666, \"America\": 0.5, ...</td>\n",
       "      <td>{\"Economy And Jobs\": 0, \"Economic Policy\": 0, ...</td>\n",
       "    </tr>\n",
       "    <tr>\n",
       "      <th>0005c1b511659a98</th>\n",
       "      <td>fiscal_cliff</td>\n",
       "      <td>Fiscal Cliff, Banking And Finance, Economy And...</td>\n",
       "      <td>Congress careened over the edge of the fiscal ...</td>\n",
       "      <td>2</td>\n",
       "      <td>Senate passes fiscal cliff deal.</td>\n",
       "      <td>As Congress approached the fiscal cliff, a bip...</td>\n",
       "      <td>At midnight, Congress teetered on the fiscal c...</td>\n",
       "      <td>{\"Obama\": 0.0, \"White House\": 0.0, \"Democrats\"...</td>\n",
       "      <td>{\"Fiscal Cliff\": -0.10000000149011612, \"Bankin...</td>\n",
       "      <td>{\"Congress\": 0.0, \"fiscal cliff\": -0.100000001...</td>\n",
       "      <td>{\"Fiscal Cliff\": 0.20000000298023224, \"Banking...</td>\n",
       "    </tr>\n",
       "    <tr>\n",
       "      <th>0006fd160e0839d0</th>\n",
       "      <td>immigration</td>\n",
       "      <td>Immigration</td>\n",
       "      <td>Even before the Trump administration announced...</td>\n",
       "      <td>0</td>\n",
       "      <td>Immigrants fear future under Trump.</td>\n",
       "      <td>In Trump’s America, immigrants face unpreceden...</td>\n",
       "      <td>The Trump administration's immigration policie...</td>\n",
       "      <td>{\"Aurea Galvan\": -0.7, \"Trump\": -0.9, \"Seydi S...</td>\n",
       "      <td>{\"Immigration\": -0.5}</td>\n",
       "      <td>{\"Trump administration\": -0.7, \"Aurea Galvan\":...</td>\n",
       "      <td>{\"Immigration\": -0.7}</td>\n",
       "    </tr>\n",
       "    <tr>\n",
       "      <th>0007f8a47be4b6ee</th>\n",
       "      <td>immigration</td>\n",
       "      <td>Immigration, Crime, Border Crisis, ICE, Migran...</td>\n",
       "      <td>The Trump campaign and allies of the former pr...</td>\n",
       "      <td>0</td>\n",
       "      <td>Trump distorts immigrant crime statistics.</td>\n",
       "      <td>The Trump campaign misuses old Homeland Securi...</td>\n",
       "      <td>The Trump campaign is misleadingly using Homel...</td>\n",
       "      <td>{\"administration\": 0.0, \"Donald Trump\": -0.100...</td>\n",
       "      <td>{\"Immigration\": -0.4000000059604645, \"Crime\": ...</td>\n",
       "      <td>{\"campaign\": 0.0, \"thousands\": 0.0, \"Trump\": 0...</td>\n",
       "      <td>{\"Immigration\": 0, \"Crime\": 0, \"Border Crisis\"...</td>\n",
       "    </tr>\n",
       "    <tr>\n",
       "      <th>00083375b852e7ac</th>\n",
       "      <td>elections</td>\n",
       "      <td>Election 2020, Donald Trump, Presidential Elec...</td>\n",
       "      <td>When President Trump speaks in front of some 2...</td>\n",
       "      <td>2</td>\n",
       "      <td>Trump's re-election campaign launches tonight.</td>\n",
       "      <td>As President Trump officially launches his 202...</td>\n",
       "      <td>As President Trump officially kicks off his 20...</td>\n",
       "      <td>{\"Trump\": 0.0, \"campaign\": 0.0, \"re-election c...</td>\n",
       "      <td>{\"Election2020\": 0, \"Donald Trump\": 0.79999998...</td>\n",
       "      <td>{\"Donald Trump\": 0.2, \"Joe Biden\": 0.3, \"Repub...</td>\n",
       "      <td>{\"Election2020\": 0, \"Donald Trump\": 0.2, \"Pres...</td>\n",
       "    </tr>\n",
       "  </tbody>\n",
       "</table>\n",
       "</div>"
      ],
      "text/plain": [
       "                             topic  ...                     summary_100_topic_to_sentiment\n",
       "id                                  ...                                                   \n",
       "0002a7129f586dc1  economy_and_jobs  ...  {\"Economy And Jobs\": 0, \"Economic Policy\": 0, ...\n",
       "0005c1b511659a98      fiscal_cliff  ...  {\"Fiscal Cliff\": 0.20000000298023224, \"Banking...\n",
       "0006fd160e0839d0       immigration  ...                              {\"Immigration\": -0.7}\n",
       "0007f8a47be4b6ee       immigration  ...  {\"Immigration\": 0, \"Crime\": 0, \"Border Crisis\"...\n",
       "00083375b852e7ac         elections  ...  {\"Election2020\": 0, \"Donald Trump\": 0.2, \"Pres...\n",
       "\n",
       "[5 rows x 11 columns]"
      ]
     },
     "execution_count": 94,
     "metadata": {},
     "output_type": "execute_result"
    }
   ],
   "source": [
    "joined.head()"
   ]
  },
  {
   "cell_type": "code",
   "execution_count": 95,
   "id": "17f74537",
   "metadata": {},
   "outputs": [
    {
     "name": "stderr",
     "output_type": "stream",
     "text": [
      "Creating parquet from Arrow format: 100%|██████████| 46/46 [00:01<00:00, 28.31ba/s]\n",
      "Uploading the dataset shards: 100%|██████████| 1/1 [02:59<00:00, 179.22s/it]\n"
     ]
    },
    {
     "name": "stdout",
     "output_type": "stream",
     "text": [
      "Saved DataFrame to Hugging Face: dragonslayer631/ci2_allsides, split: train\n"
     ]
    }
   ],
   "source": [
    "from utils.ds_utils import save_dataframe_to_huggingface\n",
    "\n",
    "save_dataframe_to_huggingface(joined)\n",
    "\n"
   ]
  }
 ],
 "metadata": {
  "kernelspec": {
   "display_name": ".venv",
   "language": "python",
   "name": "python3"
  },
  "language_info": {
   "codemirror_mode": {
    "name": "ipython",
    "version": 3
   },
   "file_extension": ".py",
   "mimetype": "text/x-python",
   "name": "python",
   "nbconvert_exporter": "python",
   "pygments_lexer": "ipython3",
   "version": "3.12.8"
  }
 },
 "nbformat": 4,
 "nbformat_minor": 5
}
