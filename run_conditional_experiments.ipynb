{
 "cells": [
  {
   "cell_type": "code",
   "execution_count": 29,
   "id": "4eac5ab6",
   "metadata": {},
   "outputs": [],
   "source": [
    "%load_ext autoreload\n",
    "%autoreload 2"
   ]
  },
  {
   "cell_type": "code",
   "execution_count": 24,
   "id": "a0b6af40",
   "metadata": {},
   "outputs": [],
   "source": [
    "from xgboost import XGBClassifier\n",
    "text_model = XGBClassifier()\n",
    "text_model.load_model(\"models/xgb_text_softprob.json\")\n",
    "summary_100_model = XGBClassifier()\n",
    "summary_100_model.load_model(\"models/xgb_summary_100_softprob.json\")\n",
    "summary_50_model = XGBClassifier()\n",
    "summary_50_model.load_model(\"models/xgb_summary_50_softprob.json\")"
   ]
  },
  {
   "cell_type": "code",
   "execution_count": 26,
   "id": "3eac67ab",
   "metadata": {},
   "outputs": [],
   "source": [
    "import pandas as pd\n",
    "summary_50_df = pd.read_parquet(\"df/summary_50_test_df_x.gzip\")\n",
    "summary_100_df = pd.read_parquet(\"df/summary_100_test_df_x.gzip\")\n",
    "text_df = pd.read_parquet(\"df/text_test_df_x.gzip\")"
   ]
  },
  {
   "cell_type": "code",
   "execution_count": 32,
   "id": "b5edfac3",
   "metadata": {},
   "outputs": [],
   "source": [
    "from utils.experiment_helpers import compare_grouped_feature_importance, compare_within_group_feature_importance"
   ]
  },
  {
   "cell_type": "code",
   "execution_count": 35,
   "id": "d873fbcc",
   "metadata": {},
   "outputs": [
    {
     "name": "stdout",
     "output_type": "stream",
     "text": [
      "Full Text\n",
      "100 Word Summary\n",
      "50 Word Summary\n"
     ]
    },
    {
     "data": {
      "text/plain": [
       "{'Full Text': {'Text': 1786.8720687627792,\n",
       "  'Tag': 78.46708473563194,\n",
       "  'Sentiment': 41.378151178359985},\n",
       " '100 Word Summary': {'Text': 2117.311406850815,\n",
       "  'Tag': 103.46541285514832,\n",
       "  'Sentiment': 81.84758579730988},\n",
       " '50 Word Summary': {'Text': 2152.262711405754,\n",
       "  'Tag': 105.55551087856293,\n",
       "  'Sentiment': 84.40316951274872}}"
      ]
     },
     "execution_count": 35,
     "metadata": {},
     "output_type": "execute_result"
    }
   ],
   "source": [
    "compare_grouped_feature_importance(\n",
    "    models=[text_model, summary_100_model, summary_50_model],\n",
    "    group_prefixes={\n",
    "        \"sentiment\": \"Sentiment\",\n",
    "        \"topic\": \"Tag\"\n",
    "    },\n",
    "    model_names=[\"Full Text\", \"100 Word Summary\", \"50 Word Summary\"],\n",
    "    importance_type='gain',\n",
    "    output_dir='plots/feature_group_gain'\n",
    ")"
   ]
  },
  {
   "cell_type": "code",
   "execution_count": 57,
   "id": "b2ec601e",
   "metadata": {},
   "outputs": [],
   "source": [
    "res = compare_within_group_feature_importance(\n",
    "    models=[text_model, summary_100_model, summary_50_model],\n",
    "    group_prefix=\"sentiment\",\n",
    "    model_names=[\"Full Text\", \"100 Word Summary\", \"50 Word Summary\"],\n",
    "    output_dir='plots/within_group_feature_importance',\n",
    "    importance_type='cover'\n",
    ")\n",
    "\n",
    "#res.to_csv(\"features/sentiments/gain.csv\")"
   ]
  },
  {
   "cell_type": "code",
   "execution_count": 58,
   "id": "e7ec2b18",
   "metadata": {},
   "outputs": [],
   "source": [
    "sentiments = list(res.index)"
   ]
  },
  {
   "cell_type": "code",
   "execution_count": 66,
   "id": "7c2cb398",
   "metadata": {},
   "outputs": [],
   "source": [
    "import os \n",
    "import pandas as pd\n",
    "import matplotlib.pyplot as plt\n",
    "from xgboost import XGBClassifier\n",
    "import numpy as np\n",
    "\n",
    "def compute_total_effect_multiclass_per_treatment(\n",
    "    model: XGBClassifier,\n",
    "    df: pd.DataFrame,\n",
    "    treatment_cols: list[str],\n",
    "    plot_name: str,\n",
    "    plot_path='plots',\n",
    "    class_labels=[\"Left\", \"Center\", \"Right\"],\n",
    "    low_q=0.10,\n",
    "    high_q=0.90,\n",
    "):\n",
    "    result = {}\n",
    "\n",
    "    assert all(f in df.columns for f in model.feature_names_in_), \"Mismatch in required feature columns\"\n",
    "\n",
    "    required_features = list(model.feature_names_in_)\n",
    "\n",
    "    for t_col in treatment_cols:\n",
    "        df_copy = df[df[t_col] != 0]\n",
    "\n",
    "        confounders = list(df_copy.columns)\n",
    "        confounders.remove(t_col)\n",
    "        \n",
    "        x_low = -1\n",
    "        x_high = 1\n",
    "\n",
    "        features = [t_col] + confounders\n",
    "        \n",
    "        df_low = df_copy[features].copy()        \n",
    "        df_high = df_copy[features].copy()\n",
    "        \n",
    "        df_low[t_col] = x_low\n",
    "        df_high[t_col] = x_high\n",
    "\n",
    "        X_low = df_low[required_features]\n",
    "        X_high = df_high[required_features]\n",
    "\n",
    "        probs_low = model.predict_proba(X_low)\n",
    "        probs_high = model.predict_proba(X_high)\n",
    "\n",
    "        TE_diffs = probs_high - probs_low              # shape: (n_samples, n_classes)\n",
    "\n",
    "        try:\n",
    "            TE_means = TE_diffs.mean(axis=0)               # mean TE per class\n",
    "            TE_q25 = np.percentile(TE_diffs, 25, axis=0)\n",
    "            TE_q75 = np.percentile(TE_diffs, 75, axis=0)\n",
    "\n",
    "            result[t_col] = {\n",
    "                \"mean\": dict(zip(class_labels, TE_means)),\n",
    "                \"q25\": dict(zip(class_labels, TE_q25)),\n",
    "                \"q75\": dict(zip(class_labels, TE_q75))\n",
    "            }\n",
    "        except:\n",
    "            print(f\"error on column = \", t_col)\n",
    "            continue\n",
    "\n",
    "    plot_path = f\"{plot_path}/{plot_name}.png\"\n",
    "    x = np.arange(len(class_labels))\n",
    "    width = 0.8 / len(treatment_cols)\n",
    "\n",
    "    plt.figure(figsize=(10, 6))\n",
    "    for i, t_col in enumerate(treatment_cols):\n",
    "        offsets = x + (i - len(treatment_cols)/2) * width + width/2\n",
    "        means = [result[t_col][\"mean\"][cls] for cls in class_labels]\n",
    "        errs_lower = []\n",
    "        errs_upper = []\n",
    "\n",
    "        for cls in class_labels:\n",
    "            mean = result[t_col][\"mean\"][cls]\n",
    "            q25 = result[t_col][\"q25\"][cls]\n",
    "            q75 = result[t_col][\"q75\"][cls]\n",
    "\n",
    "            err_low = mean - q25\n",
    "            err_high = q75 - mean\n",
    "\n",
    "            if err_low < 0:\n",
    "                print(f\"[Warning] Lower whisker negative for class '{cls}' and treatment '{t_col}'. Clipped to 0.\")\n",
    "                err_low = 0.0\n",
    "            if err_high < 0:\n",
    "                print(f\"[Warning] Upper whisker negative for class '{cls}' and treatment '{t_col}'. Clipped to 0.\")\n",
    "                err_high = 0.0\n",
    "\n",
    "            errs_lower.append(err_low)\n",
    "            errs_upper.append(err_high)\n",
    "\n",
    "        yerr = [errs_lower, errs_upper]\n",
    "\n",
    "        plt.bar(offsets, means, width=width, yerr=yerr, capsize=4, label=t_col)\n",
    "\n",
    "    plt.xticks(x, class_labels)\n",
    "    plt.axhline(0, color='black', linewidth=0.8)\n",
    "    plt.title(f\"Total Effect of Each Treatment (-1 → +1)\")\n",
    "    plt.ylabel(\"Mean Δ Predicted Probability (with IQR whiskers)\")\n",
    "    plt.legend(title=\"Treatment\", loc='center left', bbox_to_anchor=(1, 0.5))\n",
    "    plt.tight_layout()\n",
    "    plt.grid(True, linestyle=\"--\", alpha=0.5)\n",
    "    plt.savefig(plot_path)\n",
    "    plt.close()\n",
    "\n",
    "\n",
    "    return result\n"
   ]
  },
  {
   "cell_type": "code",
   "execution_count": 67,
   "id": "aed21f64",
   "metadata": {},
   "outputs": [
    {
     "name": "stderr",
     "output_type": "stream",
     "text": [
      "/var/folders/fz/y03qr7rx39zcncb4x6fsnclm0000gn/T/ipykernel_4859/576669214.py:49: RuntimeWarning: Mean of empty slice.\n",
      "  TE_means = TE_diffs.mean(axis=0)               # mean TE per class\n",
      "/opt/homebrew/anaconda3/envs/conda_env/lib/python3.12/site-packages/numpy/core/_methods.py:121: RuntimeWarning: invalid value encountered in divide\n",
      "  ret = um.true_divide(\n"
     ]
    },
    {
     "name": "stdout",
     "output_type": "stream",
     "text": [
      "error on column =  sentiment Election 2012\n"
     ]
    },
    {
     "ename": "KeyError",
     "evalue": "'sentiment Election 2012'",
     "output_type": "error",
     "traceback": [
      "\u001b[31m---------------------------------------------------------------------------\u001b[39m",
      "\u001b[31mKeyError\u001b[39m                                  Traceback (most recent call last)",
      "\u001b[36mCell\u001b[39m\u001b[36m \u001b[39m\u001b[32mIn[67]\u001b[39m\u001b[32m, line 1\u001b[39m\n\u001b[32m----> \u001b[39m\u001b[32m1\u001b[39m \u001b[43mcompute_total_effect_multiclass_per_treatment\u001b[49m\u001b[43m(\u001b[49m\n\u001b[32m      2\u001b[39m \u001b[43m    \u001b[49m\u001b[43mmodel\u001b[49m\u001b[43m=\u001b[49m\u001b[43mtext_model\u001b[49m\u001b[43m,\u001b[49m\n\u001b[32m      3\u001b[39m \u001b[43m    \u001b[49m\u001b[43mdf\u001b[49m\u001b[43m=\u001b[49m\u001b[43mtext_df\u001b[49m\u001b[43m,\u001b[49m\n\u001b[32m      4\u001b[39m \u001b[43m    \u001b[49m\u001b[43mtreatment_cols\u001b[49m\u001b[43m=\u001b[49m\u001b[43msentiments\u001b[49m\u001b[43m,\u001b[49m\n\u001b[32m      5\u001b[39m \u001b[43m    \u001b[49m\u001b[43mplot_name\u001b[49m\u001b[43m=\u001b[49m\u001b[33;43m\"\u001b[39;49m\u001b[33;43mTE_top_sentiments_cover_text\u001b[39;49m\u001b[33;43m\"\u001b[39;49m\u001b[43m,\u001b[49m\n\u001b[32m      6\u001b[39m \u001b[43m    \u001b[49m\u001b[43mplot_path\u001b[49m\u001b[43m=\u001b[49m\u001b[33;43m\"\u001b[39;49m\u001b[33;43mplots/TE_calculations\u001b[39;49m\u001b[33;43m\"\u001b[39;49m\n\u001b[32m      7\u001b[39m \u001b[43m)\u001b[49m\n\u001b[32m      8\u001b[39m compute_total_effect_multiclass_per_treatment(\n\u001b[32m      9\u001b[39m     model=summary_100_model,\n\u001b[32m     10\u001b[39m     df=summary_100_df,\n\u001b[32m   (...)\u001b[39m\u001b[32m     13\u001b[39m     plot_path=\u001b[33m\"\u001b[39m\u001b[33mplots/TE_calculations\u001b[39m\u001b[33m\"\u001b[39m\n\u001b[32m     14\u001b[39m )\n\u001b[32m     15\u001b[39m compute_total_effect_multiclass_per_treatment(\n\u001b[32m     16\u001b[39m     model=summary_50_model,\n\u001b[32m     17\u001b[39m     df=summary_50_df,\n\u001b[32m   (...)\u001b[39m\u001b[32m     20\u001b[39m     plot_path=\u001b[33m\"\u001b[39m\u001b[33mplots/TE_calculations\u001b[39m\u001b[33m\"\u001b[39m\n\u001b[32m     21\u001b[39m )\n",
      "\u001b[36mCell\u001b[39m\u001b[36m \u001b[39m\u001b[32mIn[66]\u001b[39m\u001b[32m, line 69\u001b[39m, in \u001b[36mcompute_total_effect_multiclass_per_treatment\u001b[39m\u001b[34m(model, df, treatment_cols, plot_name, plot_path, class_labels, low_q, high_q)\u001b[39m\n\u001b[32m     67\u001b[39m \u001b[38;5;28;01mfor\u001b[39;00m i, t_col \u001b[38;5;129;01min\u001b[39;00m \u001b[38;5;28menumerate\u001b[39m(treatment_cols):\n\u001b[32m     68\u001b[39m     offsets = x + (i - \u001b[38;5;28mlen\u001b[39m(treatment_cols)/\u001b[32m2\u001b[39m) * width + width/\u001b[32m2\u001b[39m\n\u001b[32m---> \u001b[39m\u001b[32m69\u001b[39m     means = [\u001b[43mresult\u001b[49m\u001b[43m[\u001b[49m\u001b[43mt_col\u001b[49m\u001b[43m]\u001b[49m[\u001b[33m\"\u001b[39m\u001b[33mmean\u001b[39m\u001b[33m\"\u001b[39m][\u001b[38;5;28mcls\u001b[39m] \u001b[38;5;28;01mfor\u001b[39;00m \u001b[38;5;28mcls\u001b[39m \u001b[38;5;129;01min\u001b[39;00m class_labels]\n\u001b[32m     70\u001b[39m     errs_lower = []\n\u001b[32m     71\u001b[39m     errs_upper = []\n",
      "\u001b[31mKeyError\u001b[39m: 'sentiment Election 2012'"
     ]
    },
    {
     "data": {
      "image/png": "[encoded data removed]",
      "text/plain": [
       "<Figure size 1000x600 with 1 Axes>"
      ]
     },
     "metadata": {},
     "output_type": "display_data"
    }
   ],
   "source": [
    "compute_total_effect_multiclass_per_treatment(\n",
    "    model=text_model,\n",
    "    df=text_df,\n",
    "    treatment_cols=sentiments,\n",
    "    plot_name=\"TE_top_sentiments_cover_text\",\n",
    "    plot_path=\"plots/TE_calculations\"\n",
    ")\n",
    "compute_total_effect_multiclass_per_treatment(\n",
    "    model=summary_100_model,\n",
    "    df=summary_100_df,\n",
    "    treatment_cols=sentiments,\n",
    "    plot_name=\"TE_top_sentiments_cover_summary_100\",\n",
    "    plot_path=\"plots/TE_calculations\"\n",
    ")\n",
    "compute_total_effect_multiclass_per_treatment(\n",
    "    model=summary_50_model,\n",
    "    df=summary_50_df,\n",
    "    treatment_cols=sentiments,\n",
    "    plot_name=\"TE_top_sentiments_cover_summary_50\",\n",
    "    plot_path=\"plots/TE_calculations\"\n",
    ")\n",
    "\n",
    "res"
   ]
  }
 ],
 "metadata": {
  "kernelspec": {
   "display_name": "conda_env",
   "language": "python",
   "name": "python3"
  },
  "language_info": {
   "codemirror_mode": {
    "name": "ipython",
    "version": 3
   },
   "file_extension": ".py",
   "mimetype": "text/x-python",
   "name": "python",
   "nbconvert_exporter": "python",
   "pygments_lexer": "ipython3",
   "version": "3.12.9"
  }
 },
 "nbformat": 4,
 "nbformat_minor": 5
}
