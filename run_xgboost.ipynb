{
 "cells": [
  {
   "cell_type": "code",
   "execution_count": 1,
   "id": "a6521ec1",
   "metadata": {},
   "outputs": [
    {
     "name": "stderr",
     "output_type": "stream",
     "text": [
      "/Users/upasana/code/playground/ci2_proj/.venv/lib/python3.12/site-packages/tqdm/auto.py:21: TqdmWarning: IProgress not found. Please update jupyter and ipywidgets. See https://ipywidgets.readthedocs.io/en/stable/user_install.html\n",
      "  from .autonotebook import tqdm as notebook_tqdm\n"
     ]
    }
   ],
   "source": [
    "from huggingface_hub import login\n",
    "from datasets import load_dataset\n",
    "import os\n",
    "\n",
    "login(os.getenv(\"hf_token\"))\n",
    "\n",
    "train = load_dataset(\"dragonslayer631/ci2_allsides\", split=\"train\")\n",
    "test = load_dataset(\"dragonslayer631/ci2_allsides\", split=\"test\")\n",
    "\n",
    "train = train.to_pandas()\n",
    "test = test.to_pandas()"
   ]
  },
  {
   "cell_type": "code",
   "execution_count": 2,
   "id": "4ba5fc48",
   "metadata": {},
   "outputs": [
    {
     "data": {
      "text/plain": [
       "'cpu'"
      ]
     },
     "execution_count": 2,
     "metadata": {},
     "output_type": "execute_result"
    }
   ],
   "source": [
    "import torch\n",
    "\n",
    "device = 'cuda' if torch.cuda.is_available() else 'cpu'\n",
    "device"
   ]
  },
  {
   "cell_type": "code",
   "execution_count": 3,
   "id": "74f52d25",
   "metadata": {},
   "outputs": [],
   "source": [
    "import pandas as pd\n",
    "from sklearn.metrics import classification_report"
   ]
  },
  {
   "cell_type": "code",
   "execution_count": 52,
   "id": "0e6f1559",
   "metadata": {},
   "outputs": [
    {
     "data": {
      "text/plain": [
       "(45089, 47)"
      ]
     },
     "execution_count": 52,
     "metadata": {},
     "output_type": "execute_result"
    }
   ],
   "source": [
    "joined = pd.concat([train, test], axis=0)\n",
    "\n",
    "joined.shape"
   ]
  },
  {
   "cell_type": "code",
   "execution_count": 53,
   "id": "9e8c1bfc",
   "metadata": {},
   "outputs": [
    {
     "data": {
      "text/plain": [
       "Index(['topic', 'tags', 'text', 'int_bias', 'summary_5', 'summary_50',\n",
       "       'summary_100', 'text_entity_sentiments', 'text_topic_to_sentiment',\n",
       "       'summary_100_entity_sentiments', 'summary_100_topic_to_sentiment',\n",
       "       'summary_50_entity_sentiments', 'summary_50_topic_to_sentiment', 'id',\n",
       "       'text_encoded', 'summary_100_encoded', 'summary_50_encoded',\n",
       "       'text_topic_0', 'text_sentiment_0', 'text_topic_1', 'text_sentiment_1',\n",
       "       'text_topic_2', 'text_sentiment_2', 'text_topic_3', 'text_sentiment_3',\n",
       "       'text_topic_4', 'text_sentiment_4', 'summary_100_topic_0',\n",
       "       'summary_100_sentiment_0', 'summary_100_topic_1',\n",
       "       'summary_100_sentiment_1', 'summary_100_topic_2',\n",
       "       'summary_100_sentiment_2', 'summary_100_topic_3',\n",
       "       'summary_100_sentiment_3', 'summary_100_topic_4',\n",
       "       'summary_100_sentiment_4', 'summary_50_topic_0',\n",
       "       'summary_50_sentiment_0', 'summary_50_topic_1',\n",
       "       'summary_50_sentiment_1', 'summary_50_topic_2',\n",
       "       'summary_50_sentiment_2', 'summary_50_topic_3',\n",
       "       'summary_50_sentiment_3', 'summary_50_topic_4',\n",
       "       'summary_50_sentiment_4'],\n",
       "      dtype='object')"
      ]
     },
     "execution_count": 53,
     "metadata": {},
     "output_type": "execute_result"
    }
   ],
   "source": [
    "joined.columns"
   ]
  },
  {
   "cell_type": "code",
   "execution_count": null,
   "id": "5e567332",
   "metadata": {},
   "outputs": [],
   "source": [
    "from utils.df_utils import expand_columns, keep_columns_related_to"
   ]
  },
  {
   "cell_type": "code",
   "execution_count": null,
   "id": "346a3243",
   "metadata": {},
   "outputs": [],
   "source": [
    "joined = keep_columns_related_to(joined, \"text\")"
   ]
  },
  {
   "cell_type": "code",
   "execution_count": null,
   "id": "3a725c63",
   "metadata": {},
   "outputs": [],
   "source": [
    "joined = expand_columns(\n",
    "    joined, \n",
    "    topic_columns=['text_topic_0', 'text_topic_1', 'text_topic_2', 'text_topic_3', 'text_topic_4'], \n",
    "    sentiment_columns=['text_sentiment_0', 'text_sentiment_1', 'text_sentiment_2', 'text_sentiment_3', 'text_sentiment_4'], \n",
    "    encoded_text_column='text_encoded'\n",
    ")"
   ]
  },
  {
   "cell_type": "code",
   "execution_count": 60,
   "id": "2c210988",
   "metadata": {},
   "outputs": [
    {
     "name": "stdout",
     "output_type": "stream",
     "text": [
      "(36071, 5658) (36071, 1) (9018, 5658) (9018, 1)\n"
     ]
    }
   ],
   "source": [
    "# split back into test and train\n",
    "\n",
    "train_idx = train.index\n",
    "test_idx = test.index\n",
    "\n",
    "X_train = joined.loc[train_idx]\n",
    "Y_train = X_train[['int_bias']]\n",
    "X_train.drop([\"int_bias\"], axis=1, inplace=True)\n",
    "\n",
    "X_test = joined.loc[test_idx]\n",
    "Y_test = X_test[['int_bias']]\n",
    "X_test.drop([\"int_bias\"], axis=1, inplace=True)\n",
    "\n",
    "X_train = X_train.convert_dtypes()\n",
    "X_test = X_test.convert_dtypes()\n",
    "Y_test = Y_test.convert_dtypes()\n",
    "Y_train = Y_train.convert_dtypes()\n",
    "\n",
    "\n",
    "\n",
    "print(X_train.shape, Y_train.shape, X_test.shape, Y_test.shape)"
   ]
  },
  {
   "cell_type": "code",
   "execution_count": 61,
   "id": "69f78cb2",
   "metadata": {},
   "outputs": [
    {
     "name": "stderr",
     "output_type": "stream",
     "text": [
      "/Users/upasana/code/playground/ci2_proj/.venv/lib/python3.12/site-packages/xgboost/training.py:183: UserWarning: [21:28:06] WARNING: /Users/runner/work/xgboost/xgboost/src/learner.cc:738: \n",
      "Parameters: { \"predictor\", \"use_label_encoder\" } are not used.\n",
      "\n",
      "  bst.update(dtrain, iteration=i, fobj=obj)\n"
     ]
    },
    {
     "name": "stdout",
     "output_type": "stream",
     "text": [
      "              precision    recall  f1-score   support\n",
      "\n",
      "         0.0     1.0000    0.9997    0.9999      3677\n",
      "         1.0     0.9995    1.0000    0.9998      2208\n",
      "         2.0     1.0000    1.0000    1.0000      3133\n",
      "\n",
      "    accuracy                         0.9999      9018\n",
      "   macro avg     0.9998    0.9999    0.9999      9018\n",
      "weighted avg     0.9999    0.9999    0.9999      9018\n",
      "\n"
     ]
    }
   ],
   "source": [
    "from xgboost import XGBClassifier\n",
    "\n",
    "model = XGBClassifier(\n",
    "    objective='multi:softprob',  # outputs class probabilities\n",
    "    num_class=3,\n",
    "    max_depth=8,                # Avoid extreme depth like 128\n",
    "    tree_method='hist',     # Use GPU if available\n",
    "    predictor='gpu_predictor',  # Use GPU for inference\n",
    "    use_label_encoder=False,    # suppress warning\n",
    "    eval_metric='mlogloss',\n",
    "    device=device\n",
    ")\n",
    "\n",
    "model.fit(X_train, Y_train)\n",
    "\n",
    "# # Predict probabilities for each class\n",
    "# probs = model.predict_proba(X_test_updated)\n",
    "\n",
    "# Predict class labels\n",
    "preds = model.predict(X_test)\n",
    "\n",
    "print(classification_report(Y_test, preds, digits=4))"
   ]
  },
  {
   "cell_type": "code",
   "execution_count": 62,
   "id": "02c22de0-ab28-4e4c-80dd-aadd8ff9bfb9",
   "metadata": {},
   "outputs": [],
   "source": [
    "model.save_model(\"models/xgb_text_softprob.json\")  # or .bin"
   ]
  }
 ],
 "metadata": {
  "kernelspec": {
   "display_name": ".venv",
   "language": "python",
   "name": "python3"
  },
  "language_info": {
   "codemirror_mode": {
    "name": "ipython",
    "version": 3
   },
   "file_extension": ".py",
   "mimetype": "text/x-python",
   "name": "python",
   "nbconvert_exporter": "python",
   "pygments_lexer": "ipython3",
   "version": "3.12.8"
  }
 },
 "nbformat": 4,
 "nbformat_minor": 5
}
